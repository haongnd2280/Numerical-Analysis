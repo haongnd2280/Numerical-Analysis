{
 "cells": [
  {
   "cell_type": "code",
   "execution_count": 29,
   "metadata": {},
   "outputs": [
    {
     "name": "stdout",
     "output_type": "stream",
     "text": [
      "[ 5.  3. -2.]\n"
     ]
    }
   ],
   "source": [
    "import numpy as np \n",
    "import matplotlib.pyplot as plt\n",
    "\n",
    "A = np.array([[4, 3, 2], [-2, 2, 3], [3, -5, 2]])\n",
    "B = np.array([25, -10, -4])\n",
    "X2 = np.linalg.solve(A,B)\n",
    "\n",
    "print(X2)"
   ]
  },
  {
   "cell_type": "code",
   "execution_count": 30,
   "metadata": {},
   "outputs": [],
   "source": [
    "def polyEval(x, Pn): \n",
    "    Q = []            \n",
    "    Q.append(Pn[0])    \n",
    "    for i in range(1, len(Pn)): \n",
    "        y = Pn[i] + Q[i - 1] * x \n",
    "        Q.append(y)\n",
    "        \n",
    "    return y"
   ]
  },
  {
   "cell_type": "code",
   "execution_count": 55,
   "metadata": {},
   "outputs": [],
   "source": [
    "def main(X, Y, m): \n",
    "    n = len(X)\n",
    "    \n",
    "    A = []\n",
    "    for i in range(m + 1):    # hang \n",
    "        Hi = []\n",
    "        for j in range(m + 1):   # cot \n",
    "            coeff = 0\n",
    "            for k in range(n):  # chi so cua cac phan tu mang X. \n",
    "                coeff = coeff + X[k]**(i + j)\n",
    "            Hi.append(coeff)\n",
    "        A.append(Hi)\n",
    "            \n",
    "    for e in A: \n",
    "        print(e)\n",
    "    print()\n",
    "    \n",
    "    # Tinh mang Y. \n",
    "    B = []\n",
    "    for i in range(m + 1): \n",
    "        y = 0\n",
    "        for j in range(n): # chi so cua cac phan tu mang Y. \n",
    "            y += Y[j]*X[j]**i\n",
    "        B.append(y)\n",
    "    \n",
    "    # Bat dau giai he dai so tuyen tinh. \n",
    "    A = np.array(A)\n",
    "    B = np.array(B)\n",
    "    \n",
    "    print(\"Ma tran he so A la: \")\n",
    "    print(A)\n",
    "    print()\n",
    "    \n",
    "    print(\"Ma tran cot B la: \")\n",
    "    print(B)\n",
    "    print()\n",
    "    \n",
    "    X = np.linalg.solve(A,B)\n",
    "\n",
    "    print(\"Nghiem cua he AX = B la: \")\n",
    "    print(X)\n",
    "    print()\n",
    "    \n",
    "    # Ve do thi cua da thuc noi suy Lagrange. \n",
    "    Pn = []\n",
    "    for i in range(len(X)): \n",
    "        Pn.append(X[len(X) - 1 - i])\n",
    "    Pn = np.array(Pn)\n",
    "        \n",
    "    print(\"Mang Pn la: \")\n",
    "    print(Pn)\n",
    "    print()\n",
    "    \n",
    "    plt.figure(figsize = (10, 8))\n",
    "\n",
    "    x = np.linspace(X[0], X[- 1], 50)\n",
    "    y = polyEval(x, Pn)\n",
    "\n",
    "    plt.plot(x, y, 'r-')\n",
    "\n",
    "    plt.xlabel('x')\n",
    "    plt.ylabel('y')\n",
    "\n",
    "    plt.legend(['Da thuc P_n(x)'])\n",
    "    plt.title('Da thuc noi suy Lagrange P_n(x)')\n",
    "\n",
    "    plt.grid()\n",
    "    plt.show()"
   ]
  },
  {
   "cell_type": "code",
   "execution_count": 57,
   "metadata": {},
   "outputs": [
    {
     "name": "stdout",
     "output_type": "stream",
     "text": [
      "Ban muon su dung xap xi cap may: \n",
      "1\n",
      "[5.0, 11.61]\n",
      "[11.61, 32.768100000000004]\n",
      "\n",
      "Ma tran he so A la: \n",
      "[[ 5.     11.61  ]\n",
      " [11.61   32.7681]]\n",
      "\n",
      "Ma tran cot B la: \n",
      "[11.35   29.7696]\n",
      "\n",
      "Nghiem cua he AX = B la: \n",
      "[0.90514035 0.58779485]\n",
      "\n",
      "Mang Pn la: \n",
      "[0.58779485 0.90514035]\n",
      "\n"
     ]
    },
    {
     "data": {
      "image/png": "[encoded data removed]",
      "text/plain": [
       "<Figure size 720x576 with 1 Axes>"
      ]
     },
     "metadata": {
      "needs_background": "light"
     },
     "output_type": "display_data"
    }
   ],
   "source": [
    "X = np.array([0.78, 1.56, 2.34, 3.12, 3.81])\n",
    "Y = np.array([2.50, 1.20, 1.12, 2.25, 4.28])\n",
    "\n",
    "print(\"Ban muon su dung xap xi cap may: \")\n",
    "m = int(input())\n",
    "\n",
    "main(X, Y, m)"
   ]
  },
  {
   "cell_type": "code",
   "execution_count": null,
   "metadata": {},
   "outputs": [],
   "source": []
  }
 ],
 "metadata": {
  "kernelspec": {
   "display_name": "Python 3",
   "language": "python",
   "name": "python3"
  },
  "language_info": {
   "codemirror_mode": {
    "name": "ipython",
    "version": 3
   },
   "file_extension": ".py",
   "mimetype": "text/x-python",
   "name": "python",
   "nbconvert_exporter": "python",
   "pygments_lexer": "ipython3",
   "version": "3.8.3"
  }
 },
 "nbformat": 4,
 "nbformat_minor": 4
}
