{
 "cells": [
  {
   "cell_type": "markdown",
   "id": "quality-feelings",
   "metadata": {},
   "source": [
    "PP Seidel là một sự cải tiến của phương pháp lặp đơn? còn pp Gauss Seidel là một sự cải tiến của pp lặp Jacobi??"
   ]
  },
  {
   "cell_type": "code",
   "execution_count": 122,
   "id": "israeli-boston",
   "metadata": {},
   "outputs": [],
   "source": [
    "import numpy as np\n",
    "import math"
   ]
  },
  {
   "cell_type": "markdown",
   "id": "color-theology",
   "metadata": {},
   "source": [
    "# 1. Seidel (giống lặp đơn)"
   ]
  },
  {
   "cell_type": "markdown",
   "id": "early-basis",
   "metadata": {},
   "source": [
    "Mục đích: tranh thủ tối đa lượng thông tin đã có trong quá trình tính."
   ]
  },
  {
   "cell_type": "markdown",
   "id": "practical-blanket",
   "metadata": {},
   "source": [
    "1. Chuẩn hàng: \n",
    "- Công thức sai số hậu nghiệm: \n",
    "\\begin{align}\n",
    "\\Vert x^* - x^{(k)} \\Vert_{\\infty} \\leq \\frac{\\lambda}{1 - \\lambda}\\Vert x^{(k)} - x^{(k-1)} \\Vert_{\\infty}\n",
    "\\end{align}\n",
    "với \n",
    "\\begin{align}\n",
    "\\lambda = \\max_i \\frac{p_i}{1 - q_i}, \\quad p_i = \\sum_{j=i}^{n}|\\alpha_{ij}|, \\quad q_i = \\sum_{j=1}^{i-1}|\\alpha_{ij}|\n",
    "\\end{align}\n",
    "- Công thức sai số tiên nghiệm: \n",
    "\\begin{align}\n",
    "\\Vert x^{(k)} - x^* \\Vert_{\\infty} \\leq \\frac{\\Vert \\alpha \\Vert^k}{1 - \\Vert \\alpha \\Vert} \\Vert x^{(1)} - x^{(0)} \\Vert_{\\infty}\n",
    "\\end{align}"
   ]
  },
  {
   "cell_type": "markdown",
   "id": "pleased-harvest",
   "metadata": {},
   "source": [
    "### 1.1. Hàm tính chuẩn hàng của ma trận."
   ]
  },
  {
   "cell_type": "code",
   "execution_count": 3,
   "id": "pressing-appeal",
   "metadata": {},
   "outputs": [],
   "source": [
    "def rowMatrixNorm(A):\n",
    "    n = len(A)\n",
    "    maxRowSum = 0.0\n",
    "    \n",
    "    for j in range(n): \n",
    "        maxRowSum += abs(A[0][j]) # tính tổng trị tuyệt đối của hàng 1, và tạm thời gán nó là max_row. \n",
    "        \n",
    "    for i in range(1, n): \n",
    "        sum = 0 \n",
    "        for j in range(n): \n",
    "            sum += abs(A[i][j])\n",
    "            \n",
    "        if sum > maxRowSum: \n",
    "            maxRowSum = sum\n",
    "            \n",
    "    return maxRowSum"
   ]
  },
  {
   "cell_type": "markdown",
   "id": "lesbian-massage",
   "metadata": {},
   "source": [
    "### 1.2. Hàm tính chuẩn cột của ma trận. "
   ]
  },
  {
   "cell_type": "code",
   "execution_count": 4,
   "id": "cheap-reaction",
   "metadata": {},
   "outputs": [],
   "source": [
    "def colMatrixNorm(A):\n",
    "    n = len(A)\n",
    "    maxColSum = 0.0\n",
    "    \n",
    "    for i in range(n): \n",
    "        maxColSum += abs(A[i][0]) # tính tổng trị tuyệt đối của hàng 1, và tạm thời gán nó là max_row. \n",
    "        \n",
    "    for j in range(1, n): \n",
    "        sum = 0 \n",
    "        for i in range(n): \n",
    "            sum += abs(A[i][j])\n",
    "            \n",
    "        if sum > maxColSum: \n",
    "            maxColSum = sum\n",
    "            \n",
    "    return maxColSum"
   ]
  },
  {
   "cell_type": "markdown",
   "id": "beneficial-electric",
   "metadata": {},
   "source": [
    "### 1.3. Hàm tính chuẩn cực đại của véc tơ (chuẩn hàng)"
   ]
  },
  {
   "cell_type": "code",
   "execution_count": 11,
   "id": "grateful-gregory",
   "metadata": {},
   "outputs": [],
   "source": [
    "def maxVectorNorm(x): \n",
    "    n = len(x)\n",
    "    max = abs(x[0])\n",
    "    \n",
    "    for i in range(1, n): \n",
    "        if abs(x[i]) > max: \n",
    "            max = abs(x[i])\n",
    "            \n",
    "    return max"
   ]
  },
  {
   "cell_type": "markdown",
   "id": "fixed-title",
   "metadata": {},
   "source": [
    "### 1.4. Hàm tính chuẩn tuyệt đối của véc tơ (chuẩn cột)"
   ]
  },
  {
   "cell_type": "code",
   "execution_count": 12,
   "id": "thrown-radiation",
   "metadata": {},
   "outputs": [],
   "source": [
    "def absVectorNorm(x): \n",
    "    norm = 0 \n",
    "    \n",
    "    for i in range(len(x)): \n",
    "        norm += abs(x[i])\n",
    "        \n",
    "    return norm "
   ]
  },
  {
   "cell_type": "markdown",
   "id": "prompt-thickness",
   "metadata": {},
   "source": [
    "### 1.5. Lặp Seidel theo chuẩn hàng"
   ]
  },
  {
   "cell_type": "code",
   "execution_count": 7,
   "id": "under-challenge",
   "metadata": {},
   "outputs": [],
   "source": [
    "def rowSeidel(alpha, beta): \n",
    "    n = len(alpha)\n",
    "    \n",
    "    x0 = np.zeros(n)\n",
    "    x = np.zeros(n)\n",
    "    \n",
    "    for i in range(n): \n",
    "        x[i] = np.dot(alpha[i][:i], x[:i]) + np.dot(alpha[i][i:], x[i:]) + beta[i] \n",
    "        \n",
    "    print('Nhập vào sai số chung cho cả hai phép lặp:')\n",
    "    error = float(input())\n",
    "    \n",
    "    print('Bạn muốn lặp chuẩn hàng theo công thức sai số tiên nghiệm hay hậu nghiệm: ')\n",
    "    print('Tiên nghiệm: Ấn 1.')\n",
    "    print('Hậu nghiệm: Ấn 2.')\n",
    "    choice = int(input())\n",
    "        \n",
    "    \n",
    "    # Chú ý: Với ma trận alpha^(1), với mỗi hàng, ta chỉ cần nhân đến phần tử trước phần tử đường chéo chính thôi \n",
    "    # chứ không cần nhân hết, vì các phần tử đường chéo chính trở đi đều bằng 0. \n",
    "    # Tiếp đến, với ma trận alpha^(2), với mỗi hàng, ta nhân từ phần tử đường chéo chính trở đi. \n",
    "    \n",
    "    if choice == 1: # Lặp tiên nghiệm.\n",
    "        print('k = %d: ' % (0), end=' ')\n",
    "        for i in range(n): \n",
    "            print('x[%d] = %f' % (i, x0[i]), end=' ')\n",
    "        print()\n",
    "        \n",
    "        print('k = %d: ' % (1), end=' ')\n",
    "        for i in range(n): \n",
    "            print('x[%d] = %f' % (i, x[i]), end=' ')\n",
    "        print()\n",
    "        \n",
    "        alNorm = rowMatrixNorm(alpha)\n",
    "        print('Chuẩn hàng của alpha = %f' % (alNorm))\n",
    "        k = math.ceil(math.log(error * (1 - alNorm) / maxVectorNorm(x - x0), alNorm))\n",
    "        print('k = %d' % (k))\n",
    "        \n",
    "        for num in range(1, k): \n",
    "            print('k = %d: ' % (num + 1), end=' ')\n",
    "            for i in range(n): \n",
    "                x[i] = np.dot(alpha[i][:i], x[:i]) + np.dot(alpha[i][i:], x[i:]) + beta[i] \n",
    "                print('x[%d] = %f' % (i, x[i]), end=' ')\n",
    "            print()\n",
    "            \n",
    "    elif choice == 2: # Lặp hậu nghiệm. \n",
    "        print('k = %d: ' % (0), end=' ')\n",
    "        for i in range(n): \n",
    "            print('x[%d] = %f' % (i, x0[i]), end=' ')\n",
    "        print()\n",
    "        \n",
    "        print('k = %d: ' % (1), end=' ')\n",
    "        for i in range(n): \n",
    "            print('x[%d] = %f' % (i, x[i]), end=' ')\n",
    "        print()        \n",
    "        \n",
    "        k = 1\n",
    "        \n",
    "        # Tính lamda. \n",
    "        lamda = 0 \n",
    "        for i in range(n): \n",
    "            pi = 0 \n",
    "            for j in range(i, n): \n",
    "                pi += abs(alpha[i][j])\n",
    "            \n",
    "            qi = 0 \n",
    "            for j in range(i): \n",
    "                qi += abs(alpha[i][j])\n",
    "        \n",
    "            if lamda < pi / (1 - qi): \n",
    "                lamda = pi / (1 - qi)\n",
    "        \n",
    "        print('lamda = %f' % (lamda))\n",
    "        \n",
    "        while lamda * maxVectorNorm(x - x0) / (1 - lamda) >= error: \n",
    "            x0 = np.copy(x)  # ndarray trong numpy hoạt động giống hệt list trong Python, nên không gán bình thường được.\n",
    "            \n",
    "            print('k = %d: ' % (k + 1), end=' ')\n",
    "            for i in range(n):\n",
    "                x[i] = np.dot(alpha[i][:i], x[:i]) + np.dot(alpha[i][i:], x[i:]) + beta[i] \n",
    "                print('x[%d] = %f' % (i, x[i]), end=' ')\n",
    "            print()\n",
    "            k += 1\n",
    "            \n",
    "    return x, k "
   ]
  },
  {
   "cell_type": "code",
   "execution_count": 88,
   "id": "wrapped-acquisition",
   "metadata": {},
   "outputs": [],
   "source": [
    "alpha = np.array([[0, -0.06, 0.02], \n",
    "                  [-0.03, 0, 0.05], \n",
    "                  [-0.01, 0.02, 0]])\n",
    "\n",
    "beta = np.array([2, 3, 5])"
   ]
  },
  {
   "cell_type": "code",
   "execution_count": 89,
   "id": "arbitrary-surfing",
   "metadata": {},
   "outputs": [
    {
     "name": "stdout",
     "output_type": "stream",
     "text": [
      "Nhập vào sai số chung cho cả hai phép lặp:\n",
      "1e-3\n",
      "Bạn muốn lặp chuẩn hàng theo công thức sai số tiên nghiệm hay hậu nghiệm: \n",
      "Tiên nghiệm: Ấn 1.\n",
      "Hậu nghiệm: Ấn 2.\n",
      "1\n",
      "k = 0:  x[0] = 0.000000 x[1] = 0.000000 x[2] = 0.000000 \n",
      "k = 1:  x[0] = 2.000000 x[1] = 2.940000 x[2] = 5.038800 \n",
      "Chuẩn hàng của alpha = 0.080000\n",
      "k = 4\n",
      "k = 2:  x[0] = 1.924376 x[1] = 3.194209 x[2] = 5.044640 \n",
      "k = 3:  x[0] = 1.909240 x[1] = 3.194955 x[2] = 5.044807 \n",
      "k = 4:  x[0] = 1.909199 x[1] = 3.194964 x[2] = 5.044807 \n"
     ]
    },
    {
     "data": {
      "text/plain": [
       "(array([1.90919885, 3.19496437, 5.0448073 ]), 4)"
      ]
     },
     "execution_count": 89,
     "metadata": {},
     "output_type": "execute_result"
    }
   ],
   "source": [
    "rowSeidel(alpha, beta)"
   ]
  },
  {
   "cell_type": "code",
   "execution_count": 92,
   "id": "aging-aggregate",
   "metadata": {},
   "outputs": [
    {
     "name": "stdout",
     "output_type": "stream",
     "text": [
      "Nhập vào sai số chung cho cả hai phép lặp:\n",
      "1e-3\n",
      "Bạn muốn lặp chuẩn hàng theo công thức sai số tiên nghiệm hay hậu nghiệm: \n",
      "Tiên nghiệm: Ấn 1.\n",
      "Hậu nghiệm: Ấn 2.\n",
      "2\n",
      "k = 0:  x[0] = 0.000000 x[1] = 0.000000 x[2] = 0.000000 \n",
      "k = 1:  x[0] = 2.000000 x[1] = 2.940000 x[2] = 5.038800 \n",
      "lamda = 0.080000\n",
      "k = 2:  x[0] = 1.924376 x[1] = 3.194209 x[2] = 5.044640 \n",
      "k = 3:  x[0] = 1.909240 x[1] = 3.194955 x[2] = 5.044807 \n",
      "k = 4:  x[0] = 1.909199 x[1] = 3.194964 x[2] = 5.044807 \n"
     ]
    },
    {
     "data": {
      "text/plain": [
       "(array([1.90919885, 3.19496437, 5.0448073 ]), 4)"
      ]
     },
     "execution_count": 92,
     "metadata": {},
     "output_type": "execute_result"
    }
   ],
   "source": [
    "rowSeidel(alpha, beta)"
   ]
  },
  {
   "cell_type": "markdown",
   "id": "incorporated-ranch",
   "metadata": {},
   "source": [
    "### 1.6. Lặp Seidel theo chuẩn cột."
   ]
  },
  {
   "cell_type": "markdown",
   "id": "hungarian-square",
   "metadata": {},
   "source": [
    "- Công thức đánh giá sai số tiên nghiệm: \n",
    "\\begin{align}\n",
    "\\Vert x^{(k)} - x^* \\Vert_1 \\leq \\frac{\\theta^k}{(1 - S)(1 - \\theta)} \\Vert x^{(1)} - x^{(0)} \\Vert_1 \n",
    "\\end{align}\n",
    "với:\n",
    "\\begin{align}\n",
    "S = \\max_j \\sum_{i=j+1}^{n}|\\alpha_{ij}|, \\quad \\theta = \\max_j \\frac{\\sum_{i=1}^j|\\alpha_{ij}|}{1 - \\sum_{i=j+1}^{n}|\\alpha_{ij}|}\n",
    "\\end{align}"
   ]
  },
  {
   "cell_type": "markdown",
   "id": "featured-hotel",
   "metadata": {},
   "source": [
    "### 1.7. Hàm tính S trong công thức sai số tiên nghiệm:"
   ]
  },
  {
   "cell_type": "code",
   "execution_count": 125,
   "id": "initial-projection",
   "metadata": {},
   "outputs": [],
   "source": [
    "def SCalc(alpha): \n",
    "    n = len(alpha)\n",
    "    \n",
    "    S = 0\n",
    "    for j in range(n): \n",
    "        sum = 0 \n",
    "        for i in range(j + 1, n): \n",
    "            sum += abs(alpha[i][j])\n",
    "            \n",
    "        if S < sum: \n",
    "            S = sum\n",
    "    \n",
    "    return S"
   ]
  },
  {
   "cell_type": "markdown",
   "id": "japanese-authority",
   "metadata": {},
   "source": [
    "### 1.8. Hàm tính theta trong công thức sai số tiên nghiệm: "
   ]
  },
  {
   "cell_type": "code",
   "execution_count": 126,
   "id": "supreme-beauty",
   "metadata": {},
   "outputs": [],
   "source": [
    "def thetaCalc(alpha): \n",
    "    n = len(alpha)\n",
    "    \n",
    "    theta = 0\n",
    "    for j in range(n): \n",
    "        sum1, sum2 = 0.0, 0.0 \n",
    "        for i in range(j + 1): \n",
    "            sum1 += abs(alpha[i][j])\n",
    "        for i in range(j + 1, n): \n",
    "            sum2 += abs(alpha[i][j])\n",
    "            \n",
    "        if theta < sum1 / (1 - sum2): \n",
    "            theta = sum1 / (1 - sum2)\n",
    "            \n",
    "    return theta"
   ]
  },
  {
   "cell_type": "code",
   "execution_count": 130,
   "id": "convinced-milton",
   "metadata": {},
   "outputs": [],
   "source": [
    "def colSeidel(alpha, beta): \n",
    "    n = len(alpha)\n",
    "    \n",
    "    x0 = np.zeros(n)\n",
    "    x = np.zeros(n)\n",
    "    \n",
    "    for i in range(n): \n",
    "        x[i] = np.dot(alpha[i][:i], x[:i]) + np.dot(alpha[i][i:], x[i:]) + beta[i] \n",
    "        \n",
    "    print('Nhập vào sai số chung cho cả hai phép lặp:')\n",
    "    error = float(input())\n",
    "    \n",
    "    print('Bạn muốn lặp chuẩn hàng theo công thức sai số tiên nghiệm hay hậu nghiệm: ')\n",
    "    print('Tiên nghiệm: Ấn 1.')\n",
    "    print('Hậu nghiệm: Ấn 2.')\n",
    "    choice = int(input())\n",
    "    \n",
    "    if choice == 1: # Lặp tiên nghiệm.\n",
    "        print('k = %d: ' % (0), end=' ')\n",
    "        for i in range(n): \n",
    "            print('x[%d] = %f' % (i, x0[i]), end=' ')\n",
    "        print()\n",
    "        \n",
    "        print('k = %d: ' % (1), end=' ')\n",
    "        for i in range(n): \n",
    "            print('x[%d] = %f' % (i, x[i]), end=' ')\n",
    "        print()\n",
    "        \n",
    "        S = SCalc(alpha)\n",
    "        theta = thetaCalc(alpha)\n",
    "        \n",
    "        k = math.ceil(math.log(error * (1 - S) * (1 - theta) / absVectorNorm(x - x0), theta))\n",
    "        print('k = %d' % (k))\n",
    "        \n",
    "        for num in range(1, k): \n",
    "            print('k = %d: ' % (num + 1), end=' ')\n",
    "            for i in range(n): \n",
    "                x[i] = np.dot(alpha[i][:i], x[:i]) + np.dot(alpha[i][i:], x[i:]) + beta[i] \n",
    "                print('x[%d] = %f' % (i, x[i]), end=' ')\n",
    "            print()\n",
    "            \n",
    "    elif choice == 2: # Lặp hậu nghiệm. \n",
    "        return 'Hiện chưa có công thức lặp hậu nghiệm.'\n",
    "            \n",
    "    return x, k "
   ]
  },
  {
   "cell_type": "markdown",
   "id": "dangerous-hundred",
   "metadata": {},
   "source": [
    "Ví dụ 1:"
   ]
  },
  {
   "cell_type": "code",
   "execution_count": 131,
   "id": "geographic-exception",
   "metadata": {},
   "outputs": [],
   "source": [
    "alpha = np.array([[0, -0.06, 0.02], \n",
    "                  [-0.03, 0, 0.05], \n",
    "                  [-0.01, 0.02, 0]])\n",
    "\n",
    "beta = np.array([2, 3, 5])"
   ]
  },
  {
   "cell_type": "code",
   "execution_count": 132,
   "id": "hollywood-offset",
   "metadata": {},
   "outputs": [
    {
     "name": "stdout",
     "output_type": "stream",
     "text": [
      "Nhập vào sai số chung cho cả hai phép lặp:\n",
      "1e-3\n",
      "Bạn muốn lặp chuẩn hàng theo công thức sai số tiên nghiệm hay hậu nghiệm: \n",
      "Tiên nghiệm: Ấn 1.\n",
      "Hậu nghiệm: Ấn 2.\n",
      "1\n",
      "k = 0:  x[0] = 0.000000 x[1] = 0.000000 x[2] = 0.000000 \n",
      "k = 1:  x[0] = 2.000000 x[1] = 2.940000 x[2] = 5.038800 \n",
      "k = 4\n",
      "k = 2:  x[0] = 1.924376 x[1] = 3.194209 x[2] = 5.044640 \n",
      "k = 3:  x[0] = 1.909240 x[1] = 3.194955 x[2] = 5.044807 \n",
      "k = 4:  x[0] = 1.909199 x[1] = 3.194964 x[2] = 5.044807 \n"
     ]
    },
    {
     "data": {
      "text/plain": [
       "(array([1.90919885, 3.19496437, 5.0448073 ]), 4)"
      ]
     },
     "execution_count": 132,
     "metadata": {},
     "output_type": "execute_result"
    }
   ],
   "source": [
    "colSeidel(alpha.copy(), beta.copy())"
   ]
  },
  {
   "cell_type": "markdown",
   "id": "therapeutic-slovakia",
   "metadata": {},
   "source": [
    "# 2. Gauss Seidel (giống lặp Jacobi)"
   ]
  },
  {
   "cell_type": "markdown",
   "id": "vanilla-jumping",
   "metadata": {},
   "source": [
    "## 2.1. Trường hợp ma trận chéo trội hàng ($\\Vert \\alpha \\Vert_{\\infty} < 1$)"
   ]
  },
  {
   "cell_type": "markdown",
   "id": "impressive-defendant",
   "metadata": {},
   "source": [
    "- Công thức sai số tiên nghiệm: \n",
    "\\begin{align}\n",
    "\\Vert x^* - x^{(k)} \\Vert_{\\infty} \\leq \\frac{\\lambda^{k}}{1 - \\lambda}\\Vert x^{(1)} - x^{(0)} \\Vert_{\\infty}\n",
    "\\end{align}\n",
    "- Công thức sai số hậu nghiệm: \n",
    "\\begin{align}\n",
    "\\Vert x^{(k)} - x^* \\Vert_{\\infty} \\leq \\frac{\\lambda}{1 - \\lambda} \\Vert x^{(k)} - x^{(k-1)} \\Vert_{\\infty}\n",
    "\\end{align}\n",
    "với: \n",
    "\\begin{align}\n",
    "\\lambda = \\max_i \\frac{p_i}{1 - q_i}, \\quad p_i = \\sum_{j=i}^{n}|\\alpha_{ij}|, \\quad q_i = \\sum_{j=0}^{i-1}|\\alpha_{ij}|\n",
    "\\end{align}"
   ]
  },
  {
   "cell_type": "code",
   "execution_count": 27,
   "id": "posted-amsterdam",
   "metadata": {},
   "outputs": [],
   "source": [
    "def rowGaussSeidel(A, b): \n",
    "    n = len(A)\n",
    "    \n",
    "    for i in range(n): \n",
    "        temp = A[i][i]\n",
    "        A[i] = A[i] / temp\n",
    "        b[i] = b[i] / temp\n",
    "        \n",
    "    print('TA = ', A)\n",
    "    print('Tb = ', b)\n",
    "    print()\n",
    "        \n",
    "    alpha = np.identity(n) - A   # alpha lúc này trở thành ma trận chéo trội hàng. \n",
    "    beta = b\n",
    "    \n",
    "    x0 = np.zeros(n)\n",
    "    x = np.zeros(n)\n",
    "    for i in range(n): \n",
    "        x[i] = np.dot(alpha[i][:i], x[:i]) + np.dot(alpha[i][i:], x[i:]) + beta[i] \n",
    "    \n",
    "    # Áp dụng trực tiếp các công thức sai số của lặp đơn. \n",
    "    print('Bạn muốn lặp chéo trội hàng bằng công thức tiên nghiệm hay hậu nghiệm: ')\n",
    "    print('Tiên nghiệm: Ấn 1.')\n",
    "    print('Hậu nghiệm: Ấn 2.')\n",
    "    choice = int(input())\n",
    "    \n",
    "    print('Nhập vào sai số: ')\n",
    "    error = float(input())\n",
    "    \n",
    "    # Tính lamda. \n",
    "    lamda = 0 \n",
    "    for i in range(n): \n",
    "        pi = 0 \n",
    "        for j in range(i, n): \n",
    "            pi += abs(alpha[i][j])\n",
    "            \n",
    "        qi = 0 \n",
    "        for j in range(i): \n",
    "            qi += abs(alpha[i][j])\n",
    "        \n",
    "        if lamda < pi / (1 - qi): \n",
    "            lamda = pi / (1 - qi)\n",
    "        \n",
    "    print('lamda = %f' % (lamda))\n",
    "    \n",
    "    # In ra màn hình hai kết quả lặp đầu tiên.\n",
    "    print('k = %d: ' % (0), end=' ')\n",
    "    for i in range(n): \n",
    "        print('x[%d] = %f' % (i, x0[i]), end=' ')\n",
    "    print()\n",
    "        \n",
    "    print('k = %d: ' % (1), end=' ')\n",
    "    for i in range(n): \n",
    "        print('x[%d] = %f' % (i, x[i]), end=' ')\n",
    "    print()     \n",
    "    \n",
    "    if choice == 1: # Lặp tiên nghiệm.\n",
    "        k = math.ceil(math.log(error * (1 - lamda) / maxVectorNorm(x - x0), lamda))\n",
    "        print('k = %d' % (k))\n",
    "        \n",
    "        for num in range(1, k): \n",
    "            print('k = %d: ' % (num + 1), end=' ')\n",
    "            for i in range(n): \n",
    "                x[i] = np.dot(alpha[i][:i], x[:i]) + np.dot(alpha[i][i:], x[i:]) + beta[i] \n",
    "                print('x[%d] = %f' % (i, x[i]), end=' ')\n",
    "            print()\n",
    "        \n",
    "    elif choice == 2: # Lặp hậu nghiệm.\n",
    "        k = 1 \n",
    "        while lamda * maxVectorNorm(x - x0) / (1 - lamda) >= error:\n",
    "            x0 = np.copy(x)  # ndarray trong numpy hoạt động giống hệt list trong Python, nên không gán bình thường được.\n",
    "            \n",
    "            print('k = %d: ' % (k + 1), end=' ')\n",
    "            for i in range(n):\n",
    "                x[i] = np.dot(alpha[i][:i], x[:i]) + np.dot(alpha[i][i:], x[i:]) + beta[i] \n",
    "                print('x[%d] = %f' % (i, x[i]), end=' ')\n",
    "            print()\n",
    "            k += 1\n",
    "    \n",
    "    return x, k"
   ]
  },
  {
   "cell_type": "markdown",
   "id": "genuine-softball",
   "metadata": {},
   "source": [
    "Ví dụ 1: "
   ]
  },
  {
   "cell_type": "code",
   "execution_count": 28,
   "id": "crucial-tomato",
   "metadata": {},
   "outputs": [],
   "source": [
    "# ma trận chéo trội hàng (không chéo trội cột).\n",
    "A3 = np.array([[15, -5, 2], \n",
    "               [10, 35, -18], \n",
    "               [8, 4, 15]], dtype='float')\n",
    "\n",
    "b3 = np.array([7, 12, 5], dtype='float')"
   ]
  },
  {
   "cell_type": "code",
   "execution_count": 29,
   "id": "dynamic-telephone",
   "metadata": {},
   "outputs": [
    {
     "name": "stdout",
     "output_type": "stream",
     "text": [
      "TA =  [[ 1.         -0.33333333  0.13333333]\n",
      " [ 0.28571429  1.         -0.51428571]\n",
      " [ 0.53333333  0.26666667  1.        ]]\n",
      "Tb =  [0.46666667 0.34285714 0.33333333]\n",
      "\n",
      "Bạn muốn lặp chéo trội hàng bằng công thức tiên nghiệm hay hậu nghiệm: \n",
      "Tiên nghiệm: Ấn 1.\n",
      "Hậu nghiệm: Ấn 2.\n",
      "1\n",
      "Nhập vào sai số: \n",
      "1e-3\n",
      "lamda = 0.720000\n",
      "k = 0:  x[0] = 0.000000 x[1] = 0.000000 x[2] = 0.000000 \n",
      "k = 1:  x[0] = 0.466667 x[1] = 0.209524 x[2] = 0.028571 \n",
      "k = 23\n",
      "k = 2:  x[0] = 0.532698 x[1] = 0.205351 x[2] = -0.005533 \n",
      "k = 3:  x[0] = 0.535855 x[1] = 0.186910 x[2] = -0.002299 \n",
      "k = 4:  x[0] = 0.529277 x[1] = 0.190453 x[2] = 0.000265 \n",
      "k = 5:  x[0] = 0.530116 x[1] = 0.191532 x[2] = -0.000470 \n",
      "k = 6:  x[0] = 0.530573 x[1] = 0.191023 x[2] = -0.000579 \n",
      "k = 7:  x[0] = 0.530418 x[1] = 0.191012 x[2] = -0.000493 \n",
      "k = 8:  x[0] = 0.530403 x[1] = 0.191060 x[2] = -0.000498 \n",
      "k = 9:  x[0] = 0.530420 x[1] = 0.191053 x[2] = -0.000505 \n",
      "k = 10:  x[0] = 0.530418 x[1] = 0.191050 x[2] = -0.000503 \n",
      "k = 11:  x[0] = 0.530417 x[1] = 0.191051 x[2] = -0.000503 \n",
      "k = 12:  x[0] = 0.530417 x[1] = 0.191051 x[2] = -0.000503 \n",
      "k = 13:  x[0] = 0.530417 x[1] = 0.191051 x[2] = -0.000503 \n",
      "k = 14:  x[0] = 0.530417 x[1] = 0.191051 x[2] = -0.000503 \n",
      "k = 15:  x[0] = 0.530417 x[1] = 0.191051 x[2] = -0.000503 \n",
      "k = 16:  x[0] = 0.530417 x[1] = 0.191051 x[2] = -0.000503 \n",
      "k = 17:  x[0] = 0.530417 x[1] = 0.191051 x[2] = -0.000503 \n",
      "k = 18:  x[0] = 0.530417 x[1] = 0.191051 x[2] = -0.000503 \n",
      "k = 19:  x[0] = 0.530417 x[1] = 0.191051 x[2] = -0.000503 \n",
      "k = 20:  x[0] = 0.530417 x[1] = 0.191051 x[2] = -0.000503 \n",
      "k = 21:  x[0] = 0.530417 x[1] = 0.191051 x[2] = -0.000503 \n",
      "k = 22:  x[0] = 0.530417 x[1] = 0.191051 x[2] = -0.000503 \n",
      "k = 23:  x[0] = 0.530417 x[1] = 0.191051 x[2] = -0.000503 \n"
     ]
    },
    {
     "data": {
      "text/plain": [
       "(array([ 5.30417295e-01,  1.91050779e-01, -5.02765209e-04]), 23)"
      ]
     },
     "execution_count": 29,
     "metadata": {},
     "output_type": "execute_result"
    }
   ],
   "source": [
    "rowGaussSeidel(A3.copy(), b3.copy())  # Lặp trội hàng, tiên nghiệm, nhanh hơn so với Jacobi cùng loại "
   ]
  },
  {
   "cell_type": "code",
   "execution_count": 30,
   "id": "blocked-monday",
   "metadata": {},
   "outputs": [
    {
     "name": "stdout",
     "output_type": "stream",
     "text": [
      "TA =  [[ 1.         -0.33333333  0.13333333]\n",
      " [ 0.28571429  1.         -0.51428571]\n",
      " [ 0.53333333  0.26666667  1.        ]]\n",
      "Tb =  [0.46666667 0.34285714 0.33333333]\n",
      "\n",
      "Bạn muốn lặp chéo trội hàng bằng công thức tiên nghiệm hay hậu nghiệm: \n",
      "Tiên nghiệm: Ấn 1.\n",
      "Hậu nghiệm: Ấn 2.\n",
      "2\n",
      "Nhập vào sai số: \n",
      "1e-3\n",
      "lamda = 0.720000\n",
      "k = 0:  x[0] = 0.000000 x[1] = 0.000000 x[2] = 0.000000 \n",
      "k = 1:  x[0] = 0.466667 x[1] = 0.209524 x[2] = 0.028571 \n",
      "k = 2:  x[0] = 0.532698 x[1] = 0.205351 x[2] = -0.005533 \n",
      "k = 3:  x[0] = 0.535855 x[1] = 0.186910 x[2] = -0.002299 \n",
      "k = 4:  x[0] = 0.529277 x[1] = 0.190453 x[2] = 0.000265 \n",
      "k = 5:  x[0] = 0.530116 x[1] = 0.191532 x[2] = -0.000470 \n",
      "k = 6:  x[0] = 0.530573 x[1] = 0.191023 x[2] = -0.000579 \n",
      "k = 7:  x[0] = 0.530418 x[1] = 0.191012 x[2] = -0.000493 \n"
     ]
    },
    {
     "data": {
      "text/plain": [
       "(array([ 5.30418128e-01,  1.91011568e-01, -4.92752953e-04]), 7)"
      ]
     },
     "execution_count": 30,
     "metadata": {},
     "output_type": "execute_result"
    }
   ],
   "source": [
    "rowGaussSeidel(A3.copy(), b3.copy())  # Lặp trội hàng, hậu nghiệm, nhanh hơn so với Jacobi cùng loại."
   ]
  },
  {
   "cell_type": "code",
   "execution_count": null,
   "id": "pacific-consent",
   "metadata": {},
   "outputs": [],
   "source": []
  },
  {
   "cell_type": "markdown",
   "id": "romance-poland",
   "metadata": {},
   "source": [
    "## 2.2. Trường hợp ma trận chéo trội cột ($\\Vert \\alpha \\Vert_{1} < 1$)"
   ]
  },
  {
   "cell_type": "markdown",
   "id": "periodic-basics",
   "metadata": {},
   "source": [
    "- Công thức sai số hậu nghiệm: \n",
    "\\begin{align}\n",
    "\\Vert x^{(0)} - x^* \\Vert_1 \\leq \\frac{\\epsilon}{(1-s)(1-\\epsilon)}\\Vert x^{(k)} - x^{(k-1)}\\Vert_1\n",
    "\\end{align}\n",
    "với \n",
    "\\begin{align}\n",
    "s = \\max_j \\sum_{i=j+1}^{n}|\\alpha_{ij}|, \\quad \\epsilon = \\max_j \\frac{\\sum_{i=1}^{j}|\\alpha_{ij}|}{1-\\sum_{i=j+1}^{n}|\\alpha_{ij}|} \\leq \\Vert \\alpha \\Vert_1 < 1\n",
    "\\end{align}"
   ]
  },
  {
   "cell_type": "markdown",
   "id": "nuclear-destination",
   "metadata": {},
   "source": [
    "- Công thức sai số tiên nghiệm: \n",
    "\\begin{align}\n",
    "\\Vert x^{(0)} - x^* \\Vert_1 \\leq \\frac{\\epsilon^k}{(1-s)(1-\\epsilon)}\\Vert x^{(1)} - x^{(0)}\\Vert_1\n",
    "\\end{align}"
   ]
  },
  {
   "cell_type": "code",
   "execution_count": 135,
   "id": "historical-growth",
   "metadata": {},
   "outputs": [],
   "source": [
    "A4 = np.array([[10, 1, 1], \n",
    "              [2, 10, 1], \n",
    "              [2, 2, 10]], dtype='float')\n",
    "\n",
    "b4 = np.array([12, 13, 14], dtype='float')"
   ]
  },
  {
   "cell_type": "code",
   "execution_count": 136,
   "id": "musical-receiver",
   "metadata": {},
   "outputs": [
    {
     "name": "stdout",
     "output_type": "stream",
     "text": [
      "T =  [[0.1 0.  0. ]\n",
      " [0.  0.1 0. ]\n",
      " [0.  0.  0.1]]\n",
      "\n",
      "S = 0.400000\n",
      "theta = 0.200000\n",
      "\n",
      "I - TA =  [[ 0.  -0.1 -0.1]\n",
      " [-0.2  0.  -0.1]\n",
      " [-0.2 -0.2  0. ]]\n",
      "Tb =  [1.2 1.3 1.4]\n",
      "\n",
      "Bạn muốn lặp theo công thức sai số hậu nghiệm hoặc tiên nghiệm:\n",
      "Tiên nghiệm: Ấn 1.\n",
      "Hậu nghiệm: Ấn 2.\n",
      "1\n",
      "Nhập vào sai số: \n",
      "1e-3\n",
      "k = 0:  x[0] = 0.000000 x[1] = 0.000000 x[2] = 0.000000 \n",
      "k = 1:  x[0] = 1.200000 x[1] = 1.060000 x[2] = 0.948000 \n",
      "gtri = 0.000150\n",
      "\n",
      "k = 2:  x[0] = 0.999200,  x[1] = 1.005360,  x[2] = 0.999088,  \n",
      "k = 3:  x[0] = 0.999555,  x[1] = 1.000180,  x[2] = 1.000053,  \n",
      "k = 4:  x[0] = 0.999977,  x[1] = 0.999999,  x[2] = 1.000005,  \n",
      "k = 5:  x[0] = 1.000000,  x[1] = 1.000000,  x[2] = 1.000000,  \n",
      "k = 6:  x[0] = 1.000000,  x[1] = 1.000000,  x[2] = 1.000000,  \n"
     ]
    },
    {
     "data": {
      "text/plain": [
       "(array([1.00000002, 0.99999998, 1.        ]), 6)"
      ]
     },
     "execution_count": 136,
     "metadata": {},
     "output_type": "execute_result"
    }
   ],
   "source": [
    "colGaussSeidel(A4.copy(), b4.copy())"
   ]
  },
  {
   "cell_type": "code",
   "execution_count": 137,
   "id": "bigger-queen",
   "metadata": {},
   "outputs": [
    {
     "name": "stdout",
     "output_type": "stream",
     "text": [
      "T =  [[0.1 0.  0. ]\n",
      " [0.  0.1 0. ]\n",
      " [0.  0.  0.1]]\n",
      "\n",
      "S = 0.400000\n",
      "theta = 0.200000\n",
      "\n",
      "I - TA =  [[ 0.  -0.1 -0.1]\n",
      " [-0.2  0.  -0.1]\n",
      " [-0.2 -0.2  0. ]]\n",
      "Tb =  [1.2 1.3 1.4]\n",
      "\n",
      "Bạn muốn lặp theo công thức sai số hậu nghiệm hoặc tiên nghiệm:\n",
      "Tiên nghiệm: Ấn 1.\n",
      "Hậu nghiệm: Ấn 2.\n",
      "2\n",
      "Nhập vào sai số: \n",
      "1e-3\n",
      "k = 0:  x[0] = 0.000000 x[1] = 0.000000 x[2] = 0.000000 \n",
      "k = 1:  x[0] = 1.200000 x[1] = 1.060000 x[2] = 0.948000 \n"
     ]
    },
    {
     "data": {
      "text/plain": [
       "(array([1.2  , 1.06 , 0.948]), 1)"
      ]
     },
     "execution_count": 137,
     "metadata": {},
     "output_type": "execute_result"
    }
   ],
   "source": [
    "colGaussSeidel(A4.copy(), b4.copy())"
   ]
  },
  {
   "cell_type": "code",
   "execution_count": 138,
   "id": "large-academy",
   "metadata": {},
   "outputs": [],
   "source": [
    "A5 = np.array([[10, 8, 7], \n",
    "               [3, -15, 14], \n",
    "               [-5, 2, 24]], dtype='float')\n",
    "\n",
    "b5 = np.array([2, 6, 13], dtype='float')"
   ]
  },
  {
   "cell_type": "code",
   "execution_count": 139,
   "id": "developing-statement",
   "metadata": {},
   "outputs": [
    {
     "name": "stdout",
     "output_type": "stream",
     "text": [
      "T =  [[ 0.1         0.          0.        ]\n",
      " [ 0.         -0.06666667  0.        ]\n",
      " [ 0.          0.          0.04166667]]\n",
      "\n",
      "S = 0.408333\n",
      "theta = 1.633333\n",
      "\n",
      "I - TA =  [[ 0.         -0.8        -0.7       ]\n",
      " [ 0.2         0.          0.93333333]\n",
      " [ 0.20833333 -0.08333333  0.        ]]\n",
      "Tb =  [ 0.2        -0.4         0.54166667]\n",
      "\n",
      "Bạn muốn lặp theo công thức sai số hậu nghiệm hoặc tiên nghiệm:\n",
      "Tiên nghiệm: Ấn 1.\n",
      "Hậu nghiệm: Ấn 2.\n",
      "1\n",
      "Nhập vào sai số: \n",
      "1e-3\n",
      "k = 0:  x[0] = 0.000000 x[1] = 0.000000 x[2] = 0.000000 \n",
      "k = 1:  x[0] = 0.200000 x[1] = -0.360000 x[2] = 0.613333 \n",
      "gtri = -0.000319\n",
      "\n"
     ]
    },
    {
     "ename": "Exception",
     "evalue": "Giá trị lấy log < 0",
     "output_type": "error",
     "traceback": [
      "\u001b[1;31m---------------------------------------------------------------------------\u001b[0m",
      "\u001b[1;31mException\u001b[0m                                 Traceback (most recent call last)",
      "\u001b[1;32m<ipython-input-139-0286085726f8>\u001b[0m in \u001b[0;36m<module>\u001b[1;34m\u001b[0m\n\u001b[1;32m----> 1\u001b[1;33m \u001b[0mcolGaussSeidel\u001b[0m\u001b[1;33m(\u001b[0m\u001b[0mA5\u001b[0m\u001b[1;33m.\u001b[0m\u001b[0mcopy\u001b[0m\u001b[1;33m(\u001b[0m\u001b[1;33m)\u001b[0m\u001b[1;33m,\u001b[0m \u001b[0mb5\u001b[0m\u001b[1;33m.\u001b[0m\u001b[0mcopy\u001b[0m\u001b[1;33m(\u001b[0m\u001b[1;33m)\u001b[0m\u001b[1;33m)\u001b[0m\u001b[1;33m\u001b[0m\u001b[1;33m\u001b[0m\u001b[0m\n\u001b[0m",
      "\u001b[1;32m<ipython-input-134-377b0d3cdcce>\u001b[0m in \u001b[0;36mcolGaussSeidel\u001b[1;34m(A, b)\u001b[0m\n\u001b[0;32m     53\u001b[0m         \u001b[0mprint\u001b[0m\u001b[1;33m(\u001b[0m\u001b[1;33m)\u001b[0m\u001b[1;33m\u001b[0m\u001b[1;33m\u001b[0m\u001b[0m\n\u001b[0;32m     54\u001b[0m         \u001b[1;32mif\u001b[0m \u001b[0mgtri\u001b[0m \u001b[1;33m<\u001b[0m \u001b[1;36m0\u001b[0m\u001b[1;33m:\u001b[0m\u001b[1;33m\u001b[0m\u001b[1;33m\u001b[0m\u001b[0m\n\u001b[1;32m---> 55\u001b[1;33m             \u001b[1;32mraise\u001b[0m \u001b[0mException\u001b[0m\u001b[1;33m(\u001b[0m\u001b[1;34m'Giá trị lấy log < 0'\u001b[0m\u001b[1;33m)\u001b[0m\u001b[1;33m\u001b[0m\u001b[1;33m\u001b[0m\u001b[0m\n\u001b[0m\u001b[0;32m     56\u001b[0m \u001b[1;33m\u001b[0m\u001b[0m\n\u001b[0;32m     57\u001b[0m         \u001b[0mk\u001b[0m \u001b[1;33m=\u001b[0m \u001b[0mmath\u001b[0m\u001b[1;33m.\u001b[0m\u001b[0mceil\u001b[0m\u001b[1;33m(\u001b[0m\u001b[0mmath\u001b[0m\u001b[1;33m.\u001b[0m\u001b[0mlog\u001b[0m\u001b[1;33m(\u001b[0m\u001b[0merror\u001b[0m \u001b[1;33m*\u001b[0m \u001b[1;33m(\u001b[0m\u001b[1;36m1\u001b[0m \u001b[1;33m-\u001b[0m \u001b[0mS\u001b[0m\u001b[1;33m)\u001b[0m \u001b[1;33m*\u001b[0m \u001b[1;33m(\u001b[0m\u001b[1;36m1\u001b[0m \u001b[1;33m-\u001b[0m \u001b[0mtheta\u001b[0m\u001b[1;33m)\u001b[0m \u001b[1;33m/\u001b[0m \u001b[0mabsVectorNorm\u001b[0m\u001b[1;33m(\u001b[0m\u001b[0mx\u001b[0m \u001b[1;33m-\u001b[0m \u001b[0mx0\u001b[0m\u001b[1;33m)\u001b[0m\u001b[1;33m,\u001b[0m \u001b[0mtheta\u001b[0m\u001b[1;33m)\u001b[0m\u001b[1;33m)\u001b[0m\u001b[1;33m\u001b[0m\u001b[1;33m\u001b[0m\u001b[0m\n",
      "\u001b[1;31mException\u001b[0m: Giá trị lấy log < 0"
     ]
    }
   ],
   "source": [
    "colGaussSeidel(A5.copy(), b5.copy())"
   ]
  },
  {
   "cell_type": "code",
   "execution_count": 134,
   "id": "completed-operations",
   "metadata": {},
   "outputs": [],
   "source": [
    "def colGaussSeidel(A, b): \n",
    "    n = len(A)\n",
    "    \n",
    "    T = np.identity(n, dtype='float')\n",
    "    for i in range(n): \n",
    "        T[i][i] = T[i][i] / A[i][i]\n",
    "        \n",
    "    print('T = ', T)\n",
    "    print()\n",
    "    \n",
    "    alpha = np.identity(n) - np.matmul(T, A)\n",
    "    beta = np.matmul(T, b)\n",
    "    \n",
    "    S = SCalc(alpha)\n",
    "    theta = thetaCalc(alpha)\n",
    "    \n",
    "    print('S = %f' % (S))\n",
    "    print('theta = %f' % (theta))\n",
    "    print()\n",
    "    \n",
    "    print('I - TA = ', alpha)\n",
    "    print('Tb = ', beta)\n",
    "    print()\n",
    "    \n",
    "    # Ta sẽ áp dụng công thức sai số trực tiếp lên x. \n",
    "    print('Bạn muốn lặp theo công thức sai số hậu nghiệm hoặc tiên nghiệm:')\n",
    "    print('Tiên nghiệm: Ấn 1.')\n",
    "    print('Hậu nghiệm: Ấn 2.')\n",
    "    choice = int(input())\n",
    "    \n",
    "    print('Nhập vào sai số: ')\n",
    "    error = float(input())\n",
    "    \n",
    "    x0 = np.zeros(n)\n",
    "    x = np.zeros(n)\n",
    "    for i in range(n): \n",
    "        x[i] = np.dot(alpha[i][:i], x[:i]) + np.dot(alpha[i][i:], x[i:]) + beta[i] \n",
    "    \n",
    "    # In ra màn hình hai kết quả lặp đầu tiên.\n",
    "    print('k = %d: ' % (0), end=' ')\n",
    "    for i in range(n): \n",
    "        print('x[%d] = %f' % (i, x0[i]), end=' ')\n",
    "    print()\n",
    "        \n",
    "    print('k = %d: ' % (1), end=' ')\n",
    "    for i in range(n): \n",
    "        print('x[%d] = %f' % (i, x[i]), end=' ')\n",
    "    print()     \n",
    "    \n",
    "    if choice == 1:  # Lặp tiên nghiệm\n",
    "        gtri = error * (1 - S) * (1 - theta) / absVectorNorm(x - x0)\n",
    "        print('gtri = %f' % (gtri))\n",
    "        print()\n",
    "        if gtri < 0: \n",
    "            raise Exception('Giá trị lấy log < 0')\n",
    "        \n",
    "        k = math.ceil(math.log(error * (1 - S) * (1 - theta) / absVectorNorm(x - x0), theta))\n",
    "        \n",
    "        for num in range(1, k):\n",
    "            print('k = %d: ' % (num + 1), end=' ')\n",
    "            for i in range(n):\n",
    "                x[i] = np.dot(alpha[i][:i], x[:i]) + np.dot(alpha[i][i:], x[i:]) + beta[i] \n",
    "                print('x[%d] = %f, ' % (i, x[i]), end=' ')\n",
    "            print()\n",
    "        \n",
    "    elif choice == 2: # Lặp hậu nghiệm.\n",
    "        k = 1 \n",
    "        while error * (1 - S) * (1 - theta) / (absVectorNorm(x - x0) * theta) >= error: \n",
    "            x0 = np.copy(x)  # ndarray trong numpy hoạt động giống hệt list trong Python, nên không gán bình thường được.\n",
    "            \n",
    "            print('k = %d: ' % (k + 1), end=' ')\n",
    "            for i in range(n):\n",
    "                x[i] = np.dot(alpha[i][:i], x[:i]) + np.dot(alpha[i][i:], x[i:]) + beta[i] \n",
    "                print('x[%d] = %f' % (i, x[i]), end=' ')\n",
    "            print()\n",
    "            k += 1\n",
    "    \n",
    "    return x, k"
   ]
  },
  {
   "cell_type": "markdown",
   "id": "biological-mining",
   "metadata": {},
   "source": [
    "## 2.3. Hàm kiểm tra tính chéo trội hàng của ma trận."
   ]
  },
  {
   "cell_type": "code",
   "execution_count": 104,
   "id": "intermediate-shade",
   "metadata": {},
   "outputs": [],
   "source": [
    "def rowDominant(A): \n",
    "    n = len(A)\n",
    "    \n",
    "    # kiểm tra chéo trội hàng. \n",
    "    for i in range(n): \n",
    "        sum = 0 \n",
    "        for j in range(n): \n",
    "            if j != i: \n",
    "                sum += abs(A[i][j])\n",
    "        \n",
    "        if abs(A[i][i]) <= sum: \n",
    "            return False \n",
    "        \n",
    "    return True "
   ]
  },
  {
   "cell_type": "markdown",
   "id": "stupid-appearance",
   "metadata": {},
   "source": [
    "## 2.4. Hàm kiểm tra tính chéo trội cột của ma trận."
   ]
  },
  {
   "cell_type": "code",
   "execution_count": 105,
   "id": "mighty-cancellation",
   "metadata": {},
   "outputs": [],
   "source": [
    "def colDominant(A): \n",
    "    n = len(A)\n",
    "    \n",
    "    for j in range(n): \n",
    "        sum = 0\n",
    "        for i in range(n): \n",
    "            if i != j: \n",
    "                sum += abs(A[i][j])\n",
    "                \n",
    "        if abs(A[j][j]) <= sum: \n",
    "            return False \n",
    "        \n",
    "    return True "
   ]
  },
  {
   "cell_type": "markdown",
   "id": "accompanied-administration",
   "metadata": {},
   "source": [
    "## 2.5. Hàm thực thi chính "
   ]
  },
  {
   "cell_type": "code",
   "execution_count": 106,
   "id": "willing-bidding",
   "metadata": {},
   "outputs": [],
   "source": [
    "def mainGaussSeidel(A, b): \n",
    "    if rowDominant(A): \n",
    "        print('Ma trận là chéo trội hàng.')\n",
    "        x, k = rowGaussSeidel(A, b)\n",
    "    elif colDominant(A): \n",
    "        print('Ma trận là chéo trội cột.')\n",
    "        x, k = colGaussSeidel(A, b)\n",
    "    else: \n",
    "        return 'Ma trận A không chéo trội.'\n",
    "    \n",
    "    return x, k"
   ]
  },
  {
   "cell_type": "code",
   "execution_count": 109,
   "id": "higher-provincial",
   "metadata": {},
   "outputs": [],
   "source": [
    "A4 = np.array([[10, 1, 1], \n",
    "              [2, 10, 1], \n",
    "              [2, 2, 10]], dtype='float')\n",
    "\n",
    "b4 = np.array([12, 13, 14], dtype='float')"
   ]
  },
  {
   "cell_type": "code",
   "execution_count": 110,
   "id": "obvious-consequence",
   "metadata": {},
   "outputs": [
    {
     "name": "stdout",
     "output_type": "stream",
     "text": [
      "Ma trận là chéo trội hàng.\n",
      "TA =  [[1.  0.1 0.1]\n",
      " [0.2 1.  0.1]\n",
      " [0.2 0.2 1. ]]\n",
      "Tb =  [1.2 1.3 1.4]\n",
      "\n",
      "Bạn muốn lặp chéo trội hàng bằng công thức tiên nghiệm hay hậu nghiệm: \n",
      "Tiên nghiệm: Ấn 1.\n",
      "Hậu nghiệm: Ấn 2.\n",
      "1\n",
      "Nhập vào sai số: \n",
      "1e-3\n",
      "lamda = 0.200000\n",
      "k = 0:  x[0] = 0.000000 x[1] = 0.000000 x[2] = 0.000000 \n",
      "k = 1:  x[0] = 1.200000 x[1] = 1.060000 x[2] = 0.948000 \n",
      "k = 5\n",
      "k = 2:  x[0] = 0.999200 x[1] = 1.005360 x[2] = 0.999088 \n",
      "k = 3:  x[0] = 0.999555 x[1] = 1.000180 x[2] = 1.000053 \n",
      "k = 4:  x[0] = 0.999977 x[1] = 0.999999 x[2] = 1.000005 \n",
      "k = 5:  x[0] = 1.000000 x[1] = 1.000000 x[2] = 1.000000 \n"
     ]
    },
    {
     "data": {
      "text/plain": [
       "(array([0.99999958, 0.9999996 , 1.00000016]), 5)"
      ]
     },
     "execution_count": 110,
     "metadata": {},
     "output_type": "execute_result"
    }
   ],
   "source": [
    "mainGaussSeidel(A4.copy(), b4.copy())"
   ]
  },
  {
   "cell_type": "code",
   "execution_count": 74,
   "id": "spare-flesh",
   "metadata": {},
   "outputs": [
    {
     "name": "stdout",
     "output_type": "stream",
     "text": [
      "Ma trận là chéo trội cột.\n",
      "T =  [[ 0.1         0.          0.        ]\n",
      " [ 0.         -0.06666667  0.        ]\n",
      " [ 0.          0.          0.04166667]]\n",
      "\n",
      "S = 0.408333\n",
      "theta = 1.633333\n",
      "\n",
      "TA =  [[ 10.   8.   7.]\n",
      " [  3. -15.  14.]\n",
      " [ -5.   2.  24.]]\n",
      "Tb =  [ 2.  6. 13.]\n",
      "\n",
      "Bạn muốn lặp theo công thức sai số hậu nghiệm hoặc tiên nghiệm:\n",
      "Tiên nghiệm: Ấn 1.\n",
      "Hậu nghiệm: Ấn 2.\n",
      "2\n",
      "Nhập vào sai số: \n",
      "1e-3\n",
      "k = 0:  x[0] = 0.000000 x[1] = 0.000000 x[2] = 0.000000 \n",
      "k = 1:  x[0] = 0.200000 x[1] = -0.360000 x[2] = 0.613333 \n"
     ]
    },
    {
     "data": {
      "text/plain": [
       "(array([ 0.2       , -0.36      ,  0.61333333]), 1)"
      ]
     },
     "execution_count": 74,
     "metadata": {},
     "output_type": "execute_result"
    }
   ],
   "source": [
    "mainGaussSeidel(A4.copy(), b4.copy())"
   ]
  },
  {
   "cell_type": "code",
   "execution_count": null,
   "id": "willing-intention",
   "metadata": {},
   "outputs": [],
   "source": []
  }
 ],
 "metadata": {
  "kernelspec": {
   "display_name": "Python 3",
   "language": "python",
   "name": "python3"
  },
  "language_info": {
   "codemirror_mode": {
    "name": "ipython",
    "version": 3
   },
   "file_extension": ".py",
   "mimetype": "text/x-python",
   "name": "python",
   "nbconvert_exporter": "python",
   "pygments_lexer": "ipython3",
   "version": "3.8.3"
  }
 },
 "nbformat": 4,
 "nbformat_minor": 5
}
