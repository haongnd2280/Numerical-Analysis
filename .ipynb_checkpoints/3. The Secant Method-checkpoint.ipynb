{
 "cells": [
  {
   "cell_type": "code",
   "execution_count": 1,
   "id": "fluid-reflection",
   "metadata": {},
   "outputs": [],
   "source": [
    "import numpy as np "
   ]
  },
  {
   "cell_type": "markdown",
   "id": "blind-wales",
   "metadata": {},
   "source": [
    "# Tóm tắt lý thuyết: "
   ]
  },
  {
   "cell_type": "markdown",
   "id": "patent-collector",
   "metadata": {},
   "source": [
    "- Ta vẫn phải xác định trước khoảng phân ly nghiệm [a, b] của phương trình f(x). \n",
    "- "
   ]
  },
  {
   "cell_type": "markdown",
   "id": "quick-clerk",
   "metadata": {},
   "source": [
    "# ý tưởng thuật toán: "
   ]
  },
  {
   "cell_type": "code",
   "execution_count": null,
   "id": "royal-wagon",
   "metadata": {},
   "outputs": [],
   "source": [
    "- Ta cần chọn x0 = a hoặc b, d = b hoặc a. \n",
    "- "
   ]
  },
  {
   "cell_type": "markdown",
   "id": "changing-secretariat",
   "metadata": {},
   "source": [
    "# Thực hiện chương trình: "
   ]
  },
  {
   "cell_type": "markdown",
   "id": "backed-chapel",
   "metadata": {},
   "source": [
    "### Định nghĩa các hàm f(x), f'(x), f''(x): "
   ]
  },
  {
   "cell_type": "code",
   "execution_count": 2,
   "id": "appreciated-ontario",
   "metadata": {},
   "outputs": [],
   "source": [
    "def f(x): \n",
    "    return x**3 - 0.2*x**2 - 0.2*x - 1.2\n",
    "\n",
    "def df(x): \n",
    "    pass \n",
    "\n",
    "def secdf(x): \n",
    "    pass "
   ]
  },
  {
   "cell_type": "markdown",
   "id": "otherwise-movement",
   "metadata": {},
   "source": [
    "### Định nghĩa hàm co lại khoảng [a, b]: "
   ]
  },
  {
   "cell_type": "code",
   "execution_count": null,
   "id": "temporal-decline",
   "metadata": {},
   "outputs": [],
   "source": [
    "def Contraction(x0, d): \n",
    "    "
   ]
  },
  {
   "cell_type": "code",
   "execution_count": null,
   "id": "present-knitting",
   "metadata": {},
   "outputs": [],
   "source": []
  },
  {
   "cell_type": "markdown",
   "id": "important-doctor",
   "metadata": {},
   "source": [
    "### Định nghĩa hàm co khoảng [a, b] lại: "
   ]
  },
  {
   "cell_type": "code",
   "execution_count": null,
   "id": "thrown-strap",
   "metadata": {},
   "outputs": [],
   "source": [
    "def Contraction(x0, d, flag): \n",
    "    "
   ]
  },
  {
   "cell_type": "markdown",
   "id": "representative-strand",
   "metadata": {},
   "source": [
    "### Định nghĩa hàm thực thi chính: "
   ]
  },
  {
   "cell_type": "code",
   "execution_count": 3,
   "id": "clear-williams",
   "metadata": {},
   "outputs": [],
   "source": [
    "def SecantMethod(a, b, epsilon): \n",
    "    # số vòng lặp phải thực hiện: \n",
    "    N = 0 \n",
    "    \n",
    "    # gán các giá trị a, b cho x0, d. \n",
    "    if f(a)*secdf(a) < 0: \n",
    "        x0 = a\n",
    "        d = b \n",
    "        flag = 1\n",
    "    else: \n",
    "        x0 = b \n",
    "        d = a\n",
    "        flag = 2\n",
    "        \n",
    "    # bắt đầu vòng lặp \n",
    "    x0, x1 = Contraction(x0, d, flag)\n",
    "    x0, x2 = Contraction(x0, d, flag)\n",
    "    \n",
    "    while np.abs(x2 - x1) >= epsilon: \n",
    "        x1 = x2 \n",
    "        x0, x2 = Contraction(x0, d, flag)\n",
    "        N +=1 \n",
    "        \n",
    "    return x2 "
   ]
  },
  {
   "cell_type": "markdown",
   "id": "given-diamond",
   "metadata": {},
   "source": [
    "# Thuyết trình "
   ]
  },
  {
   "cell_type": "code",
   "execution_count": null,
   "id": "introductory-skating",
   "metadata": {},
   "outputs": [],
   "source": [
    "Hàm sin(x) + cos(x) + 1 ng là pi "
   ]
  }
 ],
 "metadata": {
  "kernelspec": {
   "display_name": "Python 3",
   "language": "python",
   "name": "python3"
  },
  "language_info": {
   "codemirror_mode": {
    "name": "ipython",
    "version": 3
   },
   "file_extension": ".py",
   "mimetype": "text/x-python",
   "name": "python",
   "nbconvert_exporter": "python",
   "pygments_lexer": "ipython3",
   "version": "3.8.3"
  }
 },
 "nbformat": 4,
 "nbformat_minor": 5
}
