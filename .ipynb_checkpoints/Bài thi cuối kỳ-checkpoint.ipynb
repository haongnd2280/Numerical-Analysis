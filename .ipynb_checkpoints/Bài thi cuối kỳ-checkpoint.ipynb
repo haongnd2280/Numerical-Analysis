{
 "cells": [
  {
   "cell_type": "code",
   "execution_count": 1,
   "id": "anonymous-manhattan",
   "metadata": {},
   "outputs": [],
   "source": [
    "import numpy as np \n",
    "import math"
   ]
  },
  {
   "cell_type": "code",
   "execution_count": null,
   "id": "reflected-terrain",
   "metadata": {},
   "outputs": [],
   "source": []
  },
  {
   "cell_type": "markdown",
   "id": "theoretical-miracle",
   "metadata": {},
   "source": [
    "## Câu 3: Tính định thức của ma trận vuông dùng Gauss/Gauss Jordan"
   ]
  },
  {
   "cell_type": "markdown",
   "id": "european-workplace",
   "metadata": {},
   "source": [
    "Câu hỏi: \n",
    "- Có cần chọn phần tử khử sao cho giảm sai số đi không?"
   ]
  },
  {
   "cell_type": "markdown",
   "id": "united-motel",
   "metadata": {},
   "source": [
    "Chú ý: \n",
    "- Nếu trong quá trình khử có trao đổi hàng n lần thì định thức sẽ đổi dấu n lần.\n",
    "- Nếu có một cột nào đó của ma trận vuông mà không có phần tử khử thì sẽ trả về det(A) = 0. Vì vậy, ta không cần mảng index để theo dõi các cột pivot nữa.\n",
    "- Viết thêm hàm kiểm tra ma trận vuông nữa.\n",
    "- In ma trận khử theo các cột thẳng nhau. "
   ]
  },
  {
   "cell_type": "code",
   "execution_count": 44,
   "id": "buried-concrete",
   "metadata": {},
   "outputs": [],
   "source": [
    "def rowExchange(A, n, k, i): \n",
    "    # Y tuong: di tung cot tu 0 den n, thuc hien trao doi hai phan tu tren hai hang thuoc cot do. \n",
    "    for j in range(n): \n",
    "        A[k][j], A[i][j] = A[i][j], A[k][j]"
   ]
  },
  {
   "cell_type": "code",
   "execution_count": 45,
   "id": "associate-commission",
   "metadata": {},
   "outputs": [],
   "source": [
    "def printEliMatrix(A, n):\n",
    "    print('Elimination augmented matrix: ')\n",
    "    for i in range(n): \n",
    "        for j in range(n): \n",
    "            print('%.5f  ' %(A[i][j]), end=' ')\n",
    "        print()\n",
    "    print()"
   ]
  },
  {
   "cell_type": "code",
   "execution_count": 60,
   "id": "emotional-sheep",
   "metadata": {},
   "outputs": [],
   "source": [
    "def GaussDeter(A): \n",
    "    n = len(A)\n",
    "    sign = 1\n",
    "    \n",
    "    for i in range(n): \n",
    "        flag = True \n",
    "        if A[i][i] != 0: \n",
    "            print('Không cần hoán đổi.')\n",
    "        else: \n",
    "            print('Cần hoán đổi.')\n",
    "            \n",
    "            # Tìm hàng để hoán đổi. \n",
    "            for k in range(i + 1, n): \n",
    "                if A[k][i] != 0: \n",
    "                    rowExchange(A, n, k, i)\n",
    "                    sign *= -1 \n",
    "                    \n",
    "                    print('Hàng %d và hàng %d đã được hoán đổi!' % (k + 1, i + 1))\n",
    "                    break \n",
    "            else: \n",
    "                print('Cột thứ %d không có phần tử hoán đổi được.' % (i + 1))\n",
    "                flag = False\n",
    "        \n",
    "        # Kiểm tra xem cột thứ i có phần tử pivot không. \n",
    "        if flag == False: \n",
    "            return 'detA = 0.0'\n",
    "        else: \n",
    "            for row in range(i + 1, n):   # k là biến hàng\n",
    "                A[row][i] = A[row][i] / A[i][i] \n",
    "                \n",
    "                for col in range(i + 1, n): # t là biến cột\n",
    "                    A[row][col] = A[row][col] - A[row][i] * A[i][col]\n",
    "                \n",
    "            # Đặt lại các phần tử dưới phần tử đường chéo chính A[i][i] = 0. \n",
    "            for row in range(i + 1, n): \n",
    "                A[row][i] = 0 \n",
    "\n",
    "            print('Ma trận A sau khi khử phần tử trụ thứ %d: ' %(i + 1))\n",
    "            for i in range(n): \n",
    "                for j in range(n): \n",
    "                    print('%.5f     ' %(A[i][j]), end='')\n",
    "                print()\n",
    "            print()\n",
    "          \n",
    "    printEliMatrix(A, n)\n",
    "\n",
    "    # Tính tích của các phần tử trên đường chéo chính của ma trận tam giác trên thu được ở trên. \n",
    "    detA = 1\n",
    "    for i in range(n): \n",
    "        detA *= A[i][i]\n",
    "    detA *= sign \n",
    "    \n",
    "    return 'detA = %f' % (detA)"
   ]
  },
  {
   "cell_type": "markdown",
   "id": "reserved-azerbaijan",
   "metadata": {},
   "source": [
    "Ví dụ 1: Ma trận A có cột không thể trao đổi hàng => trả về detA = 0."
   ]
  },
  {
   "cell_type": "code",
   "execution_count": 61,
   "id": "collective-tobago",
   "metadata": {},
   "outputs": [],
   "source": [
    "A = np.array([[1, 2, 3, 2, 6], \n",
    "              [2, 4, 4, 1, 5], \n",
    "              [3, 6, 5, 2, 1], \n",
    "              [2, 4, 1, 5, 3], \n",
    "              [4, 8, 12, 5, 6]], dtype='float')"
   ]
  },
  {
   "cell_type": "code",
   "execution_count": 62,
   "id": "fallen-giving",
   "metadata": {},
   "outputs": [
    {
     "name": "stdout",
     "output_type": "stream",
     "text": [
      "Không cần hoán đổi.\n",
      "Ma trận A sau khi khử phần tử trụ thứ 1: \n",
      "1.00000     2.00000     3.00000     2.00000     6.00000     \n",
      "0.00000     0.00000     -2.00000     -3.00000     -7.00000     \n",
      "0.00000     0.00000     -4.00000     -4.00000     -17.00000     \n",
      "0.00000     0.00000     -5.00000     1.00000     -9.00000     \n",
      "0.00000     0.00000     0.00000     -3.00000     -18.00000     \n",
      "\n",
      "Cần hoán đổi.\n",
      "Cột thứ 2 không có phần tử hoán đổi được.\n"
     ]
    },
    {
     "data": {
      "text/plain": [
       "'detA = 0.0'"
      ]
     },
     "execution_count": 62,
     "metadata": {},
     "output_type": "execute_result"
    }
   ],
   "source": [
    "GaussDeter(A.copy())"
   ]
  },
  {
   "cell_type": "markdown",
   "id": "through-australian",
   "metadata": {},
   "source": [
    "Kiểm chứng với hàm của numpy: "
   ]
  },
  {
   "cell_type": "code",
   "execution_count": 49,
   "id": "conventional-binary",
   "metadata": {},
   "outputs": [
    {
     "data": {
      "text/plain": [
       "0.0"
      ]
     },
     "execution_count": 49,
     "metadata": {},
     "output_type": "execute_result"
    }
   ],
   "source": [
    "np.linalg.det(A.copy())"
   ]
  },
  {
   "cell_type": "markdown",
   "id": "dutch-playing",
   "metadata": {},
   "source": [
    "Ví dụ 2: Trường hợp ma trận A có trao đổi hàng, và định thức đổi dấu."
   ]
  },
  {
   "cell_type": "code",
   "execution_count": 50,
   "id": "single-learning",
   "metadata": {},
   "outputs": [],
   "source": [
    "A1 = np.array([[1, -1, 2, -1], \n",
    "               [2, -2, 3, -3], \n",
    "               [1, 1, 1, 0], \n",
    "               [1, -1, 4, 3]], dtype='float')"
   ]
  },
  {
   "cell_type": "code",
   "execution_count": 51,
   "id": "eight-french",
   "metadata": {},
   "outputs": [
    {
     "name": "stdout",
     "output_type": "stream",
     "text": [
      "Không cần hoán đổi.\n",
      "Ma trận A sau khi khử phần tử trụ thứ 1: \n",
      "1.00000     -1.00000     2.00000     -1.00000     \n",
      "0.00000     0.00000     -1.00000     -1.00000     \n",
      "0.00000     2.00000     -1.00000     1.00000     \n",
      "0.00000     0.00000     2.00000     4.00000     \n",
      "\n",
      "Cần hoán đổi.\n",
      "Hàng 3 và hàng 2 đã được hoán đổi!\n",
      "Ma trận A sau khi khử phần tử trụ thứ 2: \n",
      "1.00000     -1.00000     2.00000     -1.00000     \n",
      "0.00000     2.00000     -1.00000     1.00000     \n",
      "0.00000     0.00000     -1.00000     -1.00000     \n",
      "0.00000     0.00000     2.00000     4.00000     \n",
      "\n",
      "Không cần hoán đổi.\n",
      "Ma trận A sau khi khử phần tử trụ thứ 3: \n",
      "1.00000     -1.00000     2.00000     -1.00000     \n",
      "0.00000     2.00000     -1.00000     1.00000     \n",
      "0.00000     0.00000     -1.00000     -1.00000     \n",
      "0.00000     0.00000     0.00000     2.00000     \n",
      "\n",
      "Không cần hoán đổi.\n",
      "Ma trận A sau khi khử phần tử trụ thứ 4: \n",
      "1.00000     -1.00000     2.00000     -1.00000     \n",
      "0.00000     2.00000     -1.00000     1.00000     \n",
      "0.00000     0.00000     -1.00000     -1.00000     \n",
      "0.00000     0.00000     0.00000     2.00000     \n",
      "\n",
      "Elimination augmented matrix: \n",
      "1.00000   -1.00000   2.00000   -1.00000   \n",
      "0.00000   2.00000   -1.00000   1.00000   \n",
      "0.00000   0.00000   -1.00000   -1.00000   \n",
      "0.00000   0.00000   0.00000   2.00000   \n",
      "\n"
     ]
    },
    {
     "data": {
      "text/plain": [
       "'detA = 4.000000'"
      ]
     },
     "execution_count": 51,
     "metadata": {},
     "output_type": "execute_result"
    }
   ],
   "source": [
    "GaussDeter(A1.copy())"
   ]
  },
  {
   "cell_type": "markdown",
   "id": "massive-material",
   "metadata": {},
   "source": [
    "Kiểm chứng với hàm numpy:"
   ]
  },
  {
   "cell_type": "code",
   "execution_count": 52,
   "id": "invalid-beast",
   "metadata": {},
   "outputs": [
    {
     "data": {
      "text/plain": [
       "4.000000000000001"
      ]
     },
     "execution_count": 52,
     "metadata": {},
     "output_type": "execute_result"
    }
   ],
   "source": [
    "np.linalg.det(A1.copy())"
   ]
  },
  {
   "cell_type": "markdown",
   "id": "governing-suite",
   "metadata": {},
   "source": [
    "Ví dụ 3: Không cần hoán đổi hàng => Định thức không đổi dấu."
   ]
  },
  {
   "cell_type": "code",
   "execution_count": 57,
   "id": "cooked-state",
   "metadata": {},
   "outputs": [],
   "source": [
    "A2 = np.array([[1, 1, 0, 3], \n",
    "              [2, 1, -1, 1], \n",
    "              [3, -1, -1, 2],\n",
    "              [-1, 2, 3, -1]], dtype='float')"
   ]
  },
  {
   "cell_type": "code",
   "execution_count": 58,
   "id": "intermediate-locking",
   "metadata": {},
   "outputs": [
    {
     "name": "stdout",
     "output_type": "stream",
     "text": [
      "Không cần hoán đổi.\n",
      "Ma trận A sau khi khử phần tử trụ thứ 1: \n",
      "1.00000     1.00000     0.00000     3.00000     \n",
      "0.00000     -1.00000     -1.00000     -5.00000     \n",
      "0.00000     -4.00000     -1.00000     -7.00000     \n",
      "0.00000     3.00000     3.00000     2.00000     \n",
      "\n",
      "Không cần hoán đổi.\n",
      "Ma trận A sau khi khử phần tử trụ thứ 2: \n",
      "1.00000     1.00000     0.00000     3.00000     \n",
      "0.00000     -1.00000     -1.00000     -5.00000     \n",
      "0.00000     0.00000     3.00000     13.00000     \n",
      "0.00000     0.00000     0.00000     -13.00000     \n",
      "\n",
      "Không cần hoán đổi.\n",
      "Ma trận A sau khi khử phần tử trụ thứ 3: \n",
      "1.00000     1.00000     0.00000     3.00000     \n",
      "0.00000     -1.00000     -1.00000     -5.00000     \n",
      "0.00000     0.00000     3.00000     13.00000     \n",
      "0.00000     0.00000     0.00000     -13.00000     \n",
      "\n",
      "Không cần hoán đổi.\n",
      "Ma trận A sau khi khử phần tử trụ thứ 4: \n",
      "1.00000     1.00000     0.00000     3.00000     \n",
      "0.00000     -1.00000     -1.00000     -5.00000     \n",
      "0.00000     0.00000     3.00000     13.00000     \n",
      "0.00000     0.00000     0.00000     -13.00000     \n",
      "\n",
      "Elimination augmented matrix: \n",
      "1.00000   1.00000   0.00000   3.00000   \n",
      "0.00000   -1.00000   -1.00000   -5.00000   \n",
      "0.00000   0.00000   3.00000   13.00000   \n",
      "0.00000   0.00000   0.00000   -13.00000   \n",
      "\n"
     ]
    },
    {
     "data": {
      "text/plain": [
       "'detA = 39.000000'"
      ]
     },
     "execution_count": 58,
     "metadata": {},
     "output_type": "execute_result"
    }
   ],
   "source": [
    "GaussDeter(A2.copy())"
   ]
  },
  {
   "cell_type": "markdown",
   "id": "greater-florida",
   "metadata": {},
   "source": [
    "Kiểm chứng kết quả trên với hàm det của numpy: "
   ]
  },
  {
   "cell_type": "code",
   "execution_count": 59,
   "id": "invisible-prototype",
   "metadata": {},
   "outputs": [
    {
     "data": {
      "text/plain": [
       "38.99999999999999"
      ]
     },
     "execution_count": 59,
     "metadata": {},
     "output_type": "execute_result"
    }
   ],
   "source": [
    "np.linalg.det(A2.copy())"
   ]
  },
  {
   "cell_type": "markdown",
   "id": "spread-harmony",
   "metadata": {},
   "source": [
    "Ví dụ 4: Trường hợp trao đổi hàng nhiều lần => định thức đổi dấu nhiều lần. "
   ]
  },
  {
   "cell_type": "markdown",
   "id": "tropical-imperial",
   "metadata": {},
   "source": [
    "## Câu 4: "
   ]
  },
  {
   "cell_type": "markdown",
   "id": "ready-queensland",
   "metadata": {},
   "source": [
    "Chú ý: \n",
    "- Các phần tử ngoài đường chéo chính được lặp về dần 0, vì vậy vẫn phải cần sai số để dừng vòng lặp.\n",
    "- Cần chứng minh được sự hội tụ của thuật toán."
   ]
  },
  {
   "cell_type": "code",
   "execution_count": 4,
   "id": "basic-belfast",
   "metadata": {},
   "outputs": [],
   "source": [
    "def JacobiEigenAlgo(A): # chú ý là ma trận A phải là ma trận đối xứng.\n",
    "    n = len(A)\n",
    "    flag = True\n",
    "    iter = 0\n",
    "    \n",
    "    S = np.identity(n)\n",
    "    \n",
    "    # Tìm phần tử có trị tuyệt đối lớn nhất ngoài đường chéo chính từ D, ta chỉ search ở nửa trên của D.\n",
    "    while flag == True:    \n",
    "        iter += 1\n",
    "        flag = False\n",
    "        row, col = 0, 0\n",
    "        max = 0 \n",
    "        for i in range(n): \n",
    "            for j in range(i + 1, n): \n",
    "                if abs(A[i][j]) > max: \n",
    "                    max = abs(A[i][j])\n",
    "                    row, col = i, j\n",
    "                    \n",
    "        # Tìm góc quay. \n",
    "        if A[row][row] == A[col][col]: \n",
    "            if A[row][col] > 0: \n",
    "                theta = math.pi / 4\n",
    "            else: \n",
    "                theta = -math.pi / 4\n",
    "        else: \n",
    "            theta = 0.5 * math.atan(2 * A[row][col] / (A[row][row] - A[col][col]))\n",
    "    \n",
    "        # Tính ma trận S1 là ma trận quay tương ứng với góc quay theta ở trên. \n",
    "        S1 = np.identity(n)\n",
    "        S1[row][row], S1[col][col] = math.cos(theta), math.cos(theta)\n",
    "        S1[row][col], S1[col][row] = -math.sin(theta), math.sin(theta)\n",
    "    \n",
    "        A = np.matmul(S1.T, np.matmul(A, S1))\n",
    "        S = np.matmul(S, S1)\n",
    "        \n",
    "        # Đặt lại phần tử D[i][j] = 0, vì nếu không sẽ bị xấp xỉ bằng 0. \n",
    "        A[row][col], A[col][row] = 0.0, 0.0\n",
    "        \n",
    "        # Kiểm tra xem còn phần tử nào lớn hơn 0 không. \n",
    "        for i in range(n): \n",
    "            for j in range(i + 1, n): \n",
    "                if abs(A[i][j]) > 1e-10: \n",
    "                    flag = True \n",
    "                    break \n",
    "            if flag == True: \n",
    "                break \n",
    "        \n",
    "        print('iter %d: ' % (iter))\n",
    "        print('eigenvalues: ')\n",
    "        for i in range(n): \n",
    "            for j in range(n): \n",
    "                print('%.10f  ' % (A[i][j]), end=' ')\n",
    "            print()\n",
    "        print()\n",
    "        \n",
    "        print('eigenvectors: ')\n",
    "        for i in range(n): \n",
    "            for j in range(n): \n",
    "                print('%.10f  ' % (S[i][j]), end=' ')\n",
    "            print()\n",
    "        print()\n",
    "        \n",
    "    return np.diag(A), S"
   ]
  },
  {
   "cell_type": "code",
   "execution_count": 55,
   "id": "champion-marks",
   "metadata": {},
   "outputs": [],
   "source": [
    "A = np.array([[4, -30, 60, -35], \n",
    "              [-30, 300, -675, 420], \n",
    "              [60, -675, 1620, -1050], \n",
    "              [-35, 420, -1050, 700]], dtype='float')"
   ]
  },
  {
   "cell_type": "code",
   "execution_count": 56,
   "id": "announced-management",
   "metadata": {},
   "outputs": [
    {
     "name": "stdout",
     "output_type": "stream",
     "text": [
      "iter 1: \n",
      "eigenvalues: \n",
      "4.0000000000   -30.0000000000   69.3723680938   3.5319321985   \n",
      "-30.0000000000   300.0000000000   -794.8015568895   -17.7619020953   \n",
      "69.3723680938   -794.8015568895   2306.3420083029   0.0000000000   \n",
      "3.5319321985   -17.7619020953   0.0000000000   13.6579916971   \n",
      "\n",
      "eigenvectors: \n",
      "1.0000000000   0.0000000000   0.0000000000   0.0000000000   \n",
      "0.0000000000   1.0000000000   0.0000000000   0.0000000000   \n",
      "0.0000000000   0.0000000000   0.8370413386   0.5471396508   \n",
      "0.0000000000   0.0000000000   -0.5471396508   0.8370413386   \n",
      "\n",
      "iter 2: \n",
      "eigenvalues: \n",
      "4.0000000000   -5.5240022975   75.3791141734   3.5319321985   \n",
      "-5.5240022975   23.3032069145   0.0000000000   -16.7744606195   \n",
      "75.3791141734   0.0000000000   2583.0388013884   5.8397463102   \n",
      "3.5319321985   -16.7744606195   5.8397463102   13.6579916971   \n",
      "\n",
      "eigenvectors: \n",
      "1.0000000000   0.0000000000   0.0000000000   0.0000000000   \n",
      "0.0000000000   0.9444067718   -0.3287793322   0.0000000000   \n",
      "0.0000000000   0.2752018924   0.7905075085   0.5471396508   \n",
      "0.0000000000   -0.1798882090   -0.5167223914   0.8370413386   \n",
      "\n",
      "iter 3: \n",
      "eigenvalues: \n",
      "1.7987282498   -5.5216483788   0.0000000000   3.3599636099   \n",
      "-5.5216483788   23.3032069145   -0.1612469014   -16.7744606195   \n",
      "0.0000000000   -0.1612469014   2585.2400731387   5.9403557606   \n",
      "3.3599636099   -16.7744606195   5.9403557606   13.6579916971   \n",
      "\n",
      "eigenvectors: \n",
      "0.9995738744   0.0000000000   0.0291902307   0.0000000000   \n",
      "0.0095971446   0.9444067718   -0.3286392310   0.0000000000   \n",
      "-0.0230750965   0.2752018924   0.7901706530   0.5471396508   \n",
      "0.0150832458   -0.1798882090   -0.5165022027   0.8370413386   \n",
      "\n",
      "iter 4: \n",
      "eigenvalues: \n",
      "1.7987282498   -6.4320827367   0.0000000000   -0.6373915182   \n",
      "-6.4320827367   35.9345407868   -3.7021591337   0.0000000000   \n",
      "0.0000000000   -3.7021591337   2585.2400731387   4.6484239129   \n",
      "-0.6373915182   0.0000000000   4.6484239129   1.0266578248   \n",
      "\n",
      "eigenvectors: \n",
      "0.9995738744   0.0000000000   0.0291902307   0.0000000000   \n",
      "0.0095971446   0.7544340721   -0.3286392310   0.5680962784   \n",
      "-0.0230750965   -0.1092816339   0.7901706530   0.6026237662   \n",
      "0.0150832458   -0.6472146130   -0.5165022027   0.5604562561   \n",
      "\n",
      "iter 5: \n",
      "eigenvalues: \n",
      "0.6269768263   0.0000000000   -0.6635130788   -0.6270711460   \n",
      "0.0000000000   37.1062922103   -3.6422153486   0.1142353944   \n",
      "-0.6635130788   -3.6422153486   2585.2400731387   4.6484239129   \n",
      "-0.6270711460   0.1142353944   4.6484239129   1.0266578248   \n",
      "\n",
      "eigenvectors: \n",
      "0.9833891997   -0.1791469018   0.0291902307   0.0000000000   \n",
      "0.1446538957   0.7404985650   -0.3286392310   0.5680962784   \n",
      "-0.0422872865   -0.1033765978   0.7901706530   0.6026237662   \n",
      "-0.1011568973   -0.6394384581   -0.5165022027   0.5604562561   \n",
      "\n",
      "iter 6: \n",
      "eigenvalues: \n",
      "0.6269768263   0.0000000000   -0.6646399611   -0.6258766252   \n",
      "0.0000000000   37.1062922103   -3.6420039732   0.1207867113   \n",
      "-0.6646399611   -3.6420039732   2585.2484345901   0.0000000000   \n",
      "-0.6258766252   0.1207867113   0.0000000000   1.0182963733   \n",
      "\n",
      "eigenvectors: \n",
      "0.9833891997   -0.1791469018   0.0291901835   -0.0000525065   \n",
      "0.1446538957   0.7404985650   -0.3276168257   0.5686865052   \n",
      "-0.0422872865   -0.1033765978   0.7912533552   0.6012014573   \n",
      "-0.1011568973   -0.6394384581   -0.5154932362   0.5613844172   \n",
      "\n",
      "iter 7: \n",
      "eigenvalues: \n",
      "0.6269768263   -0.0009499525   -0.6646392822   -0.6258766252   \n",
      "-0.0009499525   37.1010867841   0.0000000000   0.1207865879   \n",
      "-0.6646392822   0.0000000000   2585.2536400163   -0.0001726373   \n",
      "-0.6258766252   0.1207865879   -0.0001726373   1.0182963733   \n",
      "\n",
      "eigenvectors: \n",
      "0.9833891997   -0.1791049981   0.0294462036   -0.0000525065   \n",
      "0.1446538957   0.7400295545   -0.3286748662   0.5686865052   \n",
      "-0.0422872865   -0.1022455746   0.7914003005   0.6012014573   \n",
      "-0.1011568973   -0.6401745860   -0.5145787770   0.5613844172   \n",
      "\n",
      "iter 8: \n",
      "eigenvalues: \n",
      "0.6268059136   -0.0009499525   0.0000000000   -0.6258766489   \n",
      "-0.0009499525   37.1010867841   0.0000002443   0.1207865879   \n",
      "0.0000000000   0.0000002443   2585.2538109289   -0.0000116925   \n",
      "-0.6258766489   0.1207865879   -0.0000116925   1.0182963733   \n",
      "\n",
      "eigenvectors: \n",
      "0.9833967393   -0.1791049981   0.0291933232   -0.0000525065   \n",
      "0.1445693718   0.7400295545   -0.3287120533   0.5686865052   \n",
      "-0.0420837758   -0.1022455746   0.7914111486   0.6012014573   \n",
      "-0.1012892183   -0.6401745860   -0.5145527474   0.5613844172   \n",
      "\n",
      "iter 9: \n",
      "eigenvalues: \n",
      "0.1667784888   0.0707696238   -0.0000069248   0.0000000000   \n",
      "0.0707696238   37.1010867841   0.0000002443   0.0978874996   \n",
      "-0.0000069248   0.0000002443   2585.2538109289   -0.0000094213   \n",
      "0.0000000000   0.0978874996   -0.0000094213   1.4783237982   \n",
      "\n",
      "eigenvectors: \n",
      "0.7923498091   -0.1791049981   0.0291933232   -0.5824525128   \n",
      "0.4532889079   0.7400295545   -0.3287120533   0.3726040934   \n",
      "0.3221481942   -0.1022455746   0.7914111486   0.5093474034   \n",
      "0.2508614898   -0.6401745860   -0.5145527474   0.5123284909   \n",
      "\n",
      "iter 10: \n",
      "eigenvalues: \n",
      "0.1667784888   0.0707693566   -0.0000069248   -0.0001944651   \n",
      "0.0707693566   37.1013557664   0.0000002184   0.0000000000   \n",
      "-0.0000069248   0.0000002184   2585.2538109289   -0.0000094220   \n",
      "-0.0001944651   0.0000000000   -0.0000094220   1.4780548159   \n",
      "\n",
      "eigenvectors: \n",
      "0.7923498091   -0.1807048203   0.0291933232   -0.5819581582   \n",
      "0.4532889079   0.7410506248   -0.3287120533   0.3705691885   \n",
      "0.3221481942   -0.1008455728   0.7914111486   0.5096264371   \n",
      "0.2508614898   -0.6387643618   -0.5145527474   0.5140856672   \n",
      "\n",
      "iter 11: \n",
      "eigenvalues: \n",
      "0.1666428900   0.0000000000   -0.0000069252   -0.0001944647   \n",
      "0.0000000000   37.1014913651   0.0000002051   -0.0000003726   \n",
      "-0.0000069252   0.0000002051   2585.2538109289   -0.0000094220   \n",
      "-0.0001944647   -0.0000003726   -0.0000094220   1.4780548159   \n",
      "\n",
      "eigenvectors: \n",
      "0.7926945963   -0.1791862966   0.0291933232   -0.5819581582   \n",
      "0.4518681763   0.7419177945   -0.3287120533   0.3705691885   \n",
      "0.3223408293   -0.1002281316   0.7914111486   0.5096264371   \n",
      "0.2520849419   -0.6382825229   -0.5145527474   0.5140856672   \n",
      "\n",
      "iter 12: \n",
      "eigenvalues: \n",
      "0.1666428612   -0.0000000001   -0.0000069266   0.0000000000   \n",
      "-0.0000000001   37.1014913651   0.0000002051   -0.0000003726   \n",
      "-0.0000069266   0.0000002051   2585.2538109289   -0.0000094210   \n",
      "0.0000000000   -0.0000003726   -0.0000094210   1.4780548448   \n",
      "\n",
      "eigenvectors: \n",
      "0.7926082911   -0.1791862966   0.0291933232   -0.5820756977   \n",
      "0.4519231218   0.7419177945   -0.3287120533   0.3705021785   \n",
      "0.3224163965   -0.1002281316   0.7914111486   0.5095786327   \n",
      "0.2521611711   -0.6382825229   -0.5145527474   0.5140482808   \n",
      "\n",
      "iter 13: \n",
      "eigenvalues: \n",
      "0.1666428612   -0.0000000001   -0.0000069266   -0.0000000000   \n",
      "-0.0000000001   37.1014913651   0.0000002051   -0.0000003726   \n",
      "-0.0000069266   0.0000002051   2585.2538109289   0.0000000000   \n",
      "-0.0000000000   -0.0000003726   0.0000000000   1.4780548448   \n",
      "\n",
      "eigenvectors: \n",
      "0.7926082911   -0.1791862966   0.0291933253   -0.5820756976   \n",
      "0.4519231218   0.7419177945   -0.3287120546   0.3705021773   \n",
      "0.3224163965   -0.1002281316   0.7914111467   0.5095786356   \n",
      "0.2521611711   -0.6382825229   -0.5145527493   0.5140482789   \n",
      "\n",
      "iter 14: \n",
      "eigenvalues: \n",
      "0.1666428612   -0.0000000001   0.0000000000   -0.0000000000   \n",
      "-0.0000000001   37.1014913651   0.0000002051   -0.0000003726   \n",
      "0.0000000000   0.0000002051   2585.2538109289   0.0000000000   \n",
      "-0.0000000000   -0.0000003726   0.0000000000   1.4780548448   \n",
      "\n",
      "eigenvectors: \n",
      "0.7926082912   -0.1791862966   0.0291933232   -0.5820756976   \n",
      "0.4519231209   0.7419177945   -0.3287120558   0.3705021773   \n",
      "0.3224163986   -0.1002281316   0.7914111458   0.5095786356   \n",
      "0.2521611697   -0.6382825229   -0.5145527499   0.5140482789   \n",
      "\n",
      "iter 15: \n",
      "eigenvalues: \n",
      "0.1666428612   -0.0000000001   0.0000000000   -0.0000000000   \n",
      "-0.0000000001   37.1014913651   0.0000002051   0.0000000000   \n",
      "0.0000000000   0.0000002051   2585.2538109289   0.0000000000   \n",
      "-0.0000000000   0.0000000000   0.0000000000   1.4780548448   \n",
      "\n",
      "eigenvectors: \n",
      "0.7926082912   -0.1791862905   0.0291933232   -0.5820756995   \n",
      "0.4519231209   0.7419177906   -0.3287120558   0.3705021851   \n",
      "0.3224163986   -0.1002281369   0.7914111458   0.5095786345   \n",
      "0.2521611697   -0.6382825282   -0.5145527499   0.5140482722   \n",
      "\n",
      "iter 16: \n",
      "eigenvalues: \n",
      "0.1666428612   -0.0000000001   -0.0000000000   -0.0000000000   \n",
      "-0.0000000001   37.1014913651   0.0000000000   -0.0000000000   \n",
      "-0.0000000000   0.0000000000   2585.2538109289   0.0000000000   \n",
      "-0.0000000000   -0.0000000000   0.0000000000   1.4780548448   \n",
      "\n",
      "eigenvectors: \n",
      "0.7926082912   -0.1791862905   0.0291933232   -0.5820756995   \n",
      "0.4519231209   0.7419177906   -0.3287120558   0.3705021851   \n",
      "0.3224163986   -0.1002281369   0.7914111458   0.5095786345   \n",
      "0.2521611697   -0.6382825282   -0.5145527500   0.5140482722   \n",
      "\n"
     ]
    }
   ],
   "source": [
    "JacobiEigenAlgo(A.copy())"
   ]
  },
  {
   "cell_type": "code",
   "execution_count": 37,
   "id": "intellectual-reading",
   "metadata": {},
   "outputs": [
    {
     "data": {
      "text/plain": [
       "(array([2.58525381e+03, 3.71014914e+01, 1.66642861e-01, 1.47805484e+00]),\n",
       " array([[ 0.02919332, -0.17918629,  0.79260829, -0.5820757 ],\n",
       "        [-0.32871206,  0.74191779,  0.45192312,  0.37050219],\n",
       "        [ 0.79141115, -0.10022814,  0.3224164 ,  0.50957863],\n",
       "        [-0.51455275, -0.63828253,  0.25216117,  0.51404827]]))"
      ]
     },
     "execution_count": 37,
     "metadata": {},
     "output_type": "execute_result"
    }
   ],
   "source": [
    "np.linalg.eig(A.copy())"
   ]
  },
  {
   "cell_type": "markdown",
   "id": "continuous-valuable",
   "metadata": {},
   "source": [
    "Ví dụ 2: "
   ]
  },
  {
   "cell_type": "code",
   "execution_count": 41,
   "id": "super-draft",
   "metadata": {},
   "outputs": [],
   "source": [
    "A1 = np.array([[6, -2, -1],\n",
    "               [-2, 6, -1], \n",
    "               [-1, -1, 5]], dtype='float')"
   ]
  },
  {
   "cell_type": "code",
   "execution_count": 42,
   "id": "announced-timber",
   "metadata": {},
   "outputs": [
    {
     "name": "stdout",
     "output_type": "stream",
     "text": [
      "iter 1: \n",
      "eigenvalues: \n",
      "8.0000000000   0.0000000000   0.0000000000   \n",
      "0.0000000000   4.0000000000   -1.4142135624   \n",
      "0.0000000000   -1.4142135624   5.0000000000   \n",
      "\n",
      "eigenvectors: \n",
      "0.7071067812   0.7071067812   0.0000000000   \n",
      "-0.7071067812   0.7071067812   0.0000000000   \n",
      "0.0000000000   0.0000000000   1.0000000000   \n",
      "\n",
      "iter 2: \n",
      "eigenvalues: \n",
      "8.0000000000   0.0000000000   0.0000000000   \n",
      "0.0000000000   3.0000000000   0.0000000000   \n",
      "0.0000000000   0.0000000000   6.0000000000   \n",
      "\n",
      "eigenvectors: \n",
      "0.7071067812   0.5773502692   -0.4082482905   \n",
      "-0.7071067812   0.5773502692   -0.4082482905   \n",
      "0.0000000000   0.5773502692   0.8164965809   \n",
      "\n"
     ]
    }
   ],
   "source": [
    "JacobiEigenAlgo(A1.copy())"
   ]
  },
  {
   "cell_type": "code",
   "execution_count": 40,
   "id": "short-assembly",
   "metadata": {},
   "outputs": [
    {
     "data": {
      "text/plain": [
       "(array([3., 8., 6.]),\n",
       " array([[ 5.77350269e-01,  7.07106781e-01, -4.08248290e-01],\n",
       "        [ 5.77350269e-01, -7.07106781e-01, -4.08248290e-01],\n",
       "        [ 5.77350269e-01, -2.23967696e-17,  8.16496581e-01]]))"
      ]
     },
     "execution_count": 40,
     "metadata": {},
     "output_type": "execute_result"
    }
   ],
   "source": [
    "np.linalg.eig(A1.copy())"
   ]
  },
  {
   "cell_type": "markdown",
   "id": "organic-regulation",
   "metadata": {},
   "source": [
    "Ví dụ 3: Trường hợp có trị riêng bội 2:"
   ]
  },
  {
   "cell_type": "code",
   "execution_count": 46,
   "id": "middle-antique",
   "metadata": {},
   "outputs": [],
   "source": [
    "A2 = np.array([[3, -2, 4], \n",
    "               [-2, 6, 2], \n",
    "               [4, 2, 3]], dtype='float')"
   ]
  },
  {
   "cell_type": "code",
   "execution_count": 44,
   "id": "explicit-folks",
   "metadata": {},
   "outputs": [
    {
     "name": "stdout",
     "output_type": "stream",
     "text": [
      "iter 1: \n",
      "eigenvalues: \n",
      "7.0000000000   0.0000000000   0.0000000000   \n",
      "0.0000000000   6.0000000000   2.8284271247   \n",
      "0.0000000000   2.8284271247   -1.0000000000   \n",
      "\n",
      "eigenvectors: \n",
      "0.7071067812   0.0000000000   -0.7071067812   \n",
      "0.0000000000   1.0000000000   0.0000000000   \n",
      "0.7071067812   0.0000000000   0.7071067812   \n",
      "\n",
      "iter 2: \n",
      "eigenvalues: \n",
      "7.0000000000   0.0000000000   0.0000000000   \n",
      "0.0000000000   7.0000000000   0.0000000000   \n",
      "0.0000000000   0.0000000000   -2.0000000000   \n",
      "\n",
      "eigenvectors: \n",
      "0.7071067812   -0.2357022604   -0.6666666667   \n",
      "0.0000000000   0.9428090416   -0.3333333333   \n",
      "0.7071067812   0.2357022604   0.6666666667   \n",
      "\n"
     ]
    }
   ],
   "source": [
    "JacobiEigenAlgo(A2.copy())"
   ]
  },
  {
   "cell_type": "code",
   "execution_count": 47,
   "id": "atmospheric-attack",
   "metadata": {},
   "outputs": [
    {
     "data": {
      "text/plain": [
       "(array([ 7., -2.,  7.]),\n",
       " array([[ 0.74535599, -0.66666667, -0.14234692],\n",
       "        [-0.2981424 , -0.33333333,  0.93490334],\n",
       "        [ 0.59628479,  0.66666667,  0.32510475]]))"
      ]
     },
     "execution_count": 47,
     "metadata": {},
     "output_type": "execute_result"
    }
   ],
   "source": [
    "np.linalg.eig(A2.copy())"
   ]
  },
  {
   "cell_type": "markdown",
   "id": "permanent-excess",
   "metadata": {},
   "source": [
    "hmm... vd3 thì kết quả của lệnh eig là sai nếu so với trong sách. còn kq của thuật toán của mình là đúng."
   ]
  },
  {
   "cell_type": "markdown",
   "id": "therapeutic-review",
   "metadata": {},
   "source": [
    "Ví dụ 4: "
   ]
  },
  {
   "cell_type": "code",
   "execution_count": 48,
   "id": "wooden-burst",
   "metadata": {},
   "outputs": [],
   "source": [
    "A3 = np.array([[80, 100, 40], \n",
    "               [100, 170, 140], \n",
    "               [40, 140, 200]], dtype='float')"
   ]
  },
  {
   "cell_type": "code",
   "execution_count": 49,
   "id": "immune-insurance",
   "metadata": {},
   "outputs": [
    {
     "name": "stdout",
     "output_type": "stream",
     "text": [
      "iter 1: \n",
      "eigenvalues: \n",
      "80.0000000000   47.6466421019   96.5908768798   \n",
      "47.6466421019   44.1987215967   0.0000000000   \n",
      "96.5908768798   0.0000000000   325.8012784033   \n",
      "\n",
      "eigenvectors: \n",
      "1.0000000000   0.0000000000   0.0000000000   \n",
      "0.0000000000   0.7438189039   0.6683812072   \n",
      "0.0000000000   -0.6683812072   0.7438189039   \n",
      "\n",
      "iter 2: \n",
      "eigenvalues: \n",
      "46.5856859419   45.0284370154   0.0000000000   \n",
      "45.0284370154   44.1987215967   15.5769818494   \n",
      "0.0000000000   15.5769818494   359.2155924614   \n",
      "\n",
      "eigenvectors: \n",
      "0.9450495361   0.0000000000   0.3269271697   \n",
      "-0.2185119764   0.7438189039   0.6316533498   \n",
      "-0.2431746090   -0.6683812072   0.7029457101   \n",
      "\n",
      "iter 3: \n",
      "eigenvalues: \n",
      "90.4364546760   0.0000000000   10.8676898868   \n",
      "0.0000000000   0.3479528626   11.1595555494   \n",
      "10.8676898868   11.1595555494   359.2155924614   \n",
      "\n",
      "eigenvectors: \n",
      "0.6770459706   -0.6593385924   0.3269271697   \n",
      "0.3623998985   0.6853322984   0.6316533498   \n",
      "-0.6405271792   -0.3091799822   0.7029457101   \n",
      "\n",
      "iter 4: \n",
      "eigenvalues: \n",
      "90.4364546760   -0.3374589952   10.8624493050   \n",
      "-0.3374589952   0.0012637967   0.0000000000   \n",
      "10.8624493050   0.0000000000   359.5622815273   \n",
      "\n",
      "eigenvectors: \n",
      "0.6770459706   -0.6691722550   0.3062960117   \n",
      "0.3623998985   0.6653879821   0.6526294101   \n",
      "-0.6405271792   -0.3308584688   0.6930062094   \n",
      "\n",
      "iter 5: \n",
      "eigenvalues: \n",
      "89.9987367161   -0.3371853451   0.0000000000   \n",
      "-0.3371853451   0.0012637967   -0.0135873666   \n",
      "0.0000000000   -0.0135873666   359.9999994872   \n",
      "\n",
      "eigenvectors: \n",
      "0.6641643168   -0.6691722550   0.3333080458   \n",
      "0.3358287121   0.6653879821   0.6666917650   \n",
      "-0.6679107998   -0.3308584688   0.6666542111   \n",
      "\n",
      "iter 6: \n",
      "eigenvalues: \n",
      "90.0000000000   0.0000000000   0.0000509055   \n",
      "0.0000000000   0.0000005128   -0.0135872713   \n",
      "0.0000509055   -0.0135872713   359.9999994872   \n",
      "\n",
      "eigenvectors: \n",
      "0.6666667295   -0.6666792470   0.3333080458   \n",
      "0.3333334590   0.6666415046   0.6666917650   \n",
      "-0.6666665410   -0.3333584947   0.6666542111   \n",
      "\n",
      "iter 7: \n",
      "eigenvalues: \n",
      "90.0000000000   0.0000000019   0.0000509055   \n",
      "0.0000000019   0.0000000000   0.0000000000   \n",
      "0.0000509055   0.0000000000   360.0000000000   \n",
      "\n",
      "eigenvectors: \n",
      "0.6666667295   -0.6666666667   0.3333332076   \n",
      "0.3333334590   0.6666666667   0.6666666038   \n",
      "-0.6666665410   -0.3333333333   0.6666667924   \n",
      "\n",
      "iter 8: \n",
      "eigenvalues: \n",
      "90.0000000000   0.0000000019   0.0000000000   \n",
      "0.0000000019   0.0000000000   0.0000000000   \n",
      "0.0000000000   0.0000000000   360.0000000000   \n",
      "\n",
      "eigenvectors: \n",
      "0.6666666667   -0.6666666667   0.3333333333   \n",
      "0.3333333333   0.6666666667   0.6666666667   \n",
      "-0.6666666667   -0.3333333333   0.6666666667   \n",
      "\n",
      "iter 9: \n",
      "eigenvalues: \n",
      "90.0000000000   0.0000000000   0.0000000000   \n",
      "0.0000000000   0.0000000000   0.0000000000   \n",
      "0.0000000000   0.0000000000   360.0000000000   \n",
      "\n",
      "eigenvectors: \n",
      "0.6666666667   -0.6666666667   0.3333333333   \n",
      "0.3333333333   0.6666666667   0.6666666667   \n",
      "-0.6666666667   -0.3333333333   0.6666666667   \n",
      "\n"
     ]
    }
   ],
   "source": [
    "JacobiEigenAlgo(A3.copy())"
   ]
  },
  {
   "cell_type": "code",
   "execution_count": null,
   "id": "unlike-leave",
   "metadata": {},
   "outputs": [],
   "source": [
    "Có vấn đề là so với kq trong sách thì 90 và 0 có véc tơ riêng được đổi dấu, nhưng vt riêng 360 vẫn giữ nguyên dấu. "
   ]
  },
  {
   "cell_type": "code",
   "execution_count": 50,
   "id": "instructional-suite",
   "metadata": {},
   "outputs": [
    {
     "data": {
      "text/plain": [
       "(array([ 3.60000000e+02, -3.18981901e-14,  9.00000000e+01]),\n",
       " array([[-0.33333333, -0.66666667, -0.66666667],\n",
       "        [-0.66666667,  0.66666667, -0.33333333],\n",
       "        [-0.66666667, -0.33333333,  0.66666667]]))"
      ]
     },
     "execution_count": 50,
     "metadata": {},
     "output_type": "execute_result"
    }
   ],
   "source": [
    "np.linalg.eig(A3.copy())"
   ]
  },
  {
   "cell_type": "markdown",
   "id": "macro-given",
   "metadata": {},
   "source": [
    "### - Ứng dụng vào lưu ma trận sử dụng ô nhớ nhỏ nhất."
   ]
  },
  {
   "cell_type": "markdown",
   "id": "naked-colony",
   "metadata": {},
   "source": [
    "Đầu tiên, phải tìm được SVD của A bằng thuật toán Jacobi."
   ]
  },
  {
   "cell_type": "code",
   "execution_count": 18,
   "id": "confused-coordinate",
   "metadata": {},
   "outputs": [],
   "source": [
    "A = np.array([[4, 11, 14], \n",
    "              [8, 7, -2]], dtype='float')"
   ]
  },
  {
   "cell_type": "code",
   "execution_count": 19,
   "id": "representative-virtue",
   "metadata": {},
   "outputs": [
    {
     "name": "stdout",
     "output_type": "stream",
     "text": [
      "iter 1: \n",
      "eigenvalues: \n",
      "80.0000000000   47.6466421019   96.5908768798   \n",
      "47.6466421019   44.1987215967   0.0000000000   \n",
      "96.5908768798   0.0000000000   325.8012784033   \n",
      "\n",
      "eigenvectors: \n",
      "1.0000000000   0.0000000000   0.0000000000   \n",
      "0.0000000000   0.7438189039   0.6683812072   \n",
      "0.0000000000   -0.6683812072   0.7438189039   \n",
      "\n",
      "iter 2: \n",
      "eigenvalues: \n",
      "46.5856859419   45.0284370154   0.0000000000   \n",
      "45.0284370154   44.1987215967   15.5769818494   \n",
      "0.0000000000   15.5769818494   359.2155924614   \n",
      "\n",
      "eigenvectors: \n",
      "0.9450495361   0.0000000000   0.3269271697   \n",
      "-0.2185119764   0.7438189039   0.6316533498   \n",
      "-0.2431746090   -0.6683812072   0.7029457101   \n",
      "\n",
      "iter 3: \n",
      "eigenvalues: \n",
      "90.4364546760   0.0000000000   10.8676898868   \n",
      "0.0000000000   0.3479528626   11.1595555494   \n",
      "10.8676898868   11.1595555494   359.2155924614   \n",
      "\n",
      "eigenvectors: \n",
      "0.6770459706   -0.6593385924   0.3269271697   \n",
      "0.3623998985   0.6853322984   0.6316533498   \n",
      "-0.6405271792   -0.3091799822   0.7029457101   \n",
      "\n",
      "iter 4: \n",
      "eigenvalues: \n",
      "90.4364546760   -0.3374589952   10.8624493050   \n",
      "-0.3374589952   0.0012637967   0.0000000000   \n",
      "10.8624493050   0.0000000000   359.5622815273   \n",
      "\n",
      "eigenvectors: \n",
      "0.6770459706   -0.6691722550   0.3062960117   \n",
      "0.3623998985   0.6653879821   0.6526294101   \n",
      "-0.6405271792   -0.3308584688   0.6930062094   \n",
      "\n",
      "iter 5: \n",
      "eigenvalues: \n",
      "89.9987367161   -0.3371853451   0.0000000000   \n",
      "-0.3371853451   0.0012637967   -0.0135873666   \n",
      "0.0000000000   -0.0135873666   359.9999994872   \n",
      "\n",
      "eigenvectors: \n",
      "0.6641643168   -0.6691722550   0.3333080458   \n",
      "0.3358287121   0.6653879821   0.6666917650   \n",
      "-0.6679107998   -0.3308584688   0.6666542111   \n",
      "\n",
      "iter 6: \n",
      "eigenvalues: \n",
      "90.0000000000   0.0000000000   0.0000509055   \n",
      "0.0000000000   0.0000005128   -0.0135872713   \n",
      "0.0000509055   -0.0135872713   359.9999994872   \n",
      "\n",
      "eigenvectors: \n",
      "0.6666667295   -0.6666792470   0.3333080458   \n",
      "0.3333334590   0.6666415046   0.6666917650   \n",
      "-0.6666665410   -0.3333584947   0.6666542111   \n",
      "\n",
      "iter 7: \n",
      "eigenvalues: \n",
      "90.0000000000   0.0000000019   0.0000509055   \n",
      "0.0000000019   0.0000000000   0.0000000000   \n",
      "0.0000509055   0.0000000000   360.0000000000   \n",
      "\n",
      "eigenvectors: \n",
      "0.6666667295   -0.6666666667   0.3333332076   \n",
      "0.3333334590   0.6666666667   0.6666666038   \n",
      "-0.6666665410   -0.3333333333   0.6666667924   \n",
      "\n",
      "iter 8: \n",
      "eigenvalues: \n",
      "90.0000000000   0.0000000019   0.0000000000   \n",
      "0.0000000019   0.0000000000   0.0000000000   \n",
      "0.0000000000   0.0000000000   360.0000000000   \n",
      "\n",
      "eigenvectors: \n",
      "0.6666666667   -0.6666666667   0.3333333333   \n",
      "0.3333333333   0.6666666667   0.6666666667   \n",
      "-0.6666666667   -0.3333333333   0.6666666667   \n",
      "\n",
      "iter 9: \n",
      "eigenvalues: \n",
      "90.0000000000   0.0000000000   0.0000000000   \n",
      "0.0000000000   0.0000000000   0.0000000000   \n",
      "0.0000000000   0.0000000000   360.0000000000   \n",
      "\n",
      "eigenvectors: \n",
      "0.6666666667   -0.6666666667   0.3333333333   \n",
      "0.3333333333   0.6666666667   0.6666666667   \n",
      "-0.6666666667   -0.3333333333   0.6666666667   \n",
      "\n"
     ]
    }
   ],
   "source": [
    "square_Sigma1, V = JacobiEigenAlgo(np.matmul(A.T, A))"
   ]
  },
  {
   "cell_type": "code",
   "execution_count": 36,
   "id": "committed-aberdeen",
   "metadata": {},
   "outputs": [
    {
     "name": "stdout",
     "output_type": "stream",
     "text": [
      "[9.00000000e+01 1.86386605e-15 3.60000000e+02]\n"
     ]
    }
   ],
   "source": [
    "print(square_Sigma1)"
   ]
  },
  {
   "cell_type": "code",
   "execution_count": 21,
   "id": "smart-fossil",
   "metadata": {},
   "outputs": [
    {
     "name": "stdout",
     "output_type": "stream",
     "text": [
      "[[ 0.66666667 -0.66666667  0.33333333]\n",
      " [ 0.33333333  0.66666667  0.66666667]\n",
      " [-0.66666667 -0.33333333  0.66666667]]\n"
     ]
    }
   ],
   "source": [
    "print(V)"
   ]
  },
  {
   "cell_type": "code",
   "execution_count": 26,
   "id": "statewide-stanley",
   "metadata": {},
   "outputs": [
    {
     "name": "stdout",
     "output_type": "stream",
     "text": [
      "iter 1: \n",
      "eigenvalues: \n",
      "360.0000000000   0.0000000000   \n",
      "0.0000000000   90.0000000000   \n",
      "\n",
      "eigenvectors: \n",
      "0.9486832981   -0.3162277660   \n",
      "0.3162277660   0.9486832981   \n",
      "\n"
     ]
    }
   ],
   "source": [
    "square_Sigma2, U = JacobiEigenAlgo(np.matmul(A, A.T))"
   ]
  },
  {
   "cell_type": "code",
   "execution_count": 27,
   "id": "cutting-telephone",
   "metadata": {},
   "outputs": [
    {
     "name": "stdout",
     "output_type": "stream",
     "text": [
      "[360.  90.]\n"
     ]
    }
   ],
   "source": [
    "print(square_Sigma2)"
   ]
  },
  {
   "cell_type": "code",
   "execution_count": 28,
   "id": "inappropriate-shanghai",
   "metadata": {},
   "outputs": [
    {
     "name": "stdout",
     "output_type": "stream",
     "text": [
      "[[ 0.9486833  -0.31622777]\n",
      " [ 0.31622777  0.9486833 ]]\n"
     ]
    }
   ],
   "source": [
    "print(U)"
   ]
  },
  {
   "cell_type": "markdown",
   "id": "technological-gnome",
   "metadata": {},
   "source": [
    "Bây giờ, cần sắp xếp lại square_Sigma và V theo thứ tự độ lớn giảm dần. "
   ]
  },
  {
   "cell_type": "code",
   "execution_count": 34,
   "id": "level-radio",
   "metadata": {},
   "outputs": [],
   "source": [
    "def bubbleSort(nums): \n",
    "    n = len(nums)\n",
    "    \n",
    "    for i in range(n): \n",
    "        for j in range(n - i - 1): \n",
    "            if nums[j] < nums[j + 1]: \n",
    "                nums[j], nums[j + 1] = nums[j + 1], nums[j]\n",
    "                \n",
    "    return nums"
   ]
  },
  {
   "cell_type": "code",
   "execution_count": 25,
   "id": "executed-convertible",
   "metadata": {},
   "outputs": [
    {
     "name": "stdout",
     "output_type": "stream",
     "text": [
      "[[1 0 0]\n",
      " [0 2 0]\n",
      " [0 0 3]]\n"
     ]
    }
   ],
   "source": [
    "bubbleSort()"
   ]
  },
  {
   "cell_type": "code",
   "execution_count": 30,
   "id": "urban-recovery",
   "metadata": {},
   "outputs": [],
   "source": [
    "C = np.diag([[1, 2, 3], \n",
    "         [4, 5, 6], \n",
    "         [7, 8, 9]])"
   ]
  },
  {
   "cell_type": "code",
   "execution_count": 31,
   "id": "expired-clock",
   "metadata": {},
   "outputs": [
    {
     "name": "stdout",
     "output_type": "stream",
     "text": [
      "[1 5 9]\n"
     ]
    }
   ],
   "source": [
    "print(C)"
   ]
  },
  {
   "cell_type": "code",
   "execution_count": 32,
   "id": "critical-senegal",
   "metadata": {},
   "outputs": [
    {
     "data": {
      "text/plain": [
       "array([[1, 0, 0],\n",
       "       [0, 5, 0],\n",
       "       [0, 0, 9]])"
      ]
     },
     "execution_count": 32,
     "metadata": {},
     "output_type": "execute_result"
    }
   ],
   "source": [
    "np.diag(C)"
   ]
  },
  {
   "cell_type": "code",
   "execution_count": null,
   "id": "material-graduate",
   "metadata": {},
   "outputs": [],
   "source": [
    "hello world. the thing is better than it is. we dont know if we can do it forever but we dont know how to do it. "
   ]
  }
 ],
 "metadata": {
  "kernelspec": {
   "display_name": "Python 3",
   "language": "python",
   "name": "python3"
  },
  "language_info": {
   "codemirror_mode": {
    "name": "ipython",
    "version": 3
   },
   "file_extension": ".py",
   "mimetype": "text/x-python",
   "name": "python",
   "nbconvert_exporter": "python",
   "pygments_lexer": "ipython3",
   "version": "3.8.3"
  }
 },
 "nbformat": 4,
 "nbformat_minor": 5
}
