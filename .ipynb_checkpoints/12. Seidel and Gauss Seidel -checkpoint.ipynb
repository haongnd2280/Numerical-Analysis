{
 "cells": [
  {
   "cell_type": "markdown",
   "id": "quality-feelings",
   "metadata": {},
   "source": [
    "PP Seidel là một sự cải tiến của phương pháp lặp đơn? còn pp Gauss Seidel là một sự cải tiến của pp lặp Jacobi??"
   ]
  },
  {
   "cell_type": "code",
   "execution_count": 18,
   "id": "proper-chicago",
   "metadata": {},
   "outputs": [],
   "source": [
    "import numpy as np\n",
    "import math"
   ]
  },
  {
   "cell_type": "markdown",
   "id": "color-theology",
   "metadata": {},
   "source": [
    "# 1. Seidel (giống lặp đơn)"
   ]
  },
  {
   "cell_type": "markdown",
   "id": "abroad-inclusion",
   "metadata": {},
   "source": [
    "Mục đích: tranh thủ tối đa lượng thông tin đã có trong quá trình tính."
   ]
  },
  {
   "cell_type": "markdown",
   "id": "practical-blanket",
   "metadata": {},
   "source": [
    "1. Chuẩn hàng: \n",
    "- Công thức sai số hậu nghiệm: \n",
    "\\begin{align}\n",
    "\\Vert x^* - x^{(k)} \\Vert_{\\infty} \\leq \\frac{\\lambda}{1 - \\lambda}\\Vert x^{(k)} - x^{(k-1)} \\Vert_{\\infty}\n",
    "\\end{align}\n",
    "với \n",
    "\\begin{align}\n",
    "\\lambda = \\max_i \\frac{p_i}{1 - q_i}, \\quad p_i = \\sum_{j=i}^{n}|\\alpha_{ij}|, \\quad q_i = \\sum_{j=1}^{i-1}|\\alpha_{ij}|\n",
    "\\end{align}\n",
    "- Công thức sai số tiên nghiệm: \n",
    "\\begin{align}\n",
    "\\Vert x^{(k)} - x^* \\Vert_{\\infty} \\leq \\frac{\\Vert \\alpha \\Vert^k}{1 - \\Vert \\alpha \\Vert} \\Vert x^{(1)} - x^{(0)} \\Vert_{\\infty}\n",
    "\\end{align}"
   ]
  },
  {
   "cell_type": "markdown",
   "id": "southern-renewal",
   "metadata": {},
   "source": [
    "### 1.1. Hàm tính chuẩn hàng của ma trận."
   ]
  },
  {
   "cell_type": "code",
   "execution_count": 13,
   "id": "ignored-storm",
   "metadata": {},
   "outputs": [],
   "source": [
    "def rowMatrixNorm(A):\n",
    "    n = len(A)\n",
    "    maxRowSum = 0.0\n",
    "    \n",
    "    for j in range(n): \n",
    "        maxRowSum += abs(A[0][j]) # tính tổng trị tuyệt đối của hàng 1, và tạm thời gán nó là max_row. \n",
    "        \n",
    "    for i in range(1, n): \n",
    "        sum = 0 \n",
    "        for j in range(n): \n",
    "            sum += abs(A[i][j])\n",
    "            \n",
    "        if sum > maxRowSum: \n",
    "            maxRowSum = sum\n",
    "            \n",
    "    return maxRowSum"
   ]
  },
  {
   "cell_type": "markdown",
   "id": "independent-hampton",
   "metadata": {},
   "source": [
    "### 1.2. Hàm tính chuẩn cột của ma trận. "
   ]
  },
  {
   "cell_type": "code",
   "execution_count": 14,
   "id": "purple-scenario",
   "metadata": {},
   "outputs": [],
   "source": [
    "def colMatrixNorm(A):\n",
    "    n = len(A)\n",
    "    maxColSum = 0.0\n",
    "    \n",
    "    for i in range(n): \n",
    "        maxColSum += abs(A[i][0]) # tính tổng trị tuyệt đối của hàng 1, và tạm thời gán nó là max_row. \n",
    "        \n",
    "    for j in range(1, n): \n",
    "        sum = 0 \n",
    "        for i in range(n): \n",
    "            sum += abs(A[i][j])\n",
    "            \n",
    "        if sum > maxColSum: \n",
    "            maxColSum = sum\n",
    "            \n",
    "    return maxColSum"
   ]
  },
  {
   "cell_type": "markdown",
   "id": "greatest-elder",
   "metadata": {},
   "source": [
    "### 1.3. Hàm tính chuẩn cực đại của véc tơ (chuẩn hàng)"
   ]
  },
  {
   "cell_type": "code",
   "execution_count": 16,
   "id": "amazing-wyoming",
   "metadata": {},
   "outputs": [],
   "source": [
    "def maxVectorNorm(x): \n",
    "    n = len(x)\n",
    "    max = abs(x[0])\n",
    "    \n",
    "    for i in range(1, n): \n",
    "        if abs(x[i]) > max: \n",
    "            max = abs(x[i])\n",
    "            \n",
    "    return max"
   ]
  },
  {
   "cell_type": "markdown",
   "id": "western-football",
   "metadata": {},
   "source": [
    "### 1.4. Hàm tính chuẩn tuyệt đối của véc tơ (chuẩn cột)"
   ]
  },
  {
   "cell_type": "code",
   "execution_count": 17,
   "id": "rough-stage",
   "metadata": {},
   "outputs": [],
   "source": [
    "def absVectorNorm(x): \n",
    "    norm = 0 \n",
    "    \n",
    "    for i in range(len(x)): \n",
    "        norm += abs(x[i])\n",
    "        \n",
    "    return norm "
   ]
  },
  {
   "cell_type": "markdown",
   "id": "digital-slope",
   "metadata": {},
   "source": [
    "### 1.4. Lặp Seidel theo chuẩn hàng"
   ]
  },
  {
   "cell_type": "code",
   "execution_count": 74,
   "id": "confused-sport",
   "metadata": {},
   "outputs": [],
   "source": [
    "def rowSeidel(alpha, beta): \n",
    "    n = len(alpha)\n",
    "    \n",
    "    x0 = np.zeros(n)\n",
    "    x = np.zeros(n)\n",
    "    for i in range(n): \n",
    "        x[i] = np.dot(alpha[i][:i], x[:i]) + np.dot(alpha[i][i:], x[i:]) + beta[i] \n",
    "        \n",
    "    print('k = %d: ' % (1), end=' ')\n",
    "    print('x[%d] = %f' % (i, x[i]), end=' ')\n",
    "    print()\n",
    "        \n",
    "    print('Nhập vào sai số chung cho cả hai phép lặp:')\n",
    "    error = float(input())\n",
    "    \n",
    "    print('Bạn muốn lặp chuẩn hàng theo công thức sai số tiên nghiệm hay hậu nghiệm: ')\n",
    "    print('Tiên nghiệm: Ấn 1.')\n",
    "    print('Hậu nghiệm: Ấn 2.')\n",
    "    choice = int(input())\n",
    "        \n",
    "    \n",
    "    # Chú ý: Với ma trận alpha^(1), với mỗi hàng, ta chỉ cần nhân đến phần tử trước phần tử đường chéo chính thôi \n",
    "    # chứ không cần nhân hết, vì các phần tử đường chéo chính trở đi đều bằng 0. \n",
    "    # Tiếp đến, với ma trận alpha^(2), với mỗi hàng, ta nhân từ phần tử đường chéo chính trở đi. \n",
    "    \n",
    "    if choice == 1: # Lặp tiên nghiệm.\n",
    "        alNorm = rowMatrixNorm(alpha)\n",
    "        print('Chuẩn hàng của alpha = %f' % (alNorm))\n",
    "        k = math.ceil(math.log(error * (1 - alNorm) / maxVectorNorm(x - x0), alNorm))\n",
    "        print('k = %d' % (k))\n",
    "        \n",
    "        for num in range(k): \n",
    "            print('k = %d: ' % (num + 1), end=' ')\n",
    "            for i in range(n): \n",
    "                x[i] = np.dot(alpha[i][:i], x[:i]) + np.dot(alpha[i][i:], x[i:]) + beta[i] \n",
    "                print('x[%d] = %f' % (i, x[i]), end=' ')\n",
    "            print()\n",
    "            \n",
    "    elif choice == 2: # Lặp hậu nghiệm. \n",
    "        k = 0\n",
    "        \n",
    "        # Tính lamda. \n",
    "        lamda = 0 \n",
    "        for i in range(n): \n",
    "            pi = 0 \n",
    "            for j in range(i, n): \n",
    "                pi += abs(alpha[i][j])\n",
    "            \n",
    "            qi = 0 \n",
    "            for j in range(i): \n",
    "                qi += abs(alpha[i][j])\n",
    "        \n",
    "            if lamda < pi / (1 - qi): \n",
    "                lamda = pi / (1 - qi)\n",
    "        \n",
    "        print('lamda = %f' % (lamda))\n",
    "        \n",
    "        while lamda * maxVectorNorm(x - x0) / (1 - lamda) >= error: \n",
    "            x0 = np.copy(x)  # ndarray trong numpy hoạt động giống hệt list trong Python, nên không gán bình thường được.\n",
    "            \n",
    "            print('k = %d: ' % (k + 1), end=' ')\n",
    "            for i in range(n):\n",
    "                x[i] = np.dot(alpha[i][:i], x[:i]) + np.dot(alpha[i][i:], x[i:]) + beta[i] \n",
    "                print('x[%d] = %f' % (i, x[i]), end=' ')\n",
    "            print()\n",
    "            k += 1\n",
    "            \n",
    "    return x, k "
   ]
  },
  {
   "cell_type": "code",
   "execution_count": 75,
   "id": "bored-bookmark",
   "metadata": {},
   "outputs": [],
   "source": [
    "alpha = np.array([[0, -0.06, 0.02], \n",
    "                  [-0.03, 0, 0.05], \n",
    "                  [-0.01, 0.02, 0]])\n",
    "\n",
    "beta = np.array([2, 3, 5])"
   ]
  },
  {
   "cell_type": "code",
   "execution_count": 30,
   "id": "ideal-blame",
   "metadata": {},
   "outputs": [
    {
     "name": "stdout",
     "output_type": "stream",
     "text": [
      "Nhập vào sai số chung cho cả hai phép lặp:\n",
      "1e-3\n",
      "Bạn muốn lặp chuẩn hàng theo công thức sai số tiên nghiệm hay hậu nghiệm: \n",
      "Tiên nghiệm: Ấn 1.\n",
      "Hậu nghiệm: Ấn 2.\n",
      "1\n",
      "Chuẩn hàng của alpha = 0.080000\n",
      "k = 4\n",
      "k = 1:  x[0] = 1.924376 x[1] = 3.194209 x[2] = 5.044640 \n",
      "k = 2:  x[0] = 1.909240 x[1] = 3.194955 x[2] = 5.044807 \n",
      "k = 3:  x[0] = 1.909199 x[1] = 3.194964 x[2] = 5.044807 \n",
      "k = 4:  x[0] = 1.909198 x[1] = 3.194964 x[2] = 5.044807 \n"
     ]
    },
    {
     "data": {
      "text/plain": [
       "(array([1.90919828, 3.19496442, 5.04480731]), 4)"
      ]
     },
     "execution_count": 30,
     "metadata": {},
     "output_type": "execute_result"
    }
   ],
   "source": [
    "rowSeidel(alpha, beta)"
   ]
  },
  {
   "cell_type": "code",
   "execution_count": 76,
   "id": "centered-indianapolis",
   "metadata": {},
   "outputs": [
    {
     "name": "stdout",
     "output_type": "stream",
     "text": [
      "Nhập vào sai số chung cho cả hai phép lặp:\n",
      "1e-3\n",
      "Bạn muốn lặp chuẩn hàng theo công thức sai số tiên nghiệm hay hậu nghiệm: \n",
      "Tiên nghiệm: Ấn 1.\n",
      "Hậu nghiệm: Ấn 2.\n",
      "2\n",
      "lamda = 0.080000\n",
      "k = 1:  x[0] = 1.924376 x[1] = 3.194209 x[2] = 5.044640 \n",
      "k = 2:  x[0] = 1.909240 x[1] = 3.194955 x[2] = 5.044807 \n",
      "k = 3:  x[0] = 1.909199 x[1] = 3.194964 x[2] = 5.044807 \n"
     ]
    },
    {
     "data": {
      "text/plain": [
       "(array([1.90919885, 3.19496437, 5.0448073 ]), 3)"
      ]
     },
     "execution_count": 76,
     "metadata": {},
     "output_type": "execute_result"
    }
   ],
   "source": [
    "rowSeidel(alpha, beta)"
   ]
  },
  {
   "cell_type": "code",
   "execution_count": null,
   "id": "recorded-portland",
   "metadata": {},
   "outputs": [],
   "source": []
  },
  {
   "cell_type": "code",
   "execution_count": null,
   "id": "literary-reason",
   "metadata": {},
   "outputs": [],
   "source": []
  },
  {
   "cell_type": "markdown",
   "id": "therapeutic-slovakia",
   "metadata": {},
   "source": [
    "# 2. Gauss Seidel (giống lặp Jacobi)"
   ]
  },
  {
   "cell_type": "markdown",
   "id": "vanilla-jumping",
   "metadata": {},
   "source": [
    "## Trường hợp ma trận chéo trội hàng ($\\Vert \\alpha \\Vert_{\\infty} < 1$)"
   ]
  },
  {
   "cell_type": "markdown",
   "id": "supported-dispatch",
   "metadata": {},
   "source": [
    "- Công thức sai số tiên nghiệm: \n",
    "\\begin{align}\n",
    "\\Vert x^* - x^{(k)} \\Vert_{\\infty} \\leq \\frac{\\lambda^{k}}{1 - \\lambda}\\Vert x^{(1)} - x^{(0)} \\Vert_{\\infty}\n",
    "\\end{align}"
   ]
  },
  {
   "cell_type": "markdown",
   "id": "romance-poland",
   "metadata": {},
   "source": [
    "## Trường hợp ma trận chéo trội cột ($\\Vert \\alpha \\Vert_{1} < 1$)"
   ]
  },
  {
   "cell_type": "markdown",
   "id": "periodic-basics",
   "metadata": {},
   "source": [
    "- Công thức sai số hậu nghiệm: \n",
    "\\begin{align}\n",
    "\\Vert x^{(0)} - x^* \\Vert_1 \\leq \\frac{\\epsilon}{(1-s)(1-\\epsilon)}\\Vert x^{(k)} - x^{(k-1)}\\Vert_1\n",
    "\\end{align}\n",
    "với \n",
    "\\begin{align}\n",
    "s = \\max_j \\sum_{i=j+1}^{n}|\\alpha_{ij}|, \\quad \\epsilon = \\max_j \\frac{\\sum_{i=1}^{j}|\\alpha_{ij}|}{1-\\sum_{i=j+1}^{n}|\\alpha_{ij}|} \\leq \\Vert \\alpha \\Vert_1 < 1\n",
    "\\end{align}"
   ]
  },
  {
   "cell_type": "markdown",
   "id": "nuclear-destination",
   "metadata": {},
   "source": [
    "- Công thức sai số tiên nghiệm: \n",
    "\\begin{align}\n",
    "\\Vert x^{(0)} - x^* \\Vert_1 \\leq \\frac{\\epsilon^k}{(1-s)(1-\\epsilon)}\\Vert x^{(1)} - x^{(0)}\\Vert_1\n",
    "\\end{align}"
   ]
  },
  {
   "cell_type": "markdown",
   "id": "played-leave",
   "metadata": {},
   "source": [
    "## Chương trình chéo trội hàng: "
   ]
  },
  {
   "cell_type": "markdown",
   "id": "loved-meter",
   "metadata": {},
   "source": [
    "Cho hệ Ax = b. Nếu A có dạng chéo trội hàng, thì ta chuyển Ax = b về dạng x = alpha x + beta, với alpha = I - TA, T là ma trận nghịch đảo của ma trận đường chéo, beta = Tb"
   ]
  },
  {
   "cell_type": "markdown",
   "id": "ceramic-space",
   "metadata": {},
   "source": [
    "### Hàm kiểm tra nếu ma trận A là chéo trội hàng "
   ]
  },
  {
   "cell_type": "code",
   "execution_count": null,
   "id": "incomplete-mongolia",
   "metadata": {},
   "outputs": [],
   "source": [
    "def rowDomiMatrix(A): \n",
    "    n = len(A)\n",
    "    flag = True \n",
    "    \n",
    "    for i in range(n): \n",
    "        sum = 0 \n",
    "        for j in range(n): \n",
    "            "
   ]
  }
 ],
 "metadata": {
  "kernelspec": {
   "display_name": "Python 3",
   "language": "python",
   "name": "python3"
  },
  "language_info": {
   "codemirror_mode": {
    "name": "ipython",
    "version": 3
   },
   "file_extension": ".py",
   "mimetype": "text/x-python",
   "name": "python",
   "nbconvert_exporter": "python",
   "pygments_lexer": "ipython3",
   "version": "3.8.3"
  }
 },
 "nbformat": 4,
 "nbformat_minor": 5
}
