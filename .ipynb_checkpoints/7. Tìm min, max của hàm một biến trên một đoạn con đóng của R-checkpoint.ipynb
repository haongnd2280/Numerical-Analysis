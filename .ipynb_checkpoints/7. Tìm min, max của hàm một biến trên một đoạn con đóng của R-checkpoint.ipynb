{
 "cells": [
  {
   "cell_type": "markdown",
   "id": "coastal-ecology",
   "metadata": {},
   "source": [
    "# Câu hỏi: Hàm tổng quát hay chỉ hàm đa thức thôi???"
   ]
  },
  {
   "cell_type": "markdown",
   "id": "operating-rover",
   "metadata": {},
   "source": [
    "# Thực hiện chương trình: "
   ]
  },
  {
   "cell_type": "markdown",
   "id": "whole-internship",
   "metadata": {},
   "source": [
    "Danh sách ví dụ: "
   ]
  },
  {
   "cell_type": "markdown",
   "id": "bulgarian-nepal",
   "metadata": {},
   "source": [
    "1. f(x) = |e^x + sin(x^2)| trong khoảng [-3, 3]\n",
    "2. f(x) = x^4 - 4x^2 + 4 trong khoảng [-5, 5]\n",
    "3. f(x) = sinx + x - x^2"
   ]
  },
  {
   "cell_type": "code",
   "execution_count": 1,
   "id": "resistant-resource",
   "metadata": {},
   "outputs": [],
   "source": [
    "def f(x): \n",
    "    pass"
   ]
  },
  {
   "cell_type": "code",
   "execution_count": 2,
   "id": "cross-jason",
   "metadata": {},
   "outputs": [],
   "source": [
    "def df(x): \n",
    "    pass"
   ]
  },
  {
   "cell_type": "code",
   "execution_count": 3,
   "id": "suffering-broadcast",
   "metadata": {},
   "outputs": [],
   "source": [
    "def dff(x): \n",
    "    pass"
   ]
  },
  {
   "cell_type": "markdown",
   "id": "silent-infection",
   "metadata": {},
   "source": [
    "### Hàm gradient Descent tìm một điểm cực trị"
   ]
  },
  {
   "cell_type": "code",
   "execution_count": null,
   "id": "sacred-station",
   "metadata": {},
   "outputs": [],
   "source": [
    "def GraDes(a, b, eps, learning_rate): \n",
    "    x = a\n",
    "    iter = 0\n",
    "    \n",
    "    if df(x) == 0: \n",
    "        return x\n",
    "    \n",
    "    if df(x) < 0: \n",
    "        sign = -1\n",
    "    else: \n",
    "        sign = 1\n",
    "        \n",
    "    while abs(df(x)) >= eps: \n",
    "        x_test = x + sign * learning_rate * df(x)\n",
    "        iter += 1\n",
    "        \n",
    "        while df(x_test) * df(x0) < 0: \n",
    "            x_test = x_test - sign * learning_rate *df(x) / 2\n",
    "            \n",
    "        x = x_test\n",
    "        \n",
    "        print(\"x = %.15f,   f'(x) = %.15f\" %(x, df(x)))\n",
    "        \n",
    "        if x >= b: \n",
    "            return b\n",
    "        \n",
    "    return x"
   ]
  },
  {
   "cell_type": "markdown",
   "id": "adjusted-portuguese",
   "metadata": {},
   "source": [
    "### Hàm tìm các điểm cực trị trên một đoạn con đóng [a, b]"
   ]
  },
  {
   "cell_type": "markdown",
   "id": "second-panama",
   "metadata": {},
   "source": [
    "### Hàm tìm min và max của một hàm trên một đoạn con đóng [a, b]"
   ]
  },
  {
   "cell_type": "code",
   "execution_count": null,
   "id": "needed-parking",
   "metadata": {},
   "outputs": [],
   "source": []
  }
 ],
 "metadata": {
  "kernelspec": {
   "display_name": "Python 3",
   "language": "python",
   "name": "python3"
  },
  "language_info": {
   "codemirror_mode": {
    "name": "ipython",
    "version": 3
   },
   "file_extension": ".py",
   "mimetype": "text/x-python",
   "name": "python",
   "nbconvert_exporter": "python",
   "pygments_lexer": "ipython3",
   "version": "3.8.3"
  }
 },
 "nbformat": 4,
 "nbformat_minor": 5
}
