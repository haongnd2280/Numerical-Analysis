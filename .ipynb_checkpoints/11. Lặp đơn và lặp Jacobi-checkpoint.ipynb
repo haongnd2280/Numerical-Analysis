{
 "cells": [
  {
   "cell_type": "markdown",
   "id": "fossil-latin",
   "metadata": {},
   "source": [
    "# Các lưu ý:\n",
    "1. Chuẩn hàng ma trận và chuẩn cột ma trận không tương đương nhau. Nhưng lại tương đương với chuẩn Euclide.\n",
    "2. Ta sẽ chỉ kiểm tra chuẩn hàng và rồi chuẩn cột. Không kiểm tra chuẩn Euclide.\n",
    "3."
   ]
  },
  {
   "cell_type": "markdown",
   "id": "continued-beaver",
   "metadata": {},
   "source": [
    "# 1. Các hàm cần dùng"
   ]
  },
  {
   "cell_type": "markdown",
   "id": "polyphonic-parts",
   "metadata": {},
   "source": [
    "### 1.1. Hàm tính chuẩn hàng của ma trận"
   ]
  },
  {
   "cell_type": "code",
   "execution_count": 2,
   "id": "infinite-homeless",
   "metadata": {},
   "outputs": [],
   "source": [
    "def rowMatrixNorm(A):\n",
    "    n = len(A)\n",
    "    maxRowSum = 0.0\n",
    "    \n",
    "    for j in range(n): \n",
    "        maxRowSum += abs(A[0][j]) # tính tổng trị tuyệt đối của hàng 1, và tạm thời gán nó là max_row. \n",
    "        \n",
    "    for i in range(1, n): \n",
    "        sum = 0 \n",
    "        for j in range(n): \n",
    "            sum += abs(A[i][j])\n",
    "            \n",
    "        if sum > maxRowSum: \n",
    "            maxRowSum = sum\n",
    "            \n",
    "    return maxRowSum"
   ]
  },
  {
   "cell_type": "markdown",
   "id": "sustainable-jerusalem",
   "metadata": {},
   "source": [
    "### 1.2 Hàm tính chuẩn cột của ma trận:"
   ]
  },
  {
   "cell_type": "code",
   "execution_count": 7,
   "id": "written-complement",
   "metadata": {},
   "outputs": [],
   "source": [
    "def colMatrixNorm(A):\n",
    "    n = len(A)\n",
    "    maxColSum = 0.0\n",
    "    \n",
    "    for i in range(n): \n",
    "        maxColSum += abs(A[i][0]) # tính tổng trị tuyệt đối của hàng 1, và tạm thời gán nó là max_row. \n",
    "        \n",
    "    for j in range(1, n): \n",
    "        sum = 0 \n",
    "        for i in range(n): \n",
    "            sum += abs(A[i][j])\n",
    "            \n",
    "        if sum > maxColSum: \n",
    "            maxColSum = sum\n",
    "            \n",
    "    return maxColSum"
   ]
  },
  {
   "cell_type": "markdown",
   "id": "immediate-viking",
   "metadata": {},
   "source": [
    "### 1.3. Hàm tính chuẩn cực đại của véc tơ:"
   ]
  },
  {
   "cell_type": "code",
   "execution_count": 92,
   "id": "compliant-portfolio",
   "metadata": {},
   "outputs": [],
   "source": [
    "def maxVectorNorm(x): \n",
    "    n = len(x)\n",
    "    max = abs(x[0])\n",
    "    \n",
    "    for i in range(1, n): \n",
    "        if abs(x[i]) > max: \n",
    "            max = abs(x[i])\n",
    "            \n",
    "    return max"
   ]
  },
  {
   "cell_type": "markdown",
   "id": "miniature-major",
   "metadata": {},
   "source": [
    "### 1.4. Hàm tính chuẩn tuyệt đối của véc tơ: "
   ]
  },
  {
   "cell_type": "code",
   "execution_count": 93,
   "id": "champion-elite",
   "metadata": {},
   "outputs": [],
   "source": [
    "def absVectorNorm(x): \n",
    "    norm = 0 \n",
    "    \n",
    "    for i in range(len(x)): \n",
    "        norm += abs(x[i])\n",
    "        \n",
    "    return norm "
   ]
  },
  {
   "cell_type": "markdown",
   "id": "numeric-anthony",
   "metadata": {},
   "source": [
    "# 2. Phương pháp lặp đơn"
   ]
  },
  {
   "cell_type": "code",
   "execution_count": 127,
   "id": "supreme-macedonia",
   "metadata": {},
   "outputs": [],
   "source": [
    "import numpy as np\n",
    "import math\n",
    "import sys"
   ]
  },
  {
   "cell_type": "markdown",
   "id": "constant-capitol",
   "metadata": {},
   "source": [
    "### 2.1. Hàm biến đổi A thành alpha, b thành beta. "
   ]
  },
  {
   "cell_type": "code",
   "execution_count": 237,
   "id": "contemporary-accounting",
   "metadata": {},
   "outputs": [],
   "source": [
    "def Transform(A, b): \n",
    "    n = len(A)\n",
    "    I = np.identity(n)\n",
    "    \n",
    "    # Bien doi theo cong thuc dau tien: alpha = I - A, beta = b.\n",
    "    alpha = I - A\n",
    "    beta = b\n",
    "    \n",
    "    if rowMatrixNorm(alpha) < 1.0: \n",
    "        print('Ma trận I - A thỏa mãn chuẩn hàng.')\n",
    "        return alpha, beta, 'row'\n",
    "    elif colMatrixNorm(alpha) < 1.0: \n",
    "        print('Ma trận I - A thỏa mãn chuẩn cột.')\n",
    "        return alpha, beta, 'col'\n",
    "    \n",
    "    # Bien doi theo cong thuc thu hai: alpha = I + A, beta = b.\n",
    "    alpha = I + A\n",
    "    beta = -b \n",
    "    \n",
    "    if rowMatrixNorm(alpha) < 1: \n",
    "        print('Ma trận I + A thỏa mãn chuẩn hàng.')\n",
    "        return alpha, beta, 'row'\n",
    "    elif colMatrixNorm(alpha) < 1: \n",
    "        print('Ma trận I + A thỏa mãn chuẩn cột.')\n",
    "        return alpha, beta, 'col'\n",
    "    \n",
    "    # Neu ca hai cong thuc tren dau khong thanh cong thi tra ve None. \n",
    "    print('Ma trận không thỏa mãn điều kiện lặp đơn.')\n",
    "    sys.exit()"
   ]
  },
  {
   "cell_type": "markdown",
   "id": "extended-honduras",
   "metadata": {},
   "source": [
    "### 2.2. Hàm lặp tiên nghiệm."
   ]
  },
  {
   "cell_type": "markdown",
   "id": "oriented-twist",
   "metadata": {},
   "source": [
    "Lưu ý: \n",
    "- Chuẩn  hàng của ma trận đi với chuẩn cực đại của véc tơ (đều là chuẩn vô cùng). \n",
    "- Chuẩn cột của ma trận đi với chuẩn tuyệt đối của véc tơ (đều là chuẩn 1)."
   ]
  },
  {
   "cell_type": "code",
   "execution_count": 144,
   "id": "trained-poster",
   "metadata": {},
   "outputs": [],
   "source": [
    "def TienNghiem(alpha, beta, norm):\n",
    "    n = len(alpha) \n",
    "    \n",
    "    print('alpha = ', alpha)\n",
    "    print('beta = ', beta)\n",
    "    \n",
    "    print('Nhap vao sai so tien nghiem: ')\n",
    "    error = float(input())\n",
    "                  \n",
    "    x0 = np.zeros(n)\n",
    "    x = np.matmul(alpha, x0) + beta\n",
    "    print('x0 = ', x0)\n",
    "    print('x = ', x)\n",
    "    print()\n",
    "    \n",
    "    if norm == 'row': \n",
    "        alNorm = rowMatrixNorm(alpha)\n",
    "        print('Chuẩn hàng của alpha = %f' % (alNorm))\n",
    "        k = math.ceil(math.log(error * (1 - alNorm) / maxVectorNorm(x - x0), alNorm))  # chú ý có đảo dấu do cơ số alNorm < 1.\n",
    "        print('k = %d' % (k))\n",
    "        \n",
    "        for i in range(k): \n",
    "            x = np.matmul(alpha, x) + beta\n",
    "    elif norm == 'col': \n",
    "        alNorm = colMatrixNorm(alpha)\n",
    "        print('Chuẩn cột của alpha = %f' % (alNorm))\n",
    "        k = math.ceil(math.log(error * (1 - alNorm) / absVectorNorm(x - x0), alNorm)) # chú ý có đảo dấu do cơ số alNorm < 1.\n",
    "        print('k = %d' % (k))\n",
    "        \n",
    "        for i in range(k): \n",
    "            x = np.matmul(alpha, x) + beta\n",
    "    \n",
    "    return x, k"
   ]
  },
  {
   "cell_type": "code",
   "execution_count": 145,
   "id": "historical-street",
   "metadata": {},
   "outputs": [],
   "source": [
    "A = np.array([[1, 0.4, -0.3], \n",
    "     [0.3, 1.1, -0.3], \n",
    "     [0.2, -0.1, 1.3]], dtype='float')\n",
    "\n",
    "b = np.array([0.5, 0.4, 0.7], dtype='float')"
   ]
  },
  {
   "cell_type": "markdown",
   "id": "fiscal-sweet",
   "metadata": {},
   "source": [
    "Lặp với chuẩn hàng: "
   ]
  },
  {
   "cell_type": "code",
   "execution_count": 137,
   "id": "quarterly-department",
   "metadata": {},
   "outputs": [
    {
     "name": "stdout",
     "output_type": "stream",
     "text": [
      "alpha =  [[ 0.  -0.4  0.3]\n",
      " [-0.3 -0.1  0.3]\n",
      " [-0.2  0.1 -0.3]]\n",
      "beta =  [0.5 0.4 0.7]\n",
      "Nhap vao sai so tien nghiem: \n",
      "0.001\n",
      "x0 =  [0. 0. 0.]\n",
      "x =  [0.5 0.4 0.7]\n",
      "\n",
      "Chuẩn hàng của alpha = 0.700000\n",
      "k = 22\n"
     ]
    },
    {
     "data": {
      "text/plain": [
       "(array([0.5027027 , 0.35984556, 0.48880309]), 22)"
      ]
     },
     "execution_count": 137,
     "metadata": {},
     "output_type": "execute_result"
    }
   ],
   "source": [
    "TienNghiem(np.identity(len(A)) - A, b, 'row')"
   ]
  },
  {
   "cell_type": "markdown",
   "id": "radical-scale",
   "metadata": {},
   "source": [
    "Lặp với chuẩn cột: "
   ]
  },
  {
   "cell_type": "code",
   "execution_count": 146,
   "id": "qualified-cleaner",
   "metadata": {},
   "outputs": [
    {
     "name": "stdout",
     "output_type": "stream",
     "text": [
      "alpha =  [[ 0.  -0.4  0.3]\n",
      " [-0.3 -0.1  0.3]\n",
      " [-0.2  0.1 -0.3]]\n",
      "beta =  [0.5 0.4 0.7]\n",
      "Nhap vao sai so tien nghiem: \n",
      "0.001\n",
      "x0 =  [0. 0. 0.]\n",
      "x =  [0.5 0.4 0.7]\n",
      "\n",
      "Chuẩn cột của alpha = 0.900000\n",
      "k = 92\n"
     ]
    },
    {
     "data": {
      "text/plain": [
       "(array([0.5027027 , 0.35984556, 0.48880309]), 92)"
      ]
     },
     "execution_count": 146,
     "metadata": {},
     "output_type": "execute_result"
    }
   ],
   "source": [
    "TienNghiem(np.identity(len(A)) - A, b, 'col')"
   ]
  },
  {
   "cell_type": "markdown",
   "id": "second-bidder",
   "metadata": {},
   "source": [
    "### 2.3. Hàm lặp hậu nghiệm"
   ]
  },
  {
   "cell_type": "code",
   "execution_count": 248,
   "id": "mechanical-evening",
   "metadata": {},
   "outputs": [],
   "source": [
    "def HauNghiem(alpha, beta, norm): \n",
    "    n = len(alpha)\n",
    "    k = 1\n",
    "    \n",
    "    print('alpha = ', alpha)\n",
    "    print('beta = ', beta)\n",
    "    \n",
    "    print('Nhap vao sai so hau nghiem: ')\n",
    "    error = float(input())\n",
    "                  \n",
    "    x0 = np.zeros(n)\n",
    "    x = np.matmul(alpha, x0) + beta\n",
    "    print('x0 = ', x0)\n",
    "    print('x = ', x)\n",
    "    print()\n",
    "    \n",
    "    if norm == 'row': \n",
    "        alNorm = rowMatrixNorm(alpha)\n",
    "        print('Chuẩn hàng của alpha = %f' % (alNorm))\n",
    "        while alNorm * maxVectorNorm(x - x0) / (1 - alNorm) >= error: \n",
    "            x0 = x\n",
    "            x = np.matmul(alpha, x0) + beta\n",
    "            k += 1\n",
    "    elif norm == 'col': \n",
    "        alNorm = colMatrixNorm(alpha)\n",
    "        print('Chuẩn cột của alpha = %f' % (alNorm))\n",
    "        while alNorm * absVectorNorm(x - x0) / (1 - alNorm) >= error: \n",
    "            x0 = x\n",
    "            x = np.matmul(alpha, x0) + beta\n",
    "            k += 1\n",
    "    \n",
    "    return x, k"
   ]
  },
  {
   "cell_type": "code",
   "execution_count": 252,
   "id": "catholic-aggregate",
   "metadata": {},
   "outputs": [],
   "source": [
    "A = np.array([[1, 0.4, -0.3], \n",
    "     [0.3, 1.1, -0.3], \n",
    "     [0.2, -0.1, 1.3]], dtype='float')\n",
    "\n",
    "b = np.array([0.5, 0.4, 0.7], dtype='float')"
   ]
  },
  {
   "cell_type": "code",
   "execution_count": 251,
   "id": "isolated-military",
   "metadata": {},
   "outputs": [
    {
     "name": "stdout",
     "output_type": "stream",
     "text": [
      "alpha =  [[ 0.  -0.4  0.3]\n",
      " [-0.3 -0.1  0.3]\n",
      " [-0.2  0.1 -0.3]]\n",
      "beta =  [0.5 0.4 0.7]\n",
      "Nhap vao sai so hau nghiem: \n",
      "0.001\n",
      "x0 =  [0. 0. 0.]\n",
      "x =  [0.5 0.4 0.7]\n",
      "\n",
      "Chuẩn hàng của alpha = 0.700000\n"
     ]
    },
    {
     "data": {
      "text/plain": [
       "(array([0.50276357, 0.35990924, 0.48871994]), 9)"
      ]
     },
     "execution_count": 251,
     "metadata": {},
     "output_type": "execute_result"
    }
   ],
   "source": [
    "HauNghiem(np.identity(len(A)) - A, b, 'row')"
   ]
  },
  {
   "cell_type": "code",
   "execution_count": 253,
   "id": "objective-holiday",
   "metadata": {},
   "outputs": [
    {
     "name": "stdout",
     "output_type": "stream",
     "text": [
      "alpha =  [[ 0.  -0.4  0.3]\n",
      " [-0.3 -0.1  0.3]\n",
      " [-0.2  0.1 -0.3]]\n",
      "beta =  [0.5 0.4 0.7]\n",
      "Nhap vao sai so hau nghiem: \n",
      "0.001\n",
      "x0 =  [0. 0. 0.]\n",
      "x =  [0.5 0.4 0.7]\n",
      "\n",
      "Chuẩn cột của alpha = 0.900000\n"
     ]
    },
    {
     "data": {
      "text/plain": [
       "(array([0.50269219, 0.35983512, 0.48880074]), 12)"
      ]
     },
     "execution_count": 253,
     "metadata": {},
     "output_type": "execute_result"
    }
   ],
   "source": [
    "HauNghiem(np.identity(len(A)) - A, b, 'col')"
   ]
  },
  {
   "cell_type": "markdown",
   "id": "formed-payday",
   "metadata": {},
   "source": [
    "### 2.4. Hàm thực thi chính của phương pháp lặp đơn."
   ]
  },
  {
   "cell_type": "markdown",
   "id": "furnished-carolina",
   "metadata": {},
   "source": [
    "Hai công thức đánh giá sai số:\n",
    "- Công thức sai số hậu nghiệm: \n",
    "\\begin{align}\n",
    "\\Vert x^* - x^{(k)} \\Vert_p \\leq \\frac{\\Vert \\alpha \\Vert}{1 - \\Vert \\alpha \\Vert}\\Vert x^{(k)} - x^{(k-1)} \\Vert_p, \\qquad p = \\infty, 1, 2\n",
    "\\end{align}\n",
    "-Công thức sai số tiên nghiệm: \n",
    "\\begin{align}\n",
    "\\Vert x^* - x^{(k)} \\Vert_p \\leq \\frac{\\Vert \\alpha \\Vert^k}{1 - \\Vert \\alpha \\Vert}\\Vert x^{(1)} - x^{(0)} \\Vert_p, \\qquad p = \\infty, 1, 2\n",
    "\\end{align}"
   ]
  },
  {
   "cell_type": "markdown",
   "id": "signal-employer",
   "metadata": {},
   "source": [
    "Ví dụ: "
   ]
  },
  {
   "cell_type": "code",
   "execution_count": 238,
   "id": "harmful-fairy",
   "metadata": {},
   "outputs": [],
   "source": [
    "def LapDon(A, b):\n",
    "    n = len(A)\n",
    "    \n",
    "    alpha, beta, norm = Transform(A, b)\n",
    "    \n",
    "    print('Nhap vao su lua chon cua bạn: ')\n",
    "    print('1. Lặp tiên nghiệm.')\n",
    "    print('2. Lặp hậu nghiệm.')\n",
    "    choice = input('Bạn muốn lặp theo công thức sai số tiên nghiệm hay hậu nghiệm: ')\n",
    "    if choice == '1': \n",
    "        x, k = TienNghiem(alpha, beta, norm)\n",
    "    elif choice == '2':\n",
    "        x, k = HauNghiem(alpha, beta, norm)\n",
    "    \n",
    "    return x, k"
   ]
  },
  {
   "cell_type": "markdown",
   "id": "loving-appendix",
   "metadata": {},
   "source": [
    "Ví dụ 1: "
   ]
  },
  {
   "cell_type": "code",
   "execution_count": 186,
   "id": "planned-reward",
   "metadata": {},
   "outputs": [],
   "source": [
    "A = np.array([[1, 0.4, -0.3], \n",
    "     [0.3, 1.1, -0.3], \n",
    "     [0.2, -0.1, 1.3]], dtype='float')\n",
    "\n",
    "b = np.array([0.5, 0.4, 0.7], dtype='float')"
   ]
  },
  {
   "cell_type": "code",
   "execution_count": 185,
   "id": "pending-wrapping",
   "metadata": {},
   "outputs": [
    {
     "name": "stdout",
     "output_type": "stream",
     "text": [
      "Ma trận I - A thỏa mãn chuẩn hàng.\n",
      "Nhap vao su lua chon cua bạn: \n",
      "1. Lặp tiên nghiệm.\n",
      "2. Lặp hậu nghiệm.\n",
      "Bạn muốn lặp theo công thức sai số tiên nghiệm hay hậu nghiệm: 1\n",
      "alpha =  [[ 0.  -0.4  0.3]\n",
      " [-0.3 -0.1  0.3]\n",
      " [-0.2  0.1 -0.3]]\n",
      "beta =  [0.5 0.4 0.7]\n",
      "Nhap vao sai so tien nghiem: \n",
      "0.00001\n",
      "x0 =  [0. 0. 0.]\n",
      "x =  [0.5 0.4 0.7]\n",
      "\n",
      "Chuẩn hàng của alpha = 0.700000\n",
      "k = 35\n"
     ]
    },
    {
     "data": {
      "text/plain": [
       "(array([0.5027027 , 0.35984556, 0.48880309]), 35)"
      ]
     },
     "execution_count": 185,
     "metadata": {},
     "output_type": "execute_result"
    }
   ],
   "source": [
    "LapDon(A, b)  # ok"
   ]
  },
  {
   "cell_type": "code",
   "execution_count": 187,
   "id": "potential-philippines",
   "metadata": {},
   "outputs": [
    {
     "name": "stdout",
     "output_type": "stream",
     "text": [
      "Ma trận I - A thỏa mãn chuẩn hàng.\n",
      "Nhap vao su lua chon cua bạn: \n",
      "1. Lặp tiên nghiệm.\n",
      "2. Lặp hậu nghiệm.\n",
      "Bạn muốn lặp theo công thức sai số tiên nghiệm hay hậu nghiệm: 2\n",
      "alpha =  [[ 0.  -0.4  0.3]\n",
      " [-0.3 -0.1  0.3]\n",
      " [-0.2  0.1 -0.3]]\n",
      "beta =  [0.5 0.4 0.7]\n",
      "Nhap vao sai so hau nghiem: \n",
      "0.00001\n",
      "x0 =  [0. 0. 0.]\n",
      "x =  [0.5 0.4 0.7]\n",
      "\n"
     ]
    },
    {
     "data": {
      "text/plain": [
       "(array([0.50270279, 0.35984564, 0.48880344]), 15)"
      ]
     },
     "execution_count": 187,
     "metadata": {},
     "output_type": "execute_result"
    }
   ],
   "source": [
    "LapDon(A, b)  # ok"
   ]
  },
  {
   "cell_type": "code",
   "execution_count": null,
   "id": "searching-pride",
   "metadata": {},
   "outputs": [],
   "source": []
  },
  {
   "cell_type": "markdown",
   "id": "wireless-office",
   "metadata": {},
   "source": [
    "Ví dụ 2: SGK trang 67"
   ]
  },
  {
   "cell_type": "code",
   "execution_count": 242,
   "id": "catholic-poverty",
   "metadata": {},
   "outputs": [],
   "source": [
    "A1 = np.array([[4, 0.24, -0.08], \n",
    "              [0.09, 3, -0.15], \n",
    "              [0.04, -0.08, 4]], dtype='float')\n",
    "\n",
    "b1 = np.array([8, 9, 20])"
   ]
  },
  {
   "cell_type": "code",
   "execution_count": 243,
   "id": "noticed-syria",
   "metadata": {},
   "outputs": [
    {
     "name": "stdout",
     "output_type": "stream",
     "text": [
      "Ma trận không thỏa mãn điều kiện lặp đơn.\n"
     ]
    },
    {
     "ename": "SystemExit",
     "evalue": "",
     "output_type": "error",
     "traceback": [
      "An exception has occurred, use %tb to see the full traceback.\n",
      "\u001b[1;31mSystemExit\u001b[0m\n"
     ]
    }
   ],
   "source": [
    "LapDon(A1, b1)"
   ]
  },
  {
   "cell_type": "markdown",
   "id": "north-winner",
   "metadata": {},
   "source": [
    "# 2. Phương pháp lặp Jacobi"
   ]
  },
  {
   "cell_type": "markdown",
   "id": "hungarian-cookbook",
   "metadata": {},
   "source": [
    "### 2.1. Hàm kiểm tra tính chéo trội hàng của ma trận."
   ]
  },
  {
   "cell_type": "code",
   "execution_count": 173,
   "id": "regional-headline",
   "metadata": {},
   "outputs": [],
   "source": [
    "def rowDominant(A): \n",
    "    n = len(A)\n",
    "    \n",
    "    # kiểm tra chéo trội hàng. \n",
    "    for i in range(n): \n",
    "        sum = 0 \n",
    "        for j in range(n): \n",
    "            if j != i: \n",
    "                sum += abs(A[i][j])\n",
    "        \n",
    "        if abs(A[i][i]) <= sum: \n",
    "            return False \n",
    "        \n",
    "    return True "
   ]
  },
  {
   "cell_type": "code",
   "execution_count": 174,
   "id": "located-girlfriend",
   "metadata": {},
   "outputs": [
    {
     "data": {
      "text/plain": [
       "True"
      ]
     },
     "execution_count": 174,
     "metadata": {},
     "output_type": "execute_result"
    }
   ],
   "source": [
    "rowDominant(A3)"
   ]
  },
  {
   "cell_type": "code",
   "execution_count": 172,
   "id": "bibliographic-exposure",
   "metadata": {},
   "outputs": [
    {
     "data": {
      "text/plain": [
       "array([[ 15.,  -5.,   2.],\n",
       "       [ 10.,  35., -18.],\n",
       "       [  8.,   4.,  15.]])"
      ]
     },
     "execution_count": 172,
     "metadata": {},
     "output_type": "execute_result"
    }
   ],
   "source": [
    "A3"
   ]
  },
  {
   "cell_type": "markdown",
   "id": "monthly-soldier",
   "metadata": {},
   "source": [
    "### 2.2. Hàm kiểm tra tính chéo trội cột của ma trận. "
   ]
  },
  {
   "cell_type": "code",
   "execution_count": 131,
   "id": "aquatic-oriental",
   "metadata": {},
   "outputs": [],
   "source": [
    "def colDominant(A): \n",
    "    n = len(A)\n",
    "    \n",
    "    for j in range(n): \n",
    "        sum = 0\n",
    "        for i in range(n): \n",
    "            if i != j: \n",
    "                sum += abs(A[i][j])\n",
    "                \n",
    "        if abs(A[j][j]) <= sum: \n",
    "            return False \n",
    "        \n",
    "    return True "
   ]
  },
  {
   "cell_type": "code",
   "execution_count": 132,
   "id": "boolean-terrace",
   "metadata": {},
   "outputs": [],
   "source": [
    "A1 = np.array([[1, 0.5, 0.4], \n",
    "               [0.2, 1.5, 0.8], \n",
    "               [1, 0.6, 2]], dtype='float')"
   ]
  },
  {
   "cell_type": "code",
   "execution_count": 134,
   "id": "contained-capital",
   "metadata": {},
   "outputs": [
    {
     "data": {
      "text/plain": [
       "False"
      ]
     },
     "execution_count": 134,
     "metadata": {},
     "output_type": "execute_result"
    }
   ],
   "source": [
    "colDominant(A1)"
   ]
  },
  {
   "cell_type": "markdown",
   "id": "acute-biology",
   "metadata": {},
   "source": [
    "- Định lý: Nếu A chéo trội hàng hoặc chéo trội cột thì A là ma trận khả nghịch, suy ra với mọi b, hệ luôn có nghiệm duy nhất."
   ]
  },
  {
   "cell_type": "markdown",
   "id": "clean-behavior",
   "metadata": {},
   "source": [
    "### 2.3. Jacobi cho ma trận chéo trội hàng"
   ]
  },
  {
   "cell_type": "code",
   "execution_count": 177,
   "id": "grateful-recruitment",
   "metadata": {},
   "outputs": [],
   "source": [
    "def rowJacobi(A, b): \n",
    "    n = len(A)\n",
    "    \n",
    "    for i in range(n): \n",
    "        temp = A[i][i]\n",
    "        A[i] = A[i] / temp\n",
    "        b[i] = b[i] / temp\n",
    "        \n",
    "    print('TA = ', A)\n",
    "    print('Tb = ', b)\n",
    "    print()\n",
    "        \n",
    "    alpha = np.identity(n) - A   # alpha lúc này trở thành ma trận chéo trội hàng. \n",
    "    beta = b\n",
    "    x0 = np.zeros(n)\n",
    "    x = np.matmul(alpha, x0) + beta\n",
    "    \n",
    "    # Áp dụng trực tiếp các công thức sai số của lặp đơn. \n",
    "    print('Bạn muốn lặp chéo trội hàng bằng công thức tiên nghiệm hay hậu nghiệm: ')\n",
    "    print('Tiên nghiệm: Ấn 1.')\n",
    "    print('Hậu nghiệm: Ấn 2.')\n",
    "    choice = int(input())\n",
    "    \n",
    "    print('Nhập vào sai số: ')\n",
    "    error = float(input())\n",
    "    \n",
    "    if choice == 1: # Lặp tiên nghiệm.\n",
    "        alNorm = rowMatrixNorm(alpha)\n",
    "        print('Chuẩn hàng của alpha = %f' % (alNorm))\n",
    "        k = math.ceil(math.log(error * (1 - alNorm) / maxVectorNorm(x - x0), alNorm))  # chú ý có đảo dấu do cơ số alNorm < 1.\n",
    "        print('k = %d' % (k))\n",
    "        \n",
    "        for i in range(k): \n",
    "            x = np.matmul(alpha, x) + beta\n",
    "    elif choice == 2: # Lặp hậu nghiệm.\n",
    "        alNorm = rowMatrixNorm(alpha)\n",
    "        k = 0 \n",
    "        \n",
    "        while alNorm * maxVectorNorm(x - x0) / (1 - alNorm) >= error: \n",
    "            x0 = x\n",
    "            x = np.matmul(alpha, x0) + beta\n",
    "            k += 1\n",
    "    \n",
    "    return x, k"
   ]
  },
  {
   "cell_type": "markdown",
   "id": "agricultural-spectacular",
   "metadata": {},
   "source": [
    "### 2.4. Jacobi cho ma trận chéo trội cột (phức tạp hơn)."
   ]
  },
  {
   "cell_type": "markdown",
   "id": "appropriate-verification",
   "metadata": {},
   "source": [
    "- Công thức lặp trực tiếp cho x: \n",
    "\\begin{align}\n",
    "x^{(n)} = Bx^{(n-1)} + d, \\quad B = I - TA, d = Tb\n",
    "\\end{align}"
   ]
  },
  {
   "cell_type": "markdown",
   "id": "negative-rocket",
   "metadata": {},
   "source": [
    "Thiết lập công thức sai số trực tiếp đối với x: \n",
    "- Sai số tiên nghiệm: \n",
    "\\begin{align}\n",
    "\\Vert x^{(n)} - x^* \\Vert_1 \\leq \\frac{\\max|a_{ii}|}{\\min |a_{ii}|}\\frac{q^n}{1 - q}\\Vert x^{(1)} - x^{(0)}\\Vert_1\n",
    "\\end{align}\n",
    "- Sai số hậu nghiệm: \n",
    "\\begin{align}\n",
    "\\Vert x^{(n)} - x^* \\Vert_1 \\leq \\frac{\\max|a_{ii}|}{\\min |a_{ii}|}\\frac{q}{1 - q}\\Vert x^{(n)} - x^{(n-1)}\\Vert_1\n",
    "\\end{align}\n",
    "với: \n",
    "\\begin{align}\n",
    "q = \\Vert B_1 \\Vert_1 = \\Vert I - AT \\Vert_1 \n",
    "\\end{align}"
   ]
  },
  {
   "cell_type": "code",
   "execution_count": 225,
   "id": "paperback-paradise",
   "metadata": {},
   "outputs": [],
   "source": [
    "def colJacobi(A, b): \n",
    "    n = len(A)\n",
    "    \n",
    "    # Ý tưởng: Tách Ax = b thành tổ hợp tuyến tính của các cột. \n",
    "    # Đặt ẩn phụ y_i = a_ii x_i , i = 1,..., n. Hệ trở thành By = b đã ở dạng chéo trội cột. \n",
    "    # Biến đổi By = b thành y = B_1 y + b, với B_1 = I - B. Tiến hành lặp với biến y hoặc x. \n",
    "    \n",
    "    T = np.identity(n, dtype='float')\n",
    "    for i in range(n): \n",
    "        T[i][i] = T[i][i] / A[i][i]\n",
    "        \n",
    "    print('T = ', T)\n",
    "    print()\n",
    "    \n",
    "    alpha = np.identity(n) - np.matmul(T, A)\n",
    "    beta = np.matmul(T, b)\n",
    "    q = colMatrixNorm(np.identity(n) - np.matmul(A, T))  # chuẩn cột của ma trận I - AT. \n",
    "    \n",
    "    # Tính lamda. \n",
    "    max = abs(T[0][0])\n",
    "    for i in range(1, n): \n",
    "        if abs(T[i][i]) > max: \n",
    "            max = abs(T[i][i])\n",
    "            \n",
    "    min = abs(T[0][0])\n",
    "    for i in range(1, n): \n",
    "        if abs(T[i][i]) < min: \n",
    "            min = abs(T[i][i])\n",
    "    lamda = max / min\n",
    "        \n",
    "    print('TA = ', A)\n",
    "    print('Tb = ', b)\n",
    "    print()\n",
    "    \n",
    "    # Ta sẽ áp dụng công thức sai số trực tiếp lên x. \n",
    "    print('Bạn muốn lặp theo công thức sai số hậu nghiệm hoặc tiên nghiệm:')\n",
    "    print('Tiên nghiệm: Ấn 1.')\n",
    "    print('Hậu nghiệm: Ấn 2.')\n",
    "    choice = int(input())\n",
    "    \n",
    "    print('Nhập vào sai số: ')\n",
    "    error = float(input())\n",
    "    \n",
    "    x0 = np.zeros(n)\n",
    "    x = np.matmul(alpha, x0) + beta\n",
    "    \n",
    "    if choice == 1: \n",
    "        k = math.ceil(math.log(error * (1 - q) / (lamda * absVectorNorm(x - x0)), q))\n",
    "        \n",
    "        for i in range(k): \n",
    "            x = np.matmul(alpha, x) + beta\n",
    "    elif choice == 2: \n",
    "        k = 1\n",
    "        while lamda * q * absVectorNorm(x - x0) / (1 - q) >= error: \n",
    "            x0 = x\n",
    "            x = x = np.matmul(alpha, x0) + beta\n",
    "            k += 1\n",
    "    \n",
    "    return x, k"
   ]
  },
  {
   "cell_type": "markdown",
   "id": "wound-piano",
   "metadata": {},
   "source": [
    "### 2.5. Hàm thực thi chính."
   ]
  },
  {
   "cell_type": "code",
   "execution_count": 207,
   "id": "compliant-characterization",
   "metadata": {},
   "outputs": [
    {
     "data": {
      "text/plain": [
       "array([[1., 0., 0.],\n",
       "       [0., 1., 0.],\n",
       "       [0., 0., 1.]])"
      ]
     },
     "execution_count": 207,
     "metadata": {},
     "output_type": "execute_result"
    }
   ],
   "source": [
    "np.identity(n, dtype='float')"
   ]
  },
  {
   "cell_type": "code",
   "execution_count": 218,
   "id": "careful-profession",
   "metadata": {},
   "outputs": [],
   "source": [
    "def mainJacobi(A, b): \n",
    "    if rowDominant(A): \n",
    "        print('Ma trận là chéo trội hàng.')\n",
    "        x, k = rowJacobi(A, b)\n",
    "    elif colDominant(A): \n",
    "        print('Ma trận là chéo trội cột.')\n",
    "        x, k = colJacobi(A, b)\n",
    "    else: \n",
    "        return 'Ma trận A không chéo trội.'\n",
    "    \n",
    "    return x, k"
   ]
  },
  {
   "cell_type": "code",
   "execution_count": null,
   "id": "employed-shanghai",
   "metadata": {},
   "outputs": [],
   "source": [
    "# ma trận chéo trội hàng (không chéo trội cột).\n",
    "A3 = np.array([[15, -5, 2], \n",
    "               [10, 35, -18], \n",
    "               [8, 4, 15]], dtype='float')\n",
    "\n",
    "b3 = np.array([7, 12, 5], dtype='float')"
   ]
  },
  {
   "cell_type": "code",
   "execution_count": 195,
   "id": "electrical-anaheim",
   "metadata": {},
   "outputs": [
    {
     "name": "stdout",
     "output_type": "stream",
     "text": [
      "Ma trận là chéo trội hàng.\n",
      "TA =  [[ 1.         -0.33333333  0.13333333]\n",
      " [ 0.28571429  1.         -0.51428571]\n",
      " [ 0.53333333  0.26666667  1.        ]]\n",
      "Tb =  [0.46666667 0.34285714 0.33333333]\n",
      "\n",
      "Bạn muốn lặp chéo trội hàng bằng công thức tiên nghiệm hay hậu nghiệm: \n",
      "Tiên nghiệm: Ấn 1.\n",
      "Hậu nghiệm: Ấn 2.\n",
      "1\n",
      "Nhập vào sai số: \n",
      "0.001\n",
      "Chuẩn hàng của alpha = 0.800000\n",
      "k = 35\n"
     ]
    },
    {
     "data": {
      "text/plain": [
       "(array([ 5.30417295e-01,  1.91050779e-01, -5.02765142e-04]), 35)"
      ]
     },
     "execution_count": 195,
     "metadata": {},
     "output_type": "execute_result"
    }
   ],
   "source": [
    "mainJacobi(A3, b3)"
   ]
  },
  {
   "cell_type": "code",
   "execution_count": 196,
   "id": "prerequisite-survey",
   "metadata": {},
   "outputs": [
    {
     "name": "stdout",
     "output_type": "stream",
     "text": [
      "Ma trận là chéo trội hàng.\n",
      "TA =  [[ 1.         -0.33333333  0.13333333]\n",
      " [ 0.28571429  1.         -0.51428571]\n",
      " [ 0.53333333  0.26666667  1.        ]]\n",
      "Tb =  [0.46666667 0.34285714 0.33333333]\n",
      "\n",
      "Bạn muốn lặp chéo trội hàng bằng công thức tiên nghiệm hay hậu nghiệm: \n",
      "Tiên nghiệm: Ấn 1.\n",
      "Hậu nghiệm: Ấn 2.\n",
      "2\n",
      "Nhập vào sai số: \n",
      "0.001\n"
     ]
    },
    {
     "data": {
      "text/plain": [
       "(array([ 0.53044649,  0.19096731, -0.00056961]), 13)"
      ]
     },
     "execution_count": 196,
     "metadata": {},
     "output_type": "execute_result"
    }
   ],
   "source": [
    "mainJacobi(A3, b3)"
   ]
  },
  {
   "cell_type": "markdown",
   "id": "measured-demand",
   "metadata": {},
   "source": [
    "Ma trận chéo trội cột (không chéo trội hàng):"
   ]
  },
  {
   "cell_type": "code",
   "execution_count": 222,
   "id": "retired-train",
   "metadata": {},
   "outputs": [],
   "source": [
    "A4 = np.array([[10, 8, 7], \n",
    "              [3, -15, 14], \n",
    "              [-5, 2, 24]], dtype='float')\n",
    "\n",
    "b4 = np.array([2, 6, 13], dtype='float')"
   ]
  },
  {
   "cell_type": "code",
   "execution_count": 223,
   "id": "checked-panama",
   "metadata": {},
   "outputs": [
    {
     "name": "stdout",
     "output_type": "stream",
     "text": [
      "Ma trận là chéo trội cột.\n",
      "T =  [[ 0.1         0.          0.        ]\n",
      " [ 0.         -0.06666667  0.        ]\n",
      " [ 0.          0.          0.04166667]]\n",
      "\n",
      "TA =  [[ 10.   8.   7.]\n",
      " [  3. -15.  14.]\n",
      " [ -5.   2.  24.]]\n",
      "Tb =  [ 2.  6. 13.]\n",
      "\n",
      "Bạn muốn lặp theo công thức sai số hậu nghiệm hoặc tiên nghiệm:\n",
      "Tiên nghiệm: Ấn 1.\n",
      "Hậu nghiệm: Ấn 2.\n",
      "1\n",
      "Nhập vào sai số: \n",
      "0.001\n"
     ]
    },
    {
     "data": {
      "text/plain": [
       "(array([-0.17766867,  0.03291508,  0.50190944]), 75)"
      ]
     },
     "execution_count": 223,
     "metadata": {},
     "output_type": "execute_result"
    }
   ],
   "source": [
    "mainJacobi(A4, b4)"
   ]
  },
  {
   "cell_type": "code",
   "execution_count": 226,
   "id": "eleven-margin",
   "metadata": {},
   "outputs": [
    {
     "name": "stdout",
     "output_type": "stream",
     "text": [
      "Ma trận là chéo trội cột.\n",
      "T =  [[ 0.1         0.          0.        ]\n",
      " [ 0.         -0.06666667  0.        ]\n",
      " [ 0.          0.          0.04166667]]\n",
      "\n",
      "TA =  [[ 10.   8.   7.]\n",
      " [  3. -15.  14.]\n",
      " [ -5.   2.  24.]]\n",
      "Tb =  [ 2.  6. 13.]\n",
      "\n",
      "Bạn muốn lặp theo công thức sai số hậu nghiệm hoặc tiên nghiệm:\n",
      "Tiên nghiệm: Ấn 1.\n",
      "Hậu nghiệm: Ấn 2.\n",
      "2\n",
      "Nhập vào sai số: \n",
      "0.001\n"
     ]
    },
    {
     "data": {
      "text/plain": [
       "(array([-0.17767439,  0.03290272,  0.50190068]), 28)"
      ]
     },
     "execution_count": 226,
     "metadata": {},
     "output_type": "execute_result"
    }
   ],
   "source": [
    "mainJacobi(A4, b4)"
   ]
  },
  {
   "cell_type": "markdown",
   "id": "christian-tunisia",
   "metadata": {},
   "source": [
    "# 3. Các ví dụ."
   ]
  },
  {
   "cell_type": "code",
   "execution_count": 227,
   "id": "split-sport",
   "metadata": {},
   "outputs": [],
   "source": [
    "A = np.array([[1, 0.4, -0.3], \n",
    "              [0.3, 1.1, -0.3], \n",
    "              [0.2, -0.1, 1.3]], dtype='float')\n",
    "\n",
    "b = np.array([0.5, 0.4, 0.7], dtype='float')"
   ]
  },
  {
   "cell_type": "code",
   "execution_count": 228,
   "id": "purple-library",
   "metadata": {},
   "outputs": [
    {
     "name": "stdout",
     "output_type": "stream",
     "text": [
      "Ma trận I - A thỏa mãn chuẩn hàng.\n",
      "Nhap vao su lua chon cua bạn: \n",
      "1. Lặp tiên nghiệm.\n",
      "2. Lặp hậu nghiệm.\n",
      "Bạn muốn lặp theo công thức sai số tiên nghiệm hay hậu nghiệm: 1\n",
      "alpha =  [[ 0.  -0.4  0.3]\n",
      " [-0.3 -0.1  0.3]\n",
      " [-0.2  0.1 -0.3]]\n",
      "beta =  [0.5 0.4 0.7]\n",
      "Nhap vao sai so tien nghiem: \n",
      "1e-5\n",
      "x0 =  [0. 0. 0.]\n",
      "x =  [0.5 0.4 0.7]\n",
      "\n",
      "Chuẩn hàng của alpha = 0.700000\n",
      "k = 35\n"
     ]
    },
    {
     "data": {
      "text/plain": [
       "(array([0.5027027 , 0.35984556, 0.48880309]), 35)"
      ]
     },
     "execution_count": 228,
     "metadata": {},
     "output_type": "execute_result"
    }
   ],
   "source": [
    "LapDon(A, b)"
   ]
  },
  {
   "cell_type": "code",
   "execution_count": 231,
   "id": "fancy-seafood",
   "metadata": {},
   "outputs": [
    {
     "name": "stdout",
     "output_type": "stream",
     "text": [
      "Ma trận I - A thỏa mãn chuẩn hàng.\n",
      "Nhap vao su lua chon cua bạn: \n",
      "1. Lặp tiên nghiệm.\n",
      "2. Lặp hậu nghiệm.\n",
      "Bạn muốn lặp theo công thức sai số tiên nghiệm hay hậu nghiệm: 2\n",
      "alpha =  [[ 0.  -0.4  0.3]\n",
      " [-0.3 -0.1  0.3]\n",
      " [-0.2  0.1 -0.3]]\n",
      "beta =  [0.5 0.4 0.7]\n",
      "Nhap vao sai so hau nghiem: \n",
      "1e-5\n",
      "x0 =  [0. 0. 0.]\n",
      "x =  [0.5 0.4 0.7]\n",
      "\n",
      "Chuẩn hàng của alpha = 0.700000\n"
     ]
    },
    {
     "data": {
      "text/plain": [
       "(array([0.50270279, 0.35984564, 0.48880344]), 15)"
      ]
     },
     "execution_count": 231,
     "metadata": {},
     "output_type": "execute_result"
    }
   ],
   "source": [
    "LapDon(A, b)"
   ]
  },
  {
   "cell_type": "markdown",
   "id": "other-howard",
   "metadata": {},
   "source": [
    "Ví dụ 2: "
   ]
  },
  {
   "cell_type": "code",
   "execution_count": 240,
   "id": "greatest-feature",
   "metadata": {},
   "outputs": [],
   "source": [
    "A2 = np.array([[0.47, 0.034, 0.033, 0.028, 0.038, 0.004, 0.037], \n",
    "               [0.029, 0.187, 0.054, 0.045, 0.01, 0.041, 0.018], \n",
    "               [0.057, 0.075, 0.203, 0.071, 0.057, 0.021, 0.064], \n",
    "               [0.068, 0.075, 0.084, 0.310, 0.057, 0.041, 0.048], \n",
    "               [0.031, 0.30, 0.015, 0.047, 0.13, 0.028, 0.03], \n",
    "               [0.018, 0.007, 0.007, 0.017, 0.093, 0.165, 0.035], \n",
    "               [0.033, 0.029, 0.031, 0.022, 0.028, 0.042, 0.143]], dtype='float')  \n",
    "\n",
    "b2 = np.array([0.75, 0.375, 0.3, 0.207, 0.2, 0.25, 0.27], dtype='float')"
   ]
  },
  {
   "cell_type": "code",
   "execution_count": 241,
   "id": "portuguese-fossil",
   "metadata": {},
   "outputs": [
    {
     "name": "stdout",
     "output_type": "stream",
     "text": [
      "Ma trận không thỏa mãn điều kiện lặp đơn.\n"
     ]
    },
    {
     "ename": "SystemExit",
     "evalue": "",
     "output_type": "error",
     "traceback": [
      "An exception has occurred, use %tb to see the full traceback.\n",
      "\u001b[1;31mSystemExit\u001b[0m\n"
     ]
    }
   ],
   "source": [
    "LapDon(A2, b2)"
   ]
  },
  {
   "cell_type": "markdown",
   "id": "assisted-trail",
   "metadata": {},
   "source": [
    "Ví dụ 3: "
   ]
  },
  {
   "cell_type": "code",
   "execution_count": 245,
   "id": "elementary-support",
   "metadata": {},
   "outputs": [],
   "source": [
    "A3 = np.array([[-1.1, 0.1, 0, -0.3, 0.1], \n",
    "               [0, -0.3, 0.1, 0, -0.1], \n",
    "               [-0.1, 0, -0.5, -0.2, 0], \n",
    "               [0.2, 0, -0.2, -1, 0.3], \n",
    "               [-0.1, -0.1, 0, 0.4, -0.8]], dtype='float')\n",
    "\n",
    "b3 = np.array([-0.2, 1.3, -2, 0.7, 0.8], dtype='float')"
   ]
  },
  {
   "cell_type": "code",
   "execution_count": 246,
   "id": "threaded-ribbon",
   "metadata": {},
   "outputs": [
    {
     "name": "stdout",
     "output_type": "stream",
     "text": [
      "Ma trận I + A thỏa mãn chuẩn hàng.\n",
      "Nhap vao su lua chon cua bạn: \n",
      "1. Lặp tiên nghiệm.\n",
      "2. Lặp hậu nghiệm.\n",
      "Bạn muốn lặp theo công thức sai số tiên nghiệm hay hậu nghiệm: 1\n",
      "alpha =  [[-0.1  0.1  0.  -0.3  0.1]\n",
      " [ 0.   0.7  0.1  0.  -0.1]\n",
      " [-0.1  0.   0.5 -0.2  0. ]\n",
      " [ 0.2  0.  -0.2  0.   0.3]\n",
      " [-0.1 -0.1  0.   0.4  0.2]]\n",
      "beta =  [ 0.2 -1.3  2.  -0.7 -0.8]\n",
      "Nhap vao sai so tien nghiem: \n",
      "1e-5\n",
      "x0 =  [0. 0. 0. 0. 0.]\n",
      "x =  [ 0.2 -1.3  2.  -0.7 -0.8]\n",
      "\n",
      "Chuẩn hàng của alpha = 0.900000\n",
      "k = 138\n"
     ]
    },
    {
     "data": {
      "text/plain": [
       "(array([ 0.40096432, -2.12671167,  4.77126326, -2.12864031, -1.84860174]), 138)"
      ]
     },
     "execution_count": 246,
     "metadata": {},
     "output_type": "execute_result"
    }
   ],
   "source": [
    "LapDon(A3, b3)"
   ]
  },
  {
   "cell_type": "code",
   "execution_count": 254,
   "id": "accurate-guinea",
   "metadata": {},
   "outputs": [
    {
     "name": "stdout",
     "output_type": "stream",
     "text": [
      "Ma trận I + A thỏa mãn chuẩn hàng.\n",
      "Nhap vao su lua chon cua bạn: \n",
      "1. Lặp tiên nghiệm.\n",
      "2. Lặp hậu nghiệm.\n",
      "Bạn muốn lặp theo công thức sai số tiên nghiệm hay hậu nghiệm: 2\n",
      "alpha =  [[-0.1  0.1  0.  -0.3  0.1]\n",
      " [ 0.   0.7  0.1  0.  -0.1]\n",
      " [-0.1  0.   0.5 -0.2  0. ]\n",
      " [ 0.2  0.  -0.2  0.   0.3]\n",
      " [-0.1 -0.1  0.   0.4  0.2]]\n",
      "beta =  [ 0.2 -1.3  2.  -0.7 -0.8]\n",
      "Nhap vao sai so hau nghiem: \n",
      "1e-5\n",
      "x0 =  [0. 0. 0. 0. 0.]\n",
      "x =  [ 0.2 -1.3  2.  -0.7 -0.8]\n",
      "\n",
      "Chuẩn hàng của alpha = 0.900000\n"
     ]
    },
    {
     "data": {
      "text/plain": [
       "(array([ 0.400964  , -2.12671439,  4.77126319, -2.12864007, -1.84860098]), 44)"
      ]
     },
     "execution_count": 254,
     "metadata": {},
     "output_type": "execute_result"
    }
   ],
   "source": [
    "LapDon(A3, b3)"
   ]
  },
  {
   "cell_type": "code",
   "execution_count": null,
   "id": "personal-peace",
   "metadata": {},
   "outputs": [],
   "source": []
  }
 ],
 "metadata": {
  "kernelspec": {
   "display_name": "Python 3",
   "language": "python",
   "name": "python3"
  },
  "language_info": {
   "codemirror_mode": {
    "name": "ipython",
    "version": 3
   },
   "file_extension": ".py",
   "mimetype": "text/x-python",
   "name": "python",
   "nbconvert_exporter": "python",
   "pygments_lexer": "ipython3",
   "version": "3.8.3"
  }
 },
 "nbformat": 4,
 "nbformat_minor": 5
}
