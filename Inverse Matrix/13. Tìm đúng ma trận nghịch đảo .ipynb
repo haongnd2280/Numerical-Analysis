{
 "cells": [
  {
   "cell_type": "markdown",
   "id": "nasty-snake",
   "metadata": {},
   "source": [
    "# 1. Gauss - Jordan "
   ]
  },
  {
   "cell_type": "code",
   "execution_count": null,
   "id": "centered-personality",
   "metadata": {},
   "outputs": [],
   "source": []
  },
  {
   "cell_type": "code",
   "execution_count": null,
   "id": "remarkable-exposure",
   "metadata": {},
   "outputs": [],
   "source": []
  },
  {
   "cell_type": "code",
   "execution_count": null,
   "id": "prospective-genesis",
   "metadata": {},
   "outputs": [],
   "source": []
  },
  {
   "cell_type": "code",
   "execution_count": null,
   "id": "operating-floating",
   "metadata": {},
   "outputs": [],
   "source": []
  },
  {
   "cell_type": "markdown",
   "id": "musical-science",
   "metadata": {},
   "source": [
    "# 2. Cholesky"
   ]
  },
  {
   "cell_type": "code",
   "execution_count": 2,
   "id": "accurate-bronze",
   "metadata": {},
   "outputs": [],
   "source": [
    "import numpy as np"
   ]
  },
  {
   "cell_type": "markdown",
   "id": "threaded-viking",
   "metadata": {},
   "source": [
    "### 2.1. Hàm kiểm tra tính đối xứng của ma trận"
   ]
  },
  {
   "cell_type": "code",
   "execution_count": 3,
   "id": "generic-causing",
   "metadata": {},
   "outputs": [],
   "source": [
    "def symmetryCheck(A): \n",
    "    n = len(A)\n",
    "    \n",
    "    for i in range(n): \n",
    "        for j in range(i): # không kiểm tra các phần tử đường chéo chính có bằng chính nó hay không.  \n",
    "            if A[i][j] != A[j][i]: \n",
    "                return False \n",
    "    \n",
    "    return True"
   ]
  },
  {
   "cell_type": "markdown",
   "id": "consolidated-manual",
   "metadata": {},
   "source": [
    "### 2.2. Hàm tính Cholesky của ma trận"
   ]
  },
  {
   "cell_type": "code",
   "execution_count": 4,
   "id": "round-radio",
   "metadata": {},
   "outputs": [],
   "source": [
    "def Cholesky(A): \n",
    "    n = len(A)\n",
    "    # Bước 1: Tính bình phương của phần tử đường chéo chính a_ii\n",
    "    for i in range(n): \n",
    "        for k in range(i): \n",
    "            A[i][i] = A[i][i] - A[k][i]**2 # đoạn này có thể lấy inner product cho nhanh. \n",
    "            \n",
    "        # Bước 3: Xét dấu của a_ii. \n",
    "        # Nếu a_ii <= 0 thì dừng thuật toán\n",
    "        if A[i][i] <= 0: \n",
    "            return 'Matrix is not positive definite'\n",
    "        \n",
    "        # Ngược lại thì lấy căn của a_ii. \n",
    "        A[i][i] = np.sqrt(A[i][i]) \n",
    "            \n",
    "        # Bước 4: Tính các phần tử a_ij, j = i + 1,..., n.\n",
    "        for j in range(i + 1, n): \n",
    "            for k in range(i): \n",
    "                A[i][j] = A[i][j] - A[k][i] * A[k][j]\n",
    "            \n",
    "            A[i][j] = A[i][j] / A[i][i]\n",
    "        \n",
    "    # Bước 5: trả về ma trận tam dưới của A. Ta thu được ma trận L. \n",
    "    return np.tril(A.T)"
   ]
  },
  {
   "cell_type": "markdown",
   "id": "julian-personal",
   "metadata": {},
   "source": [
    "### 2.3. Hàm tính nghịch đảo của ma trận tam giác dưới"
   ]
  },
  {
   "cell_type": "code",
   "execution_count": 5,
   "id": "international-galaxy",
   "metadata": {},
   "outputs": [],
   "source": [
    "def lowTriInverse(L):\n",
    "    n = len(L)\n",
    "    inv_L = np.zeros((n, n))\n",
    "    \n",
    "    for j in range(n): \n",
    "        inv_L[j][j] = 1 / L[j][j]\n",
    "        \n",
    "        for i in range(j + 1, n): \n",
    "            for k in range(j, i):\n",
    "                inv_L[i][j] += L[i][k] * inv_L[k][j]\n",
    "            \n",
    "            inv_L[i][j] = -inv_L[i][j] / L[i][i]\n",
    "            \n",
    "    return inv_L "
   ]
  },
  {
   "cell_type": "markdown",
   "id": "governing-seventh",
   "metadata": {},
   "source": [
    "### 2.4. Hàm tính nghịch đảo của một ma trận M = A^T.A"
   ]
  },
  {
   "cell_type": "code",
   "execution_count": 6,
   "id": "democratic-murray",
   "metadata": {},
   "outputs": [],
   "source": [
    "def posDeInverse(A): \n",
    "    M = np.matmul(A.T, A)  # Lúc này, M là ma trận đối xứng. \n",
    "        \n",
    "    L = Cholesky(M) \n",
    "        \n",
    "    if type(L) == str: \n",
    "        return 'Matrix is not positive definite.'\n",
    "    else: \n",
    "        inv_L = lowTriInverse(L)  # Tính ma trận nghịch đảo của ma trận tam giác dưới L. \n",
    "    \n",
    "        inv_M = np.matmul(inv_L.T, inv_L) # Nhân inv_L với chuyển vị của chính nó. \n",
    "        \n",
    "        inv_A = np.matmul(inv_M, A.T)  # Tìm nghịch đảo của A\n",
    "        \n",
    "    return inv_A"
   ]
  },
  {
   "cell_type": "markdown",
   "id": "heavy-surrey",
   "metadata": {},
   "source": [
    "### 2.5. Hàm thực thi chính "
   ]
  },
  {
   "cell_type": "code",
   "execution_count": 7,
   "id": "similar-celebrity",
   "metadata": {},
   "outputs": [],
   "source": [
    "def InvCholesky(A): \n",
    "    n = len(A)\n",
    "    \n",
    "    if symmetryCheck(A):\n",
    "        L = Cholesky(A.copy())\n",
    "        \n",
    "        if type(L) == str: # Ma trận A không đối xứng, xác định dương => A có thể khả nghịch hoặc không. \n",
    "            inv_A = posDeInverse(A.copy())\n",
    "        else:\n",
    "            inv_L = lowTriInverse(L)  # Tính ma trận nghịch đảo của ma trận tam giác dưới L.\n",
    "            \n",
    "            inv_A = np.matmul(inv_L.T, inv_L)  # Nhân inv_L với chuyển vị của chính nó.\n",
    "        \n",
    "    else: \n",
    "        inv_A = posDeInverse(A.copy())                        \n",
    "            \n",
    "    return inv_A"
   ]
  },
  {
   "cell_type": "markdown",
   "id": "welsh-punch",
   "metadata": {},
   "source": [
    "Ví dụ 1: A là ma trận đối xứng, nhưng không xác định dương, nhưng vẫn khả nghịch."
   ]
  },
  {
   "cell_type": "code",
   "execution_count": 8,
   "id": "basic-mechanism",
   "metadata": {},
   "outputs": [],
   "source": [
    "A = np.array([[1, 3, -2], \n",
    "              [3, 4, -5], \n",
    "              [-2, -5, 3]], dtype='float')"
   ]
  },
  {
   "cell_type": "code",
   "execution_count": 9,
   "id": "surprising-purple",
   "metadata": {},
   "outputs": [
    {
     "data": {
      "text/plain": [
       "array([[-3.25,  0.25, -1.75],\n",
       "       [ 0.25, -0.25, -0.25],\n",
       "       [-1.75, -0.25, -1.25]])"
      ]
     },
     "execution_count": 9,
     "metadata": {},
     "output_type": "execute_result"
    }
   ],
   "source": [
    "InvCholesky(A.copy())"
   ]
  },
  {
   "cell_type": "code",
   "execution_count": 10,
   "id": "racial-water",
   "metadata": {},
   "outputs": [
    {
     "data": {
      "text/plain": [
       "array([[-3.25,  0.25, -1.75],\n",
       "       [ 0.25, -0.25, -0.25],\n",
       "       [-1.75, -0.25, -1.25]])"
      ]
     },
     "execution_count": 10,
     "metadata": {},
     "output_type": "execute_result"
    }
   ],
   "source": [
    "np.linalg.inv(A.copy())"
   ]
  },
  {
   "cell_type": "markdown",
   "id": "talented-education",
   "metadata": {},
   "source": [
    "Ví dụ 2: "
   ]
  },
  {
   "cell_type": "code",
   "execution_count": 11,
   "id": "light-photographer",
   "metadata": {},
   "outputs": [],
   "source": [
    "A1 = np.array([[50, 107, 36], \n",
    "              [25, 54, 20], \n",
    "              [31, 66, 21]], dtype='float')"
   ]
  },
  {
   "cell_type": "code",
   "execution_count": 12,
   "id": "horizontal-yahoo",
   "metadata": {},
   "outputs": [
    {
     "data": {
      "text/plain": [
       "array([[-185.99998026,  128.9999863 ,  195.99997921],\n",
       "       [  94.99998992,  -65.999993  ,  -99.99998938],\n",
       "       [ -23.99999746,   16.99999823,   24.99999732]])"
      ]
     },
     "execution_count": 12,
     "metadata": {},
     "output_type": "execute_result"
    }
   ],
   "source": [
    "InvCholesky(A1.copy())"
   ]
  },
  {
   "cell_type": "code",
   "execution_count": 13,
   "id": "supposed-villa",
   "metadata": {},
   "outputs": [
    {
     "data": {
      "text/plain": [
       "array([[-186.,  129.,  196.],\n",
       "       [  95.,  -66., -100.],\n",
       "       [ -24.,   17.,   25.]])"
      ]
     },
     "execution_count": 13,
     "metadata": {},
     "output_type": "execute_result"
    }
   ],
   "source": [
    "np.linalg.inv(A1.copy())"
   ]
  },
  {
   "cell_type": "markdown",
   "id": "finnish-effects",
   "metadata": {},
   "source": [
    "Ví dụ 3:"
   ]
  },
  {
   "cell_type": "code",
   "execution_count": 14,
   "id": "mighty-divorce",
   "metadata": {},
   "outputs": [],
   "source": [
    "A3 = np.array([[0, 0, 0, 1], \n",
    "              [1, 4, 1, 0], \n",
    "              [0, -1, 3, 0], \n",
    "              [3, 1, 0, 0]], dtype='float')"
   ]
  },
  {
   "cell_type": "code",
   "execution_count": 17,
   "id": "asian-poster",
   "metadata": {},
   "outputs": [
    {
     "data": {
      "text/plain": [
       "array([[10.,  7.,  1.,  0.],\n",
       "       [ 7., 18.,  1.,  0.],\n",
       "       [ 1.,  1., 10.,  0.],\n",
       "       [ 0.,  0.,  0.,  1.]])"
      ]
     },
     "execution_count": 17,
     "metadata": {},
     "output_type": "execute_result"
    }
   ],
   "source": [
    "np.matmul(A3.T, A3)"
   ]
  },
  {
   "cell_type": "code",
   "execution_count": 15,
   "id": "little-chicken",
   "metadata": {},
   "outputs": [
    {
     "data": {
      "text/plain": [
       "array([[ 0.        , -0.08333333,  0.02777778,  0.36111111],\n",
       "       [ 0.        ,  0.25      , -0.08333333, -0.08333333],\n",
       "       [ 0.        ,  0.08333333,  0.30555556, -0.02777778],\n",
       "       [ 1.        ,  0.        ,  0.        ,  0.        ]])"
      ]
     },
     "execution_count": 15,
     "metadata": {},
     "output_type": "execute_result"
    }
   ],
   "source": [
    "InvCholesky(A3)"
   ]
  },
  {
   "cell_type": "markdown",
   "id": "military-numbers",
   "metadata": {},
   "source": [
    "# 3. Viền quanh"
   ]
  },
  {
   "cell_type": "markdown",
   "id": "green-passport",
   "metadata": {},
   "source": [
    "Viền quanh được dùng trong trường hợp nào?"
   ]
  },
  {
   "cell_type": "code",
   "execution_count": null,
   "id": "fixed-tyler",
   "metadata": {},
   "outputs": [],
   "source": [
    "def VienQuanh(A): \n",
    "    n = len(A)\n",
    "    \n",
    "    detA2 = "
   ]
  }
 ],
 "metadata": {
  "kernelspec": {
   "display_name": "Python 3",
   "language": "python",
   "name": "python3"
  },
  "language_info": {
   "codemirror_mode": {
    "name": "ipython",
    "version": 3
   },
   "file_extension": ".py",
   "mimetype": "text/x-python",
   "name": "python",
   "nbconvert_exporter": "python",
   "pygments_lexer": "ipython3",
   "version": "3.8.3"
  }
 },
 "nbformat": 4,
 "nbformat_minor": 5
}
