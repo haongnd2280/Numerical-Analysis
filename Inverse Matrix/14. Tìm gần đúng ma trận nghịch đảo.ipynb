{
 "cells": [
  {
   "cell_type": "markdown",
   "id": "hungry-break",
   "metadata": {},
   "source": [
    "# 1. PP Newton"
   ]
  },
  {
   "cell_type": "markdown",
   "id": "intelligent-senator",
   "metadata": {},
   "source": [
    "# 2. Jacobi"
   ]
  },
  {
   "cell_type": "markdown",
   "id": "configured-briefs",
   "metadata": {},
   "source": [
    "# 3. Gauss Seidel"
   ]
  },
  {
   "cell_type": "code",
   "execution_count": null,
   "id": "understood-tonight",
   "metadata": {},
   "outputs": [],
   "source": []
  }
 ],
 "metadata": {
  "kernelspec": {
   "display_name": "Python 3",
   "language": "python",
   "name": "python3"
  },
  "language_info": {
   "codemirror_mode": {
    "name": "ipython",
    "version": 3
   },
   "file_extension": ".py",
   "mimetype": "text/x-python",
   "name": "python",
   "nbconvert_exporter": "python",
   "pygments_lexer": "ipython3",
   "version": "3.8.3"
  }
 },
 "nbformat": 4,
 "nbformat_minor": 5
}
