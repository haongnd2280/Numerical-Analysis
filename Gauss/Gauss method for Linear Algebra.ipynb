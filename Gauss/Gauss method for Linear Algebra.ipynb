{
 "cells": [
  {
   "cell_type": "markdown",
   "id": "responsible-ethiopia",
   "metadata": {},
   "source": [
    "# Tóm tắt một số lý thuyết và một số điểm cần lưu ý về phương pháp: "
   ]
  },
  {
   "cell_type": "markdown",
   "id": "standing-possibility",
   "metadata": {},
   "source": [
    "Ta sẽ nhập vào ma trận bổ sung.\\\n",
    "Nhắc lại phương pháp: khử các phần tử dưới đường chéo chính cho đến khi ma trận trở thành ma trận tam giác trên U, rồi khi đó ta thế ngược vào.\\\n",
    "**Chú ý**: Ở đây, ta sẽ giải với ma trận vuông, không xử lý với ma trận hình chữ nhật.\\\n",
    "Ta sẽ giải hệ A là ma trận vuông. "
   ]
  },
  {
   "cell_type": "markdown",
   "id": "naughty-rochester",
   "metadata": {},
   "source": [
    "Chú ý là sẽ có những trường hợp đặc biệt, đó là:\\\n",
    "1. Ta có thể đổi hàng nếu sau mỗi lần khử một cột, pivot tiếp theo bằng 0. \n",
    "2. Ta sẽ xét có 3 trường hợp của hệ vương đại số tuyến tính:\\\n",
    "TH1: rankA = rank(A|b) = n => hệ có một nghiệm duy nhất\\\n",
    "TH2: rankA = rank(A|b) < n => hệ có vô số nghiệm\\\n",
    "TH3: rankA < rank(A|b) : hệ vô nghiệm\n",
    "3. Ma trận khác 0 : phần tử đầu tiên của mỗi hàng \n",
    "=> sử dụng mảng index đều có ghi lại vị trí của phần tử khác 0 đầu tiên của mỗi hàng, nó ghi lại thông tin của các trường hợp của hệ Gauss: duy nhất nghiệm, vô số nghiệm và vô nghiệm. "
   ]
  },
  {
   "cell_type": "markdown",
   "id": "athletic-relation",
   "metadata": {},
   "source": [
    "Bước 1: Input\\\n",
    "Ta sẽ nhập ma trận bổ sung từ excel, rồi nhập vào DataFrame, rồi chuyển sang numpy. "
   ]
  },
  {
   "cell_type": "markdown",
   "id": "partial-brooklyn",
   "metadata": {},
   "source": [
    "# Tóm tắt thuật toán: "
   ]
  },
  {
   "cell_type": "markdown",
   "id": "alone-nicaragua",
   "metadata": {},
   "source": [
    "- ### Bước 1: \n",
    "- ### Bước 2: \n",
    "- ### Bước 3: \n",
    "- ### Bước 4: "
   ]
  },
  {
   "cell_type": "markdown",
   "id": "increased-polls",
   "metadata": {},
   "source": [
    "## Cách 1: Thực hiện thuật toán bằng numpy (tận dụng các hàm của đại số tuyến tính để rút ngắn code) "
   ]
  },
  {
   "cell_type": "code",
   "execution_count": null,
   "id": "included-corruption",
   "metadata": {},
   "outputs": [],
   "source": []
  },
  {
   "cell_type": "code",
   "execution_count": null,
   "id": "needed-spanking",
   "metadata": {},
   "outputs": [],
   "source": []
  },
  {
   "cell_type": "code",
   "execution_count": null,
   "id": "musical-running",
   "metadata": {},
   "outputs": [],
   "source": []
  },
  {
   "cell_type": "code",
   "execution_count": null,
   "id": "genetic-prison",
   "metadata": {},
   "outputs": [],
   "source": []
  },
  {
   "cell_type": "code",
   "execution_count": null,
   "id": "inappropriate-worth",
   "metadata": {},
   "outputs": [],
   "source": []
  },
  {
   "cell_type": "code",
   "execution_count": 26,
   "id": "dominican-snake",
   "metadata": {},
   "outputs": [],
   "source": [
    "import numpy as np\n",
    "import pandas as pd\n",
    "from pandas import DataFrame "
   ]
  },
  {
   "cell_type": "markdown",
   "id": "recovered-toilet",
   "metadata": {},
   "source": [
    "## Định nghĩa hàm trả về ma trận bổ sung theo thứ tự đúng: "
   ]
  },
  {
   "cell_type": "code",
   "execution_count": null,
   "id": "facial-radius",
   "metadata": {},
   "outputs": [],
   "source": [
    "def pivotCheck(Ab, j):  # kiểm tra pivot aii có khác 0 hay không. \n",
    "    if Ab[j][j] != 0: \n",
    "        return Ab   \n",
    "    \n",
    "    for i in np.arange(j + 1, len(Ab)): \n",
    "        if Ab[i][j] != 0: \n",
    "            Ab[[j, i]] = Ab[[i, j]]  # đổi hàng i và hàng j cho nhau. \n",
    "            return Ab"
   ]
  },
  {
   "cell_type": "markdown",
   "id": "senior-porcelain",
   "metadata": {},
   "source": [
    "## Định nghĩa hàm thực thi chính của chương trình"
   ]
  },
  {
   "cell_type": "code",
   "execution_count": 27,
   "id": "bacterial-jacksonville",
   "metadata": {},
   "outputs": [],
   "source": [
    "def main(Ab): \n",
    "    n = len(Ab)  # số hàng. \n",
    "    m = len(Ab[0])  # số cột. \n",
    "    sol = np.zeros(m - 1)  # mảng chứa nghiệm của hệ phương trình, theo thứ tự ngược lại. \n",
    "    \n",
    "    # Trước mỗi lần khử cột i, ta đều kiểm tra xem pivot aii có khác 0 hay không. \n",
    "    # Chọn bất cứ hàng nào đầu tiên ở dưới hàng 0 có phần tử đầu tiên khác 0. \n",
    "    # Tiếp theo, ta khử từng cột 1. Bắt đầu từ cột \"0\". \n",
    "    # Cách 1: Sử dụng 2 vòng lặp. \n",
    "    \n",
    "    for j in np.arange(m - 2):  # khử cột j, bỏ 2 cột cuối cùng. \n",
    "        Ab = pivotCheck(Ab, j)  # kiểm tra pivot ajj khác 0 hay không. \n",
    "        \n",
    "        for i in np.arange(j + 1, n): # bắt đầu từ hàng i = j + 1.\n",
    "            multiple = Ab[i][j]/Ab[j][j]\n",
    "            \n",
    "            for k in np.arange(j, m): \n",
    "                Ab[i][k] = Ab[i][k] - Ab[j][k]*multiple\n",
    "    \n",
    "    # Đánh giá nghiệm của phương trình. \n",
    "    if Ab[n - 1][n - 1] == 0: \n",
    "        if Ab[n - 1][n] == 0: \n",
    "            print(\"Hệ phương trình có vô số nghiệm.\")\n",
    "        else: \n",
    "            print(\"Hệ phương trình vô nghiệm.\")\n",
    "    else: \n",
    "        # ta dùng slicing của array để tính các nghiệm. \n",
    "        for i in np.arange(n - 1, -1, -1):\n",
    "            # ở vòng lặp đầu tiên, dot product của hai mảng rỗng = 0. \n",
    "            sol[i] = (Ab[i][m - 1] - np.dot(Ab[i][i + 1:m - 1], sol[i + 1:]))/Ab[i][i] \n",
    "            \n",
    "    return sol"
   ]
  },
  {
   "cell_type": "markdown",
   "id": "lovely-ministry",
   "metadata": {},
   "source": [
    "## Thực thi chương trình từ đây: "
   ]
  },
  {
   "cell_type": "code",
   "execution_count": 28,
   "id": "secondary-event",
   "metadata": {},
   "outputs": [
    {
     "data": {
      "text/plain": [
       "array([[  1.,  -1.,   2.,  -1.,  -8.],\n",
       "       [  2.,  -2.,   3.,  -3., -20.],\n",
       "       [  1.,   1.,   1.,   0.,  -2.],\n",
       "       [  1.,  -1.,   4.,   3.,   4.]])"
      ]
     },
     "execution_count": 28,
     "metadata": {},
     "output_type": "execute_result"
    }
   ],
   "source": [
    "Ab = pd.read_excel('C:\\\\Users\\\\admin\\\\OneDrive\\\\Kaggle\\\\GaussEli.example1.xlsx', header=None)\n",
    "Ab = Ab.to_numpy()\n",
    "Ab = np.array(Ab, dtype='float64')\n",
    "Ab"
   ]
  },
  {
   "cell_type": "code",
   "execution_count": 29,
   "id": "sunset-percentage",
   "metadata": {},
   "outputs": [
    {
     "data": {
      "text/plain": [
       "array([-7.,  3.,  2.,  2.])"
      ]
     },
     "execution_count": 29,
     "metadata": {},
     "output_type": "execute_result"
    }
   ],
   "source": [
    "main(Ab)"
   ]
  }
 ],
 "metadata": {
  "kernelspec": {
   "display_name": "Python 3",
   "language": "python",
   "name": "python3"
  },
  "language_info": {
   "codemirror_mode": {
    "name": "ipython",
    "version": 3
   },
   "file_extension": ".py",
   "mimetype": "text/x-python",
   "name": "python",
   "nbconvert_exporter": "python",
   "pygments_lexer": "ipython3",
   "version": "3.8.3"
  }
 },
 "nbformat": 4,
 "nbformat_minor": 5
}
