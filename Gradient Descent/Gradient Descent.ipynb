{
 "cells": [
  {
   "cell_type": "markdown",
   "id": "contained-cooling",
   "metadata": {},
   "source": [
    "# Ý tưởng phương pháp: "
   ]
  },
  {
   "cell_type": "markdown",
   "id": "acoustic-natural",
   "metadata": {},
   "source": [
    "- **Note: Ở đây, ta giới thiệu phương pháp tìm min cho hàm một biến. Tìm max ta thực hiện tương tự.**\n",
    "- Các điểm min hoặc max là những điểm có đạo hàm bằng 0. Trong nhiều trường hợp, việc giải phương trình đạo hàm bằng 0 là không khả thi do đạo hàm có phương trình phức tạp.\n",
    "- Vì thế, ý tưởng ở đây là ta sẽ xuất phát từ một điểm gần với nghiệm (đạo hàm) của bài toán, sau đó dùng một phép toán lặp để tiến gần đến điểm cần tìm, tức là khi đạo hàm gần bằng 0. (như vậy, thay vì giải phương trình đạo hàm bằng 0, ta chỉ cần tính giá trị của đạo hàm tại một điểm nào đó khi mà phương trình của đạo hàm đã biết, đơn giản hơn rất nhiều). \n",
    "- Ban đầu, chọn một điểm x0 làm điểm xấp xỉ ban đầu. Ta cần tìm một thuật toán đưa x0 về nghiệm x* càng nhanh càng tốt. \n",
    "- Qua tìm hiểu, chúng ta cần di chuyển điểm x_i ngược dấu với đạo hàm. Và phải xác định được learning rate cho phù hợp với ngữ cảnh của bài toán đang thực hiện. "
   ]
  },
  {
   "cell_type": "markdown",
   "id": "julian-jefferson",
   "metadata": {},
   "source": [
    "# Ý tưởng thuật toán lặp: \n",
    "- Thuật toán sẽ dừng lại khi đó có đạo hàm có độ lớn đủ nhỏ (đạo hàm đủ gần 0).\\\n",
    "=> điều kiện dừng của vòng lặp: df(x_i) < epsilon. \n",
    "- Điều kiện kết thúc vòng lặp là giá trị của đạo hàm tại điểm x mới nhất nhỏ hơn một giá trị epsilon cho trước. \n",
    "- Tạo một mảng x lưu các giá trị xấp xỉ x_i, tại mỗi vòng lặp lấy giá trị x gần nhất (x[-1]) để tính giá trị x_i tiếp theo. \n",
    "- **Câu hỏi: Làm sao để tích hợp cả hai phương pháp vào làm một thuật toán??** (do có 3 trường hợp, và trường hợp bước nhảy quá lớn, các điểm sẽ đu đưa qua lại điểm cực trị địa phương) Có thể đặt một biến sign để chỉ dấu của đạo hàm. \n",
    "- "
   ]
  },
  {
   "cell_type": "markdown",
   "id": "secret-toddler",
   "metadata": {},
   "source": [
    "# Thực hiện thuật toán: \n",
    "- INPUT: x0, eta (learning rate), epsilon, số vòng lặp N.  \n",
    "- OUTPUT: x\\*, iter (số vòng lặp), f(x\\*), df(x\\*) (xem có gần 0 hay không). \n",
    "\n",
    "\n",
    "- Bước 1: Khởi tạo mảng x lưu các giá trị xấp xỉ theo từng vòng lặp, ban đầu x = x[x0] (chỉ chứa phần tử x0 ban đầu). \n",
    "- Bước 2: for i = 1 to N: \n",
    "              x_new = x[-1] - eta x (giá trị đạo hàm của x[-1]) \n",
    "              thêm x_new vào mảng x \n",
    "              \n",
    "              if |giá trị đạo hàm của x_new| < epsilon: \n",
    "                  trả về giá trị (x_new, i, df(x_new), f(x_new))\n",
    "                  thoát khỏi vòng lặp \n",
    "              "
   ]
  },
  {
   "cell_type": "markdown",
   "id": "english-reunion",
   "metadata": {},
   "source": [
    "## Thuật toán của anh Tiệp:  \n",
    "- Anh dùng một vòng lặp for để giới hạn số lần lặp, trong khi vẫn set giá trị của epsilon. (mình thì để số vòng lặp tự do, khi nào thỏa mãn epsilon thì thôi). \n",
    "- Ví dụ ở đây là hàm x^2 + 5sin(x).  "
   ]
  },
  {
   "cell_type": "markdown",
   "id": "radio-reconstruction",
   "metadata": {},
   "source": [
    "# Cài đặt chương trình: "
   ]
  },
  {
   "cell_type": "code",
   "execution_count": 38,
   "id": "quantitative-grill",
   "metadata": {},
   "outputs": [],
   "source": [
    "import numpy as np\n",
    "from decimal import * "
   ]
  },
  {
   "cell_type": "markdown",
   "id": "turned-touch",
   "metadata": {},
   "source": [
    "### Hàm tính giá trị của f(x): "
   ]
  },
  {
   "cell_type": "code",
   "execution_count": 55,
   "id": "lightweight-transparency",
   "metadata": {},
   "outputs": [],
   "source": [
    "def f1(x): \n",
    "    return x**2 + 5*np.sin(x)"
   ]
  },
  {
   "cell_type": "markdown",
   "id": "referenced-triple",
   "metadata": {},
   "source": [
    "### Hàm tính giá trị của đạo hàm f'(x): "
   ]
  },
  {
   "cell_type": "code",
   "execution_count": 56,
   "id": "dimensional-kruger",
   "metadata": {},
   "outputs": [],
   "source": [
    "def df1(x): \n",
    "    return 2*x + 5*np.cos(x)"
   ]
  },
  {
   "cell_type": "markdown",
   "id": "appropriate-assignment",
   "metadata": {},
   "source": [
    "### Hàm thực thi chính (phiên bản giới hạn số vòng lặp) : "
   ]
  },
  {
   "cell_type": "code",
   "execution_count": 59,
   "id": "surprising-retrieval",
   "metadata": {},
   "outputs": [],
   "source": [
    "def minGraDes(eta, x0, eps): \n",
    "    # lưu giá trị của các x_i vào một mảng. mỗi vòng lặp thực hiện giá trị x_i mới nhất (phần tử x[-1])\n",
    "    x = [x0]\n",
    "    \n",
    "    # ta đặt số vòng lặp tối đa là 100. \n",
    "    for iter in range(100): \n",
    "        x_new = x[-1] - eta*df1(x[-1])\n",
    "        x.append(x_new)\n",
    "        \n",
    "        # xét điều kiện dừng vòng lặp, giá trị đạo hàm của x_new có đủ gần 0 hay không: \n",
    "        if np.abs(df1(x_new)) < eps: \n",
    "            break \n",
    "    \n",
    "    return (x, iter)"
   ]
  },
  {
   "cell_type": "markdown",
   "id": "backed-gauge",
   "metadata": {},
   "source": [
    "### Thực hiện chương trình: "
   ]
  },
  {
   "cell_type": "code",
   "execution_count": 60,
   "id": "different-tract",
   "metadata": {},
   "outputs": [
    {
     "name": "stdout",
     "output_type": "stream",
     "text": [
      "Nghiệm x1 = -1.110510503589805, f(x) = -3.246394272691539, df(x) = -0.000000000056326, thu được sau 26 vòng lặp.\n",
      "Nghiệm x2 = -1.110510503571682, f(x) = -3.246394272691539, df(x) = 0.000000000061102, thu được sau 44 vòng lặp.\n"
     ]
    }
   ],
   "source": [
    "(x1, iter1) = minGraDes(0.1, -5, 1e-10)\n",
    "(x2, iter2) = minGraDes(0.1, 5, 1e-10)\n",
    "\n",
    "print(\"Nghiệm x1 = %.15f, f(x) = %.15f, df(x) = %.15f, thu được sau %d vòng lặp.\" %(x1[-1], f(x1[-1]), df(x1[-1]), iter1))\n",
    "print(\"Nghiệm x2 = %.15f, f(x) = %.15f, df(x) = %.15f, thu được sau %d vòng lặp.\" %(x2[-1], f(x2[-1]), df(x2[-1]), iter2))"
   ]
  },
  {
   "cell_type": "markdown",
   "id": "featured-australian",
   "metadata": {},
   "source": [
    "### Vẽ hình động biểu diễn: "
   ]
  },
  {
   "cell_type": "markdown",
   "id": "wired-permit",
   "metadata": {},
   "source": [
    "# Thuật toán Gradient Descent tìm giá trị lớn nhất "
   ]
  },
  {
   "cell_type": "markdown",
   "id": "subsequent-rochester",
   "metadata": {},
   "source": [
    "- Chỉ cần đổi dấu trừ trong công thức lặp ở trên thành dấu cộng là ok. Còn lại thực hiện tương tự. "
   ]
  },
  {
   "cell_type": "code",
   "execution_count": 61,
   "id": "plain-credit",
   "metadata": {},
   "outputs": [],
   "source": [
    "def f(x): \n",
    "    return x**2 + 5*np.sin(x)**2 + 3*np.cos(x)"
   ]
  },
  {
   "cell_type": "code",
   "execution_count": 62,
   "id": "romantic-booth",
   "metadata": {},
   "outputs": [],
   "source": [
    "def df(x): \n",
    "    return 2*x + 10*np.sin(2*x) - 3*np.sin(x)"
   ]
  },
  {
   "cell_type": "code",
   "execution_count": 73,
   "id": "associate-implementation",
   "metadata": {},
   "outputs": [],
   "source": [
    "def maxGraDes(eta, x0, eps): \n",
    "    # lưu giá trị của các x_i vào một mảng. mỗi vòng lặp thực hiện giá trị x_i mới nhất (phần tử x[-1])\n",
    "    x = [x0]\n",
    "    \n",
    "    # ta đặt số vòng lặp tối đa là 100. \n",
    "    for iter in range(1, 101): \n",
    "        x_new = x[-1] + eta*df(x[-1])\n",
    "        x.append(x_new)\n",
    "        \n",
    "        # xét điều kiện dừng vòng lặp, giá trị đạo hàm của x_new có đủ gần 0 hay không: \n",
    "        if np.abs(df(x_new)) < eps: \n",
    "            break \n",
    "    \n",
    "    return (x, iter)"
   ]
  },
  {
   "cell_type": "markdown",
   "id": "adaptive-concept",
   "metadata": {},
   "source": [
    "- Khoảng phân ly là (0, 2.2)"
   ]
  },
  {
   "cell_type": "code",
   "execution_count": 80,
   "id": "pressed-composition",
   "metadata": {},
   "outputs": [
    {
     "name": "stdout",
     "output_type": "stream",
     "text": [
      "Nghiệm x1 = 1.578668056635520, f(x) = 7.468268073146977, df(x) = 0.000000965626004, thu được sau 67 vòng lặp.\n",
      "Nghiệm x2 = 1.578668165935558, f(x) = 7.468268081750482, df(x) = -0.000000998922637, thu được sau 67 vòng lặp.\n"
     ]
    }
   ],
   "source": [
    "(x1, iter1) = maxGraDes(0.1, 2.1, 1e-6)\n",
    "(x2, iter2) = maxGraDes(0.1, 0.2, 1e-6)\n",
    "\n",
    "print(\"Nghiệm x1 = %.15f, f(x) = %.15f, df(x) = %.15f, thu được sau %d vòng lặp.\" %(x1[-1], f(x1[-1]), df(x1[-1]), iter1))\n",
    "print(\"Nghiệm x2 = %.15f, f(x) = %.15f, df(x) = %.15f, thu được sau %d vòng lặp.\" %(x2[-1], f(x2[-1]), df(x2[-1]), iter2))"
   ]
  },
  {
   "cell_type": "markdown",
   "id": "center-childhood",
   "metadata": {},
   "source": [
    "## Thuật toán max Gradient Descent sử dụng vòng lặp while (không giới hạn số vòng lặp): "
   ]
  },
  {
   "cell_type": "code",
   "execution_count": 78,
   "id": "electoral-marine",
   "metadata": {},
   "outputs": [],
   "source": [
    "def maxGraDes(eta, x0, eps): \n",
    "    # biến đếm số vòng lặp \n",
    "    iter = 0 \n",
    "    # lưu giá trị của các x_i vào một mảng. mỗi vòng lặp thực hiện giá trị x_i mới nhất (phần tử x[-1])\n",
    "    x = [x0]\n",
    "\n",
    "    while np.abs(df(x[-1])) >= eps: \n",
    "        x_new = x[-1] + eta*df(x[-1])\n",
    "        x.append(x_new)\n",
    "        iter += 1 \n",
    "    \n",
    "    return (x, iter)"
   ]
  },
  {
   "cell_type": "code",
   "execution_count": 1,
   "id": "harmful-timothy",
   "metadata": {},
   "outputs": [
    {
     "ename": "NameError",
     "evalue": "name 'maxGraDes' is not defined",
     "output_type": "error",
     "traceback": [
      "\u001b[1;31m---------------------------------------------------------------------------\u001b[0m",
      "\u001b[1;31mNameError\u001b[0m                                 Traceback (most recent call last)",
      "\u001b[1;32m<ipython-input-1-3dcc65c7dd2e>\u001b[0m in \u001b[0;36m<module>\u001b[1;34m\u001b[0m\n\u001b[1;32m----> 1\u001b[1;33m \u001b[1;33m(\u001b[0m\u001b[0mx1\u001b[0m\u001b[1;33m,\u001b[0m \u001b[0miter1\u001b[0m\u001b[1;33m)\u001b[0m \u001b[1;33m=\u001b[0m \u001b[0mmaxGraDes\u001b[0m\u001b[1;33m(\u001b[0m\u001b[1;36m0.1\u001b[0m\u001b[1;33m,\u001b[0m \u001b[1;36m2.1\u001b[0m\u001b[1;33m,\u001b[0m \u001b[1;36m1e-6\u001b[0m\u001b[1;33m)\u001b[0m\u001b[1;33m\u001b[0m\u001b[1;33m\u001b[0m\u001b[0m\n\u001b[0m\u001b[0;32m      2\u001b[0m \u001b[1;33m(\u001b[0m\u001b[0mx2\u001b[0m\u001b[1;33m,\u001b[0m \u001b[0miter2\u001b[0m\u001b[1;33m)\u001b[0m \u001b[1;33m=\u001b[0m \u001b[0mmaxGraDes\u001b[0m\u001b[1;33m(\u001b[0m\u001b[1;36m0.1\u001b[0m\u001b[1;33m,\u001b[0m \u001b[1;36m0.2\u001b[0m\u001b[1;33m,\u001b[0m \u001b[1;36m1e-6\u001b[0m\u001b[1;33m)\u001b[0m\u001b[1;33m\u001b[0m\u001b[1;33m\u001b[0m\u001b[0m\n\u001b[0;32m      3\u001b[0m \u001b[1;33m\u001b[0m\u001b[0m\n\u001b[0;32m      4\u001b[0m \u001b[0mprint\u001b[0m\u001b[1;33m(\u001b[0m\u001b[1;34m\"Nghiệm x1 = %.15f, f(x) = %.15f, df(x) = %.15f, thu được sau %d vòng lặp.\"\u001b[0m \u001b[1;33m%\u001b[0m\u001b[1;33m(\u001b[0m\u001b[0mx1\u001b[0m\u001b[1;33m[\u001b[0m\u001b[1;33m-\u001b[0m\u001b[1;36m1\u001b[0m\u001b[1;33m]\u001b[0m\u001b[1;33m,\u001b[0m \u001b[0mf\u001b[0m\u001b[1;33m(\u001b[0m\u001b[0mx1\u001b[0m\u001b[1;33m[\u001b[0m\u001b[1;33m-\u001b[0m\u001b[1;36m1\u001b[0m\u001b[1;33m]\u001b[0m\u001b[1;33m)\u001b[0m\u001b[1;33m,\u001b[0m \u001b[0mdf\u001b[0m\u001b[1;33m(\u001b[0m\u001b[0mx1\u001b[0m\u001b[1;33m[\u001b[0m\u001b[1;33m-\u001b[0m\u001b[1;36m1\u001b[0m\u001b[1;33m]\u001b[0m\u001b[1;33m)\u001b[0m\u001b[1;33m,\u001b[0m \u001b[0miter1\u001b[0m\u001b[1;33m)\u001b[0m\u001b[1;33m)\u001b[0m\u001b[1;33m\u001b[0m\u001b[1;33m\u001b[0m\u001b[0m\n\u001b[0;32m      5\u001b[0m \u001b[0mprint\u001b[0m\u001b[1;33m(\u001b[0m\u001b[1;34m\"Nghiệm x2 = %.15f, f(x) = %.15f, df(x) = %.15f, thu được sau %d vòng lặp.\"\u001b[0m \u001b[1;33m%\u001b[0m\u001b[1;33m(\u001b[0m\u001b[0mx2\u001b[0m\u001b[1;33m[\u001b[0m\u001b[1;33m-\u001b[0m\u001b[1;36m1\u001b[0m\u001b[1;33m]\u001b[0m\u001b[1;33m,\u001b[0m \u001b[0mf\u001b[0m\u001b[1;33m(\u001b[0m\u001b[0mx2\u001b[0m\u001b[1;33m[\u001b[0m\u001b[1;33m-\u001b[0m\u001b[1;36m1\u001b[0m\u001b[1;33m]\u001b[0m\u001b[1;33m)\u001b[0m\u001b[1;33m,\u001b[0m \u001b[0mdf\u001b[0m\u001b[1;33m(\u001b[0m\u001b[0mx2\u001b[0m\u001b[1;33m[\u001b[0m\u001b[1;33m-\u001b[0m\u001b[1;36m1\u001b[0m\u001b[1;33m]\u001b[0m\u001b[1;33m)\u001b[0m\u001b[1;33m,\u001b[0m \u001b[0miter2\u001b[0m\u001b[1;33m)\u001b[0m\u001b[1;33m)\u001b[0m\u001b[1;33m\u001b[0m\u001b[1;33m\u001b[0m\u001b[0m\n",
      "\u001b[1;31mNameError\u001b[0m: name 'maxGraDes' is not defined"
     ]
    }
   ],
   "source": [
    "(x1, iter1) = maxGraDes(0.1, 2.1, 1e-6)\n",
    "(x2, iter2) = maxGraDes(0.1, 0.2, 1e-6)\n",
    "\n",
    "print(\"Nghiệm x1 = %.15f, f(x) = %.15f, df(x) = %.15f, thu được sau %d vòng lặp.\" %(x1[-1], f(x1[-1]), df(x1[-1]), iter1))\n",
    "print(\"Nghiệm x2 = %.15f, f(x) = %.15f, df(x) = %.15f, thu được sau %d vòng lặp.\" %(x2[-1], f(x2[-1]), df(x2[-1]), iter2))"
   ]
  },
  {
   "cell_type": "markdown",
   "id": "running-implementation",
   "metadata": {},
   "source": [
    "# Thuyết trình "
   ]
  },
  {
   "cell_type": "markdown",
   "id": "indian-opportunity",
   "metadata": {},
   "source": [
    "- Tìm nhiều điểm cực trị trong một khoảng đóng [a, b]?? Lưu vào một mảng chung các hệ số lặp x_i. \n",
    "- Khó khăn là điểm khởi tạo (không phải là khoảng cách), mà là vị trị của điểm dựa vào dáng điệu của đạo hàm. "
   ]
  },
  {
   "cell_type": "code",
   "execution_count": null,
   "id": "following-substance",
   "metadata": {},
   "outputs": [],
   "source": []
  }
 ],
 "metadata": {
  "kernelspec": {
   "display_name": "Python 3",
   "language": "python",
   "name": "python3"
  },
  "language_info": {
   "codemirror_mode": {
    "name": "ipython",
    "version": 3
   },
   "file_extension": ".py",
   "mimetype": "text/x-python",
   "name": "python",
   "nbconvert_exporter": "python",
   "pygments_lexer": "ipython3",
   "version": "3.8.3"
  }
 },
 "nbformat": 4,
 "nbformat_minor": 5
}
