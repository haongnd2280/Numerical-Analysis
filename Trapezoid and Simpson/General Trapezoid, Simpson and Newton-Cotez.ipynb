{
 "cells": [
  {
   "cell_type": "code",
   "execution_count": 7,
   "metadata": {},
   "outputs": [
    {
     "name": "stdout",
     "output_type": "stream",
     "text": [
      "Nhap vao can duoi tich phan a: 0\n",
      "Nhap vao can tren tich phan b: 1\n",
      "Ban chia doan [a, b] thanh bao nhieu phan: 5\n",
      "Gia tri tich phan tinh theo cong thuc hinh thang la: \n",
      "0.6956349206349207\n"
     ]
    }
   ],
   "source": [
    "import numpy as np \n",
    "\n",
    "def f(x): \n",
    "    return 1/(1 + x)\n",
    "\n",
    "def main(n, a, b):  # n la so khoang bang nhau, a, b la hai gia tri dau mut. \n",
    "    X = np.array([])\n",
    "    Y = np.array([])\n",
    "    \n",
    "    h = (b - a)/n\n",
    "    for i in np.arange(n + 1): # n khoang, co n + 1 diem.  \n",
    "        x = a + i*h\n",
    "        y = f(x)\n",
    "        X = np.append(X, x)\n",
    "        Y = np.append(Y, y)\n",
    "    \n",
    "    I = (Y[0] + Y[-1])*h/2 \n",
    "    for i in np.arange(1, n): \n",
    "        I = I + h*Y[i]\n",
    "        \n",
    "    print(\"Gia tri tich phan tinh theo cong thuc hinh thang la: \")\n",
    "    print(I)\n",
    "    \n",
    "a = float(input(\"Nhap vao can duoi tich phan a: \"))\n",
    "b = float(input(\"Nhap vao can tren tich phan b: \"))\n",
    "n = int(input(\"Ban chia doan [a, b] thanh bao nhieu phan: \"))\n",
    "                \n",
    "main(n, a, b)"
   ]
  },
  {
   "cell_type": "code",
   "execution_count": 15,
   "metadata": {},
   "outputs": [
    {
     "name": "stdout",
     "output_type": "stream",
     "text": [
      "Nhap vao can duoi tich phan a: 0\n",
      "Nhap vao can tren tich phan b: 1\n",
      "Ban chia doan [a, b] thanh bao nhieu phan: 50\n",
      "Bạn muốn sử dụng công thức k cấp mấy: (chú ý rằng n phải chia hết cho k)10\n",
      "Mang he so Cotez la: \n",
      "[ 0.02683415  0.17753594 -0.08104357  0.45494629 -0.43515512  0.71376463\n",
      " -0.43515512  0.45494629 -0.08104357  0.17753594  0.02683415]\n",
      "Gia tri tich phan xap xi su dung cong thuc Newton-Cotez, với k = 10 và n = 50 là: \n",
      "0.8356488481518299\n"
     ]
    }
   ],
   "source": [
    "# Newton - Cotez\n",
    "# Luu y: code o day van chua toi uu. Cho tinh cac phan tu cua mang Hi cua H, ta co the chi tinh mot nua so phan tu cua \n",
    "#        mang thoi, nhung o day ta van tinh het. \n",
    "\n",
    "# Yeu cau 1: bo he so cong thuc Newton - Cotez (cho k, ra bo he so). \n",
    "# Yeu cau 2: nhap them n, n co phu hop voi k khong, va co sinh ra duoc tu cong thuc k day khong. \n",
    "# (Yeu cau 3: Nhap epsilon (khong bat buoc))\n",
    "\n",
    "import numpy as np \n",
    "def f(x): \n",
    "    return 1/(1 + x**3)\n",
    "\n",
    "def factorial(n): \n",
    "    if n == 0: \n",
    "        return 1 \n",
    "    return n*factorial(n - 1)\n",
    "\n",
    "def HornerInverseMethod(X):\n",
    "    W = np.array([])\n",
    "    W = np.append(W, 1)\n",
    "    W = np.append(W, -X[0])\n",
    "    \n",
    "    for i in np.arange(1, len(X)):             \n",
    "        ithMulti = np.array([X[i] * k for k in W])\n",
    "        \n",
    "        W = np.append(W, 0)   \n",
    "        for i in np.arange(1, len(W)): \n",
    "            W[i] = W[i] - ithMulti[i - 1]\n",
    "            \n",
    "    return W\n",
    "\n",
    "def polyEval(x, Pn): \n",
    "    Q = []            \n",
    "    Q.append(Pn[0])    \n",
    "    for i in range(1, len(Pn)): \n",
    "        y = Pn[i] + Q[i - 1] * x \n",
    "        Q.append(y)\n",
    "        \n",
    "    return y\n",
    "\n",
    "def main(a, b, n, k):\n",
    "    while n % k != 0: \n",
    "        print(\"Vui lòng nhập lại k (n phải chia hết cho k)\")\n",
    "        k = int(input())\n",
    "    \n",
    "    # Nhập các điểm mốc vào. \n",
    "    h = (b - a)/n\n",
    "    X = np.array([])\n",
    "    Y = np.array([])\n",
    "    \n",
    "    for i in np.arange(n + 1): \n",
    "        x = a + i*h \n",
    "        y = f(x)\n",
    "        X = np.append(X, x)\n",
    "        Y = np.append(Y, y)\n",
    "        \n",
    "    H = np.array([])\n",
    "    T = np.array([])  # mang nhan da thuc chung (chua khai trien). \n",
    "    for i in np.arange(k + 1): \n",
    "        T = np.append(T, i)\n",
    "        \n",
    "    for i in range(k + 1): \n",
    "        Hi = 1*(-1)**(k - i)/(k*factorial(i)*factorial(k - i))\n",
    "        \n",
    "        # mang nhan da thuc rieng Ti.\n",
    "        Ti = np.delete(T, i)  # note: i la index cua array, khong phai value. \n",
    "        Ti = HornerInverseMethod(Ti)\n",
    "        \n",
    "        # tinh nguyen ham cua Ti. \n",
    "        for k in np.arange(len(Ti)): \n",
    "            Ti[k] = Ti[k]/(len(Ti) - k)\n",
    "        Ti = np.append(Ti, 0)\n",
    "        \n",
    "        # Tinh gia tri tich phan (lay ket qua cua 2 can tru di nhau). \n",
    "        Hi = Hi*(polyEval(k, Ti) - polyEval(0, Ti))\n",
    "        H = np.append(H, Hi)\n",
    "        \n",
    "    print(\"Mang he so Cotez la: \")\n",
    "    print(H)\n",
    "    \n",
    "    # lay dot product cua hai mang H va Yi => tinh luon tich phan I can tinh. \n",
    "    I = 0\n",
    "    for i in range(0, n, k): \n",
    "        Yi = Y[i:(i + k + 1)]\n",
    "        Ii = ((b - a)/n*k)*np.dot(H, Yi)\n",
    "        I += Ii\n",
    "        \n",
    "    print(\"Gia tri tich phan xap xi su dung cong thuc Newton-Cotez, với k = %s và n = %s là: \" %(k, n))\n",
    "    print(I)\n",
    "\n",
    "a = float(input(\"Nhap vao can duoi tich phan a: \"))\n",
    "b = float(input(\"Nhap vao can tren tich phan b: \"))\n",
    "n = int(input(\"Ban chia doan [a, b] thanh bao nhieu phan: \"))\n",
    "k = int(input(\"Bạn muốn sử dụng công thức k cấp mấy: (chú ý rằng n phải chia hết cho k)\"))\n",
    "                \n",
    "main(a, b, n, k)"
   ]
  },
  {
   "cell_type": "code",
   "execution_count": null,
   "metadata": {},
   "outputs": [],
   "source": [
    "# tham so bac \n",
    "# so doan chia la boi cua da thuc "
   ]
  },
  {
   "cell_type": "code",
   "execution_count": 4,
   "metadata": {},
   "outputs": [
    {
     "data": {
      "text/plain": [
       "array([9, 4])"
      ]
     },
     "execution_count": 4,
     "metadata": {},
     "output_type": "execute_result"
    }
   ],
   "source": [
    "import numpy as np \n",
    "\n",
    "a = np.array([9, 4, 3, 7])\n",
    "a[0:2]"
   ]
  },
  {
   "cell_type": "code",
   "execution_count": null,
   "metadata": {},
   "outputs": [],
   "source": []
  }
 ],
 "metadata": {
  "kernelspec": {
   "display_name": "Python 3",
   "language": "python",
   "name": "python3"
  },
  "language_info": {
   "codemirror_mode": {
    "name": "ipython",
    "version": 3
   },
   "file_extension": ".py",
   "mimetype": "text/x-python",
   "name": "python",
   "nbconvert_exporter": "python",
   "pygments_lexer": "ipython3",
   "version": "3.8.3"
  }
 },
 "nbformat": 4,
 "nbformat_minor": 4
}
