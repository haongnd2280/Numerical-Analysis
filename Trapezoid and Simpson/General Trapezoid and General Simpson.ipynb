{
 "cells": [
  {
   "cell_type": "code",
   "execution_count": 3,
   "metadata": {},
   "outputs": [
    {
     "name": "stdout",
     "output_type": "stream",
     "text": [
      "Nhap vao can duoi tich phan a: 0\n",
      "Nhap vao can tren tich phan b: 1\n",
      "Ban chia doan [a, b] thanh bao nhieu phan: 1000\n",
      "Gia tri tich phan tinh theo cong thuc hinh thang la: \n",
      "0.6931472430599375\n"
     ]
    }
   ],
   "source": [
    "import numpy as np \n",
    "\n",
    "def f(x): \n",
    "    return 1/(1 + x)\n",
    "\n",
    "def main(n, a, b):  # n la so khoang bang nhau, a, b la hai gia tri dau mut. \n",
    "    X = np.array([])\n",
    "    Y = np.array([])\n",
    "    \n",
    "    h = (b - a)/n\n",
    "    for i in np.arange(n + 1): # n khoang, co n + 1 diem.  \n",
    "        x = a + i*h\n",
    "        y = f(x)\n",
    "        X = np.append(X, x)\n",
    "        Y = np.append(Y, y)\n",
    "    \n",
    "    I = (Y[0] + Y[-1])*h/2 \n",
    "    for i in np.arange(1, n): \n",
    "        I = I + h*Y[i]\n",
    "        \n",
    "    print(\"Gia tri tich phan tinh theo cong thuc hinh thang la: \")\n",
    "    print(I)\n",
    "    \n",
    "a = float(input(\"Nhap vao can duoi tich phan a: \"))\n",
    "b = float(input(\"Nhap vao can tren tich phan b: \"))\n",
    "n = int(input(\"Ban chia doan [a, b] thanh bao nhieu phan: \"))\n",
    "                \n",
    "main(n, a, b)"
   ]
  },
  {
   "cell_type": "code",
   "execution_count": null,
   "metadata": {},
   "outputs": [],
   "source": [
    "# General Simpson\n",
    "\n",
    "import numpy as np \n",
    "\n",
    "def f(x): \n",
    "    pass \n",
    "\n",
    "def main(n, a, b): \n",
    "    "
   ]
  }
 ],
 "metadata": {
  "kernelspec": {
   "display_name": "Python 3",
   "language": "python",
   "name": "python3"
  },
  "language_info": {
   "codemirror_mode": {
    "name": "ipython",
    "version": 3
   },
   "file_extension": ".py",
   "mimetype": "text/x-python",
   "name": "python",
   "nbconvert_exporter": "python",
   "pygments_lexer": "ipython3",
   "version": "3.8.3"
  }
 },
 "nbformat": 4,
 "nbformat_minor": 4
}
