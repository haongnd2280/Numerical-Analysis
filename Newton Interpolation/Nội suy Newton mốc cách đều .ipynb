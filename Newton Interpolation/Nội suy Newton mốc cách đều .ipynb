{
 "cells": [
  {
   "cell_type": "code",
   "execution_count": 1,
   "metadata": {},
   "outputs": [],
   "source": [
    "# can tinh gia tri cua da thuc noi suy Newton tai mot diem x bat ky nao do.\n",
    "# neu diem x can tinh o ben trai hay ben phai cua bo diem noi suy thi ta su dung cong thuc noi suy Newton tien hoac lui tuong ung,. \n",
    "# neu diem x can tinh nam o giua bo diem noi suy ??? su dung noi suy trung tam. "
   ]
  },
  {
   "cell_type": "code",
   "execution_count": 2,
   "metadata": {},
   "outputs": [],
   "source": [
    "# can mot ham tinh tu sai phan. \n",
    "# bang sai phan, da thuc noi suy va gia tri cua ham tai diem x. \n",
    "# chia 3 truong hop."
   ]
  },
  {
   "cell_type": "code",
   "execution_count": 2,
   "metadata": {},
   "outputs": [],
   "source": [
    "import numpy as np \n",
    "import matplotlib.pyplot as plt "
   ]
  },
  {
   "cell_type": "code",
   "execution_count": 2,
   "metadata": {},
   "outputs": [],
   "source": [
    "# Ham dau tien: tinh bang ty sai phan. \n",
    "\n",
    "def difference(X, Y): \n",
    "    n = len(X)\n",
    "    \n",
    "    difTab = []\n",
    "    # them cac mang rong vao hang. \n",
    "    for i in range(n): # i chay tu 0 den n - 1. \n",
    "        row_i = []\n",
    "        for j in range(i + 2): \n",
    "            row_i.append(0)\n",
    "        \n",
    "        difTab.append(row_i)\n",
    "    \n",
    "    # Bat dau nhap cac vector cot cua X va Y. \n",
    "    for i in range(n): \n",
    "        difTab[i][0] = X[i]\n",
    "    for i in range(n): \n",
    "        difTab[i][1] = Y[i]\n",
    "        \n",
    "    for e in difTab: \n",
    "        print(e)\n",
    "    print()\n",
    "    \n",
    "    # Bat dau tinh sai phan cac cap. \n",
    "    \n",
    "    # ta tinh lan luot theo tung cot (co dinh cot). \n",
    "    for j in range(2, n + 1): \n",
    "        for i in range(j - 1, n): \n",
    "            difTab[i][j] = difTab[i][j - 1] - difTab[i - 1][j - 1]\n",
    "            \n",
    "    for e in difTab: \n",
    "        print(e)\n",
    "    print()\n",
    "    return difTab \n",
    "\n"
   ]
  },
  {
   "cell_type": "code",
   "execution_count": 17,
   "metadata": {},
   "outputs": [],
   "source": [
    "# Ham thu hai: Ham tinh he so L. \n",
    "def Coefs(X): \n",
    "    L = []\n",
    "    for i in range(len(X)): \n",
    "        Li = []\n",
    "        for j in range(i + 1): \n",
    "            Li.append(0)\n",
    "        \n",
    "        L.append(Li)\n",
    "        \n",
    "    for e in L: \n",
    "        print(e)\n",
    "        \n",
    "    L[0] = [1]"
   ]
  },
  {
   "cell_type": "code",
   "execution_count": 18,
   "metadata": {},
   "outputs": [
    {
     "ename": "NameError",
     "evalue": "name 'L' is not defined",
     "output_type": "error",
     "traceback": [
      "\u001b[1;31m---------------------------------------------------------------------------\u001b[0m",
      "\u001b[1;31mNameError\u001b[0m                                 Traceback (most recent call last)",
      "\u001b[1;32m<ipython-input-18-f9cc30f4de5a>\u001b[0m in \u001b[0;36m<module>\u001b[1;34m\u001b[0m\n\u001b[0;32m      1\u001b[0m \u001b[0mT\u001b[0m \u001b[1;33m=\u001b[0m \u001b[1;33m[\u001b[0m\u001b[1;36m0\u001b[0m\u001b[1;33m]\u001b[0m\u001b[1;33m\u001b[0m\u001b[1;33m\u001b[0m\u001b[0m\n\u001b[1;32m----> 2\u001b[1;33m \u001b[0mL\u001b[0m\u001b[1;33m[\u001b[0m\u001b[1;36m0\u001b[0m\u001b[1;33m]\u001b[0m \u001b[1;33m=\u001b[0m \u001b[1;36m1\u001b[0m\u001b[1;33m\u001b[0m\u001b[1;33m\u001b[0m\u001b[0m\n\u001b[0m\u001b[0;32m      3\u001b[0m \u001b[1;33m\u001b[0m\u001b[0m\n\u001b[0;32m      4\u001b[0m \u001b[1;32mdef\u001b[0m \u001b[0mHornerInverseMethod\u001b[0m\u001b[1;33m(\u001b[0m\u001b[0mT\u001b[0m\u001b[1;33m)\u001b[0m\u001b[1;33m:\u001b[0m\u001b[1;33m\u001b[0m\u001b[1;33m\u001b[0m\u001b[0m\n\u001b[0;32m      5\u001b[0m     \u001b[0mW\u001b[0m \u001b[1;33m=\u001b[0m \u001b[1;33m[\u001b[0m\u001b[1;33m]\u001b[0m\u001b[1;33m\u001b[0m\u001b[1;33m\u001b[0m\u001b[0m\n",
      "\u001b[1;31mNameError\u001b[0m: name 'L' is not defined"
     ]
    }
   ],
   "source": [
    "T = [0]\n",
    "L[0] = 1\n",
    "\n",
    "def HornerInverseMethod(T):\n",
    "    W = []\n",
    "    W.append(1)\n",
    "    W.append(-T[0])\n",
    "    \n",
    "    for i in range(1, len(X)):             \n",
    "        ithMulti = [X[i] * k for k in W]\n",
    "        \n",
    "        W.append(0)   \n",
    "        for i in range(1, len(W)): \n",
    "            W[i] = W[i] - ithMulti[i - 1]\n",
    "            \n",
    "    return W"
   ]
  },
  {
   "cell_type": "code",
   "execution_count": null,
   "metadata": {},
   "outputs": [],
   "source": [
    "main(X, Y, n, x): \n",
    "    h = (b - a)/n\n",
    "    X = np.array([])\n",
    "    Y = np.array([])\n",
    "    \n",
    "    # Nhan xet: so moc noi suy la rat lon (vi du: 100 moc), nen khong can phai tich het y(x), vi khong can thiet. \n",
    "    # Yeu cau: nhap vao gia tri can tinh x, cho ra ket qua so moc nam o ben trai, so moc nam o ben phai, va moc o gan no nhat.\n",
    "    \n",
    "\n",
    "print(\"Nhap vao can duoi: \")\n",
    "a = int(input())\n",
    "print(\"Nhap vao can tren: \")\n",
    "b = int(input())\n",
    "print(\"Ban muon chia doan noi suy thanh bao nhieu phan: \")\n",
    "n = int(input())\n",
    "print(\"Nhap vao gia tri x ma ban muon tinh: \")\n",
    "x = float(input())\n"
   ]
  }
 ],
 "metadata": {
  "kernelspec": {
   "display_name": "Python 3",
   "language": "python",
   "name": "python3"
  },
  "language_info": {
   "codemirror_mode": {
    "name": "ipython",
    "version": 3
   },
   "file_extension": ".py",
   "mimetype": "text/x-python",
   "name": "python",
   "nbconvert_exporter": "python",
   "pygments_lexer": "ipython3",
   "version": "3.8.3"
  }
 },
 "nbformat": 4,
 "nbformat_minor": 4
}
