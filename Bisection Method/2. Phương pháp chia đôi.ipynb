{
 "cells": [
  {
   "cell_type": "code",
   "execution_count": 9,
   "id": "dominant-framework",
   "metadata": {},
   "outputs": [],
   "source": [
    "import numpy as np \n",
    "import math "
   ]
  },
  {
   "cell_type": "markdown",
   "id": "confident-investigator",
   "metadata": {},
   "source": [
    "# Ý tưởng phương pháp "
   ]
  },
  {
   "cell_type": "markdown",
   "id": "significant-technique",
   "metadata": {},
   "source": [
    "## Điều kiện HT của phương pháp "
   ]
  },
  {
   "cell_type": "markdown",
   "id": "brilliant-mistress",
   "metadata": {},
   "source": [
    "## Tốc độ HT của phương pháp "
   ]
  },
  {
   "cell_type": "markdown",
   "id": "color-headline",
   "metadata": {},
   "source": [
    "## Đánh giá sai số: \n",
    "Có hai cách đánh giá sai số: \n",
    "1. Công thức tiên nghiệm (đánh giá sai số trước khi tính giá trị xấp xỉ) \n",
    "2. Công thức hậu nghiệm (đánh giá sai số sau khi đã tính nghiệm xấp xỉ) \n",
    "\n",
    "- Câu hỏi đặt ra: Phương pháp nào cho tốc độ hội tụ đến nghiệm chính xác nhanh hơn?\\\n",
    "Hiện tại mình đang nghiêng về phương pháp tiên nghiệm, do nó đánh giá sai số dựa vào nghiệm chính xác của hàm. "
   ]
  },
  {
   "cell_type": "code",
   "execution_count": null,
   "id": "qualified-procedure",
   "metadata": {},
   "outputs": [],
   "source": []
  },
  {
   "cell_type": "code",
   "execution_count": null,
   "id": "owned-wayne",
   "metadata": {},
   "outputs": [],
   "source": []
  },
  {
   "cell_type": "code",
   "execution_count": null,
   "id": "comparative-nylon",
   "metadata": {},
   "outputs": [],
   "source": []
  },
  {
   "cell_type": "markdown",
   "id": "another-switch",
   "metadata": {},
   "source": [
    "# Một số lưu ý về phương pháp chia đôi: \n",
    "- Nên sử dụng một biến đếm số vòng lặp là bao nhiêu. \n",
    "- Có một phương pháp không phải tính f(c) rồi nhân với f(a) hoặc f(b) để xác định dấu (hình như có liên quan đến định lý giá trị trung gian). Cố thử suy nghĩ về nó xem, nếu được thì không phải thực hiện phép tính f(c) và phép nhân xác định dấu ngay sau đó. \n",
    "- Sử dụng hai công thức đánh giá sai số là công thức tiên nghiệm và công thức hậu nghiệm. "
   ]
  },
  {
   "cell_type": "markdown",
   "id": "honey-lightweight",
   "metadata": {},
   "source": [
    "# Ý tưởng thuật toán: "
   ]
  },
  {
   "cell_type": "markdown",
   "id": "backed-subscription",
   "metadata": {},
   "source": [
    "# Thuật toán: "
   ]
  },
  {
   "cell_type": "markdown",
   "id": "affected-complexity",
   "metadata": {},
   "source": [
    "- ### Bước 1: \n",
    "- ### Bước 2: \n",
    "- ### Bước 3: \n",
    "- ### Bước 4: "
   ]
  },
  {
   "cell_type": "markdown",
   "id": "bored-hygiene",
   "metadata": {},
   "source": [
    "# Cài đặt thuật toán: "
   ]
  },
  {
   "cell_type": "markdown",
   "id": "photographic-induction",
   "metadata": {},
   "source": [
    "## Trường hợp 1: Công thức hậu nghiệm (cho sai số, thực hiện xong phép lặp rồi đánh giá sai số) "
   ]
  },
  {
   "cell_type": "markdown",
   "id": "unauthorized-terrorism",
   "metadata": {},
   "source": [
    "## Định nghĩa hàm f(x):"
   ]
  },
  {
   "cell_type": "code",
   "execution_count": 27,
   "id": "derived-sleep",
   "metadata": {},
   "outputs": [],
   "source": [
    "def f1(x): \n",
    "    return x**3 + 4*x**2 - 10"
   ]
  },
  {
   "cell_type": "markdown",
   "id": "dependent-huntington",
   "metadata": {},
   "source": [
    "## Định nghĩa hàm co đoạn [a, b] còn một nửa: "
   ]
  },
  {
   "cell_type": "code",
   "execution_count": 28,
   "id": "round-workplace",
   "metadata": {},
   "outputs": [],
   "source": [
    "def Contraction1(a, b): \n",
    "    p = (a + b)/2\n",
    "    \n",
    "    if f(p) != 0: \n",
    "        if f(a)*f(p) > 0: # a, p cùng dấu \n",
    "            a = p \n",
    "        else: \n",
    "            b = p \n",
    "        return (a, b, p) \n",
    "    else: \n",
    "        printf(\"Nghiệm của phương trình đã cho là: %s.\" %(p))\n",
    "        return (a, b, p) "
   ]
  },
  {
   "cell_type": "markdown",
   "id": "deluxe-perception",
   "metadata": {},
   "source": [
    "## Định nghĩa hàm thực thi chính: "
   ]
  },
  {
   "cell_type": "code",
   "execution_count": 29,
   "id": "living-judge",
   "metadata": {},
   "outputs": [],
   "source": [
    "def BisectionMethod1(a, b, eps): \n",
    "    # định nghĩa biến đếm số vòng lặp. \n",
    "    iter = 0 \n",
    "    \n",
    "    (a, b, p1) = Contraction1(a, b)\n",
    "    (a, b, p2) = Contraction1(a, b)\n",
    "    \n",
    "    while np.abs(p2 - p1) >= eps: \n",
    "        p1 = p2 \n",
    "        (a, b, p2) = Contraction1(a, b)\n",
    "        iter += 1\n",
    "        \n",
    "        # kiểm tra TH ngoại lệ: f(p) = 0 hay không (rất hiếm xảy ra với nghiệm xấp xỉ)\n",
    "        if f(p2) != 0: \n",
    "            continue \n",
    "        else: \n",
    "            break\n",
    "        \n",
    "    return (p2, iter)"
   ]
  },
  {
   "cell_type": "markdown",
   "id": "incredible-karma",
   "metadata": {},
   "source": [
    "## Thực hiện chương trình: "
   ]
  },
  {
   "cell_type": "code",
   "execution_count": 30,
   "id": "adopted-technique",
   "metadata": {},
   "outputs": [
    {
     "name": "stdout",
     "output_type": "stream",
     "text": [
      "Nhập vào cận dưới: 1\n",
      "Nhập vào cận trên: 2\n",
      "Nhập vào sai số mong muốn: 1e-10\n",
      "Nghiệm x = 1.365230013442, giá trị f(x) = 0.000000000457, thu được sau 32 vòng lặp.\n"
     ]
    }
   ],
   "source": [
    "a = float(input(\"Nhập vào cận dưới: \"))\n",
    "b = float(input(\"Nhập vào cận trên: \"))\n",
    "eps = float(input(\"Nhập vào sai số mong muốn: \"))\n",
    "\n",
    "(p2, iter) = BisectionMethod1(a, b, eps)\n",
    "\n",
    "print('Nghiệm x = %.12f, giá trị f(x) = %.12f, thu được sau %d vòng lặp.' %(p2, f1(p2), iter))"
   ]
  },
  {
   "cell_type": "markdown",
   "id": "further-toronto",
   "metadata": {},
   "source": [
    "- **Nhận xét: Nghiệm giải được trên mạng là: 1.365230013... => có thể nhận thấy độ chính xác mà ta tính được là khá lớn, đúng đến 9 chữ số sau dấu phẩy. (đúng hơn cả máy tính casio)**"
   ]
  },
  {
   "cell_type": "markdown",
   "id": "subjective-fireplace",
   "metadata": {},
   "source": [
    "## Trường hợp 2: Công thức tiên nghiệm. "
   ]
  },
  {
   "cell_type": "code",
   "execution_count": 12,
   "id": "dense-patrick",
   "metadata": {},
   "outputs": [],
   "source": [
    "def f2(x): \n",
    "    return x**3 + 4*x**2 - 10"
   ]
  },
  {
   "cell_type": "code",
   "execution_count": 13,
   "id": "plain-laundry",
   "metadata": {},
   "outputs": [],
   "source": [
    "def Contraction2(a, b): \n",
    "    p = (a + b)/2\n",
    "    \n",
    "    if f(p) != 0: \n",
    "        if f(a)*f(p) > 0: # a, p cùng dấu \n",
    "            a = p \n",
    "        else: \n",
    "            b = p \n",
    "        return (a, b, p) \n",
    "    \n",
    "    return (a, b, p) "
   ]
  },
  {
   "cell_type": "code",
   "execution_count": 33,
   "id": "occasional-chemistry",
   "metadata": {},
   "outputs": [],
   "source": [
    "def BisectionMethod2(a, b, eps): \n",
    "    # định nghĩa biến đếm số vòng lặp.\n",
    "    \n",
    "    # giải bất đẳng thức để xác định số lần chia.\n",
    "    iter = round(np.log2((b - a)/eps) + 0.5) \n",
    "    \n",
    "    for i in range(iter): \n",
    "        (a, b, p) = Contraction2(a, b)\n",
    "        \n",
    "        # kiểm tra TH ngoại lệ: f(p) = 0 hay không (rất hiếm xảy ra với nghiệm xấp xỉ)\n",
    "        if f(p) != 0: \n",
    "            continue \n",
    "        else: \n",
    "            break\n",
    "        \n",
    "    return (p, iter)"
   ]
  },
  {
   "cell_type": "markdown",
   "id": "uniform-poultry",
   "metadata": {},
   "source": [
    "### Thực hiện chương trình: "
   ]
  },
  {
   "cell_type": "code",
   "execution_count": 34,
   "id": "harmful-grant",
   "metadata": {},
   "outputs": [
    {
     "name": "stdout",
     "output_type": "stream",
     "text": [
      "Nghiệm x = 1.365230013442, giá trị f(x) = 0.000000000457, thu được sau 34 vòng lặp.\n"
     ]
    }
   ],
   "source": [
    "(p, iter) = BisectionMethod2(1, 2, 1e-10)\n",
    "print('Nghiệm x = %.12f, giá trị f(x) = %.12f, thu được sau %d vòng lặp.' %(p, f2(p), iter))"
   ]
  },
  {
   "cell_type": "markdown",
   "id": "bronze-research",
   "metadata": {},
   "source": [
    "# Thuyết trình "
   ]
  },
  {
   "cell_type": "markdown",
   "id": "numeric-engagement",
   "metadata": {},
   "source": [
    "- Làm một cái bảng ghi kết quả các lần chạy: \n",
    "- Hậu nghiệm thường ra số lần lặp nhỏ hơn so với tiên nghiệm khi nhập cùng sai số. \n",
    "- Chữ số có nghĩa và chữ số đáng tin khác nhau như thế nào?\\\n",
    "Chữ số có nghĩa không mang theo thông tin về sai số, chứ số đáng tin có mang theo thông tin về sai số trong đấy. \n",
    "Chữ số có nghĩa là chữ số khác 0 kể từ bên trái. \n",
    "- "
   ]
  },
  {
   "cell_type": "code",
   "execution_count": 2,
   "id": "activated-mongolia",
   "metadata": {},
   "outputs": [],
   "source": [
    "a = 1e-10"
   ]
  },
  {
   "cell_type": "code",
   "execution_count": 3,
   "id": "welcome-carroll",
   "metadata": {},
   "outputs": [
    {
     "data": {
      "text/plain": [
       "1e-10"
      ]
     },
     "execution_count": 3,
     "metadata": {},
     "output_type": "execute_result"
    }
   ],
   "source": [
    "a"
   ]
  },
  {
   "cell_type": "code",
   "execution_count": null,
   "id": "associate-needle",
   "metadata": {},
   "outputs": [],
   "source": []
  }
 ],
 "metadata": {
  "kernelspec": {
   "display_name": "Python 3",
   "language": "python",
   "name": "python3"
  },
  "language_info": {
   "codemirror_mode": {
    "name": "ipython",
    "version": 3
   },
   "file_extension": ".py",
   "mimetype": "text/x-python",
   "name": "python",
   "nbconvert_exporter": "python",
   "pygments_lexer": "ipython3",
   "version": "3.8.3"
  }
 },
 "nbformat": 4,
 "nbformat_minor": 5
}
