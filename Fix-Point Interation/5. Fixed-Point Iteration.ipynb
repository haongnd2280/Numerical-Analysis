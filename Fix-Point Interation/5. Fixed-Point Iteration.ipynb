{
 "cells": [
  {
   "cell_type": "markdown",
   "id": "cooperative-macro",
   "metadata": {},
   "source": [
    "# Ý tưởng phương pháp: "
   ]
  },
  {
   "cell_type": "code",
   "execution_count": null,
   "id": "growing-bryan",
   "metadata": {},
   "outputs": [],
   "source": []
  },
  {
   "cell_type": "code",
   "execution_count": null,
   "id": "equivalent-marina",
   "metadata": {},
   "outputs": [],
   "source": []
  },
  {
   "cell_type": "code",
   "execution_count": null,
   "id": "available-provincial",
   "metadata": {},
   "outputs": [],
   "source": []
  },
  {
   "cell_type": "code",
   "execution_count": null,
   "id": "blocked-collar",
   "metadata": {},
   "outputs": [],
   "source": []
  },
  {
   "cell_type": "markdown",
   "id": "acoustic-killer",
   "metadata": {},
   "source": [
    "## Điều kiện HT của phương pháp:  "
   ]
  },
  {
   "cell_type": "code",
   "execution_count": null,
   "id": "swedish-packaging",
   "metadata": {},
   "outputs": [],
   "source": []
  },
  {
   "cell_type": "code",
   "execution_count": null,
   "id": "chronic-brave",
   "metadata": {},
   "outputs": [],
   "source": []
  },
  {
   "cell_type": "code",
   "execution_count": null,
   "id": "curious-startup",
   "metadata": {},
   "outputs": [],
   "source": []
  },
  {
   "cell_type": "code",
   "execution_count": null,
   "id": "recovered-humanity",
   "metadata": {},
   "outputs": [],
   "source": []
  },
  {
   "cell_type": "markdown",
   "id": "electrical-coral",
   "metadata": {},
   "source": [
    "## Tốc độ HT của phương pháp "
   ]
  },
  {
   "cell_type": "code",
   "execution_count": null,
   "id": "spectacular-interview",
   "metadata": {},
   "outputs": [],
   "source": []
  },
  {
   "cell_type": "code",
   "execution_count": null,
   "id": "acoustic-admission",
   "metadata": {},
   "outputs": [],
   "source": []
  },
  {
   "cell_type": "code",
   "execution_count": null,
   "id": "arranged-movie",
   "metadata": {},
   "outputs": [],
   "source": []
  },
  {
   "cell_type": "markdown",
   "id": "lightweight-aerospace",
   "metadata": {},
   "source": [
    "## Đánh giá sai số: "
   ]
  },
  {
   "cell_type": "code",
   "execution_count": null,
   "id": "efficient-northern",
   "metadata": {},
   "outputs": [],
   "source": []
  },
  {
   "cell_type": "code",
   "execution_count": null,
   "id": "promotional-bulgarian",
   "metadata": {},
   "outputs": [],
   "source": []
  },
  {
   "cell_type": "code",
   "execution_count": null,
   "id": "sunrise-teacher",
   "metadata": {},
   "outputs": [],
   "source": []
  },
  {
   "cell_type": "markdown",
   "id": "adjustable-connecticut",
   "metadata": {},
   "source": [
    "# Ý tưởng thuật toán: "
   ]
  },
  {
   "cell_type": "markdown",
   "id": "breeding-comfort",
   "metadata": {},
   "source": [
    "- Sử dụng Gradient Descent \n",
    "- Xác định q \n",
    "- Sai số giá trị tuyệt đối, sai số cho phép của nghiệm gần đúng."
   ]
  },
  {
   "cell_type": "code",
   "execution_count": null,
   "id": "handmade-walker",
   "metadata": {},
   "outputs": [],
   "source": []
  },
  {
   "cell_type": "code",
   "execution_count": null,
   "id": "ancient-credits",
   "metadata": {},
   "outputs": [],
   "source": []
  },
  {
   "cell_type": "markdown",
   "id": "secure-trinidad",
   "metadata": {},
   "source": [
    "# Thuật toán: "
   ]
  },
  {
   "cell_type": "markdown",
   "id": "subtle-vampire",
   "metadata": {},
   "source": [
    "- Dùng mảng một chiều lưu các nghiệm thu được trong các lần lặp, để dễ dàng xuất ra nghiệm trong từng lần lặp \n",
    "- Có thể dùng hai công thức đánh giá sai số, một công thức tiên nghiệm và một công thức hậu nghiệm. \n",
    "- Thuật toán thứ nhất là sai số hậu nghiệm, thuật toán thứ hai là công thức tiên nghiệm (xác định số lần lặp trước rồi sau đó thực hiện vòng lặp) \n",
    "- Hậu nghiệm lưu lại ít nhất 2 nghiệm gần nhất để so sánh, công thức thứ hai xác định n (công việc ở mỗi vòng lặp) \n",
    "- Trả giá: Thuật toán thứ nhất số lần lặp nhiều hơn, hậu nghiệm số lần lặp sẽ nhỏ hơn so với tiên nghiệm. Nếu q chênh lệch lớn thì sự chênh lệch số lần lặp là rất lớn (về mặt lý thuyết). \n",
    "- So sánh các phương pháp giải gần đúng f(x) = 0. \n",
    "- So sánh: Miền sử dụng, điều kiện sd phương pháp là chặt hay không, (sâu hơn là áp dụng cái nào tốt, cái nào không tốt), tốc độ hội tụ (số vòng lặp nhiều hay ít), công việc tính toán (thực hiện nhiểu hay ít)\n",
    "- Hiểu được ý tưởng của sai số là và đánh giá được sự hội tụ, so sánh tốc độ hội tụ của hai công thức tiên nghiệm và công thực hậu nghiệm. "
   ]
  },
  {
   "cell_type": "code",
   "execution_count": null,
   "id": "ordinary-coast",
   "metadata": {},
   "outputs": [],
   "source": []
  },
  {
   "cell_type": "code",
   "execution_count": null,
   "id": "conservative-berlin",
   "metadata": {},
   "outputs": [],
   "source": []
  },
  {
   "cell_type": "markdown",
   "id": "ordinary-mailing",
   "metadata": {},
   "source": [
    "# Cài đặt thuật toán: "
   ]
  },
  {
   "cell_type": "code",
   "execution_count": null,
   "id": "indonesian-zimbabwe",
   "metadata": {},
   "outputs": [],
   "source": [
    "import numpy as np \n",
    "import matplotlib.pyplot as plt \n",
    "from pandas import DataFrame"
   ]
  },
  {
   "cell_type": "code",
   "execution_count": null,
   "id": "verified-excuse",
   "metadata": {},
   "outputs": [],
   "source": [
    "def fixedPointIter(eps):\n",
    "    while abs"
   ]
  },
  {
   "cell_type": "code",
   "execution_count": null,
   "id": "designed-abortion",
   "metadata": {},
   "outputs": [],
   "source": []
  },
  {
   "cell_type": "code",
   "execution_count": null,
   "id": "collaborative-stopping",
   "metadata": {},
   "outputs": [],
   "source": []
  },
  {
   "cell_type": "markdown",
   "id": "closed-macedonia",
   "metadata": {},
   "source": [
    "# Nhận xét thuật toán (ưu, nhược điểm): "
   ]
  },
  {
   "cell_type": "markdown",
   "id": "spiritual-document",
   "metadata": {},
   "source": [
    "- Thuật toán chạy thì ngắn và đơn giản, nhưng ta phải kiểm tra điều kiện phía bên ngoài quá nhiều."
   ]
  },
  {
   "cell_type": "code",
   "execution_count": null,
   "id": "educational-crossing",
   "metadata": {},
   "outputs": [],
   "source": []
  }
 ],
 "metadata": {
  "kernelspec": {
   "display_name": "Python 3",
   "language": "python",
   "name": "python3"
  },
  "language_info": {
   "codemirror_mode": {
    "name": "ipython",
    "version": 3
   },
   "file_extension": ".py",
   "mimetype": "text/x-python",
   "name": "python",
   "nbconvert_exporter": "python",
   "pygments_lexer": "ipython3",
   "version": "3.8.3"
  }
 },
 "nbformat": 4,
 "nbformat_minor": 5
}
