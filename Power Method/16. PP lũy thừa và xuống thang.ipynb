{
 "cells": [
  {
   "cell_type": "markdown",
   "id": "annoying-church",
   "metadata": {},
   "source": [
    "# 1. Power Method"
   ]
  },
  {
   "cell_type": "markdown",
   "id": "micro-profit",
   "metadata": {},
   "source": [
    "## 1.1. Cơ sở lý thuyết "
   ]
  },
  {
   "cell_type": "markdown",
   "id": "finnish-newton",
   "metadata": {},
   "source": [
    "Ta giả sử ma trân $\\mathbf{A}$ vuông, thực, mỗi trị riêng bội $k$ có đủ $k$ véc tơ riêng độc lập tuyến tính.\n",
    "Như vậy, ta giả sử $\\mathbf{A}$ cấp $n$ có đủ $n$ trị riêng thực hoặc phức (đơn hoặc bội) được đánh số theo thứ tự có mô đun giảm dần. Khi đó, hệ véc tơ riêng tương ứng sẽ độc lập tuyến tính. "
   ]
  },
  {
   "cell_type": "markdown",
   "id": "portuguese-cable",
   "metadata": {},
   "source": [
    "Ta lấy tập các véc tơ riêng đó là một cơ sở của column space của $\\mathbf{A}$, và khi đó mọi $\\mathbf{y} \\in \\mathbb{R}^n$ đều được biểu diễn theo cơ sở này.  \n",
    "\n",
    "\\begin{equation}\n",
    "\\mathbf{y} = \\sum_{i=1}^{n}c_i\\mathbf{x}_i\n",
    "\\end{equation}"
   ]
  },
  {
   "cell_type": "markdown",
   "id": "greek-morris",
   "metadata": {},
   "source": [
    "Ta chọn véc tơ $\\mathbf{y}$ có $c_1 \\neq 0$. "
   ]
  },
  {
   "cell_type": "markdown",
   "id": "neural-ocean",
   "metadata": {},
   "source": [
    "Tuy nhiên, vấn đề ở đây là ta chưa biết được tập các véc tơ riêng $x_i$ của $\\mathbf{A}$, thì khi đó ta tính các $c_i$ kiểu gì được???"
   ]
  },
  {
   "cell_type": "markdown",
   "id": "thermal-numbers",
   "metadata": {},
   "source": [
    "## Vấn đề hiển thị thông tin: "
   ]
  },
  {
   "cell_type": "markdown",
   "id": "amateur-boutique",
   "metadata": {},
   "source": [
    "- Phải hiển thị được các vòng lặp "
   ]
  },
  {
   "cell_type": "code",
   "execution_count": null,
   "id": "wicked-block",
   "metadata": {},
   "outputs": [],
   "source": []
  },
  {
   "cell_type": "markdown",
   "id": "mobile-courtesy",
   "metadata": {},
   "source": [
    "## TH1: Trị riêng trội $\\lambda_1$ thực, đơn"
   ]
  },
  {
   "cell_type": "markdown",
   "id": "homeless-silence",
   "metadata": {},
   "source": [
    "\\begin{equation}\n",
    "\\lambda_1 = \\frac{(\\mathbf{A}^{m+1}\\mathbf{y})_j}{(\\mathbf{A}^m\\mathbf{y})_j} \\quad j = \\overline{1, n}  \\quad (2)\n",
    "\\end{equation}"
   ]
  },
  {
   "cell_type": "markdown",
   "id": "composed-relation",
   "metadata": {},
   "source": [
    "- Điều kiện dừng khi các tỉ số (2) xấp xỉ bằng nhau. "
   ]
  },
  {
   "cell_type": "markdown",
   "id": "judicial-philosophy",
   "metadata": {},
   "source": [
    "- Cách làm: Chọn véc tơ $y$ có $c_1 \\neq 0$.  "
   ]
  },
  {
   "cell_type": "markdown",
   "id": "familiar-detroit",
   "metadata": {},
   "source": [
    "## Chương trình: "
   ]
  },
  {
   "cell_type": "code",
   "execution_count": 63,
   "id": "driven-links",
   "metadata": {},
   "outputs": [],
   "source": [
    "import numpy as np\n",
    "import math"
   ]
  },
  {
   "cell_type": "markdown",
   "id": "israeli-tribute",
   "metadata": {},
   "source": [
    "### Hàm tính chuẩn cực đại (chuẩn hàng) của véc tơ"
   ]
  },
  {
   "cell_type": "markdown",
   "id": "absent-rings",
   "metadata": {},
   "source": [
    "- Note: Chuẩn này có thể được thực hiện đơn giản bởi hàm abs() và max() của numpy."
   ]
  },
  {
   "cell_type": "code",
   "execution_count": 2,
   "id": "developed-heath",
   "metadata": {},
   "outputs": [],
   "source": [
    "def maxVectorNorm(x): \n",
    "    n = len(x)\n",
    "    max = abs(x[0])\n",
    "    \n",
    "    for i in range(1, n): \n",
    "        if abs(x[i]) > max: \n",
    "            max = abs(x[i])\n",
    "            \n",
    "    return max"
   ]
  },
  {
   "cell_type": "markdown",
   "id": "moved-portuguese",
   "metadata": {},
   "source": [
    "### Hàm đánh giá sai số giữa các phần tử của lambda_vector: "
   ]
  },
  {
   "cell_type": "code",
   "execution_count": 3,
   "id": "backed-separation",
   "metadata": {},
   "outputs": [],
   "source": [
    "def error_estimate(lambdaVector, eps): \n",
    "    # tìm phần tử có trị tuyệt đối min trong lambda_vector: \n",
    "    minL = abs(lambdaVector.copy()).min()\n",
    "            \n",
    "    # tính hiệu của các phần tử còn lại với phần tử min vừa tìm được ở trên: \n",
    "    diffVector = abs(lambdaVector.copy()) - minL\n",
    "        \n",
    "    # Tính sai số bằng chuẩn cực đại của véc tơ. (chuẩn hàng của véc tơ)\n",
    "    maxL = maxVectorNorm(diffVector)\n",
    "            \n",
    "    return maxL"
   ]
  },
  {
   "cell_type": "code",
   "execution_count": 43,
   "id": "physical-wildlife",
   "metadata": {},
   "outputs": [],
   "source": [
    "def TH1(A, y, eps): \n",
    "    # hai giá trị lặp đầu tiên. \n",
    "    Ay_0 = np.matmul(A, y)\n",
    "    Ay = np.matmul(A, Ay_0)\n",
    "    \n",
    "    lambdaVector = Ay / Ay_0  # chia các phần tử tương ứng của hai véc tơ cho nhau. \n",
    "    iter =  1 \n",
    "    \n",
    "    # đánh giá độ gần nhau của các phần tử của véc tơ lambda: \n",
    "    # chọn phần tử có trị tuyệt đối nhỏ nhất trong véc tơ lambda. Lấy trị tuyệt đối của hiệu của các phần tử còn lại với phần \n",
    "    # tử min vừa tìm được. \n",
    "    # xét hiệu max. nếu hiệu max < epsilon thì dừng, không thì tiếp tục vòng lặp. \n",
    "    \n",
    "    while error_estimate(lambdaVector, eps) >= eps: \n",
    "        # cập nhật lại số vòng lặp \n",
    "        iter += 1\n",
    "        \n",
    "        # cập nhật lại Ay và Ay_0\n",
    "        Ay_0 = Ay.copy()\n",
    "        Ay = np.matmul(A, Ay)\n",
    "        \n",
    "        lambdaVector = Ay / Ay_0  # update lại lambda_vector \n",
    "        \n",
    "        print('iter = %d, lambdaVector =' % (iter), end=' ')\n",
    "        print(lambdaVector)\n",
    "        \n",
    "    return lambdaVector.max(), Ay / Ay[-1], iter "
   ]
  },
  {
   "cell_type": "markdown",
   "id": "homeless-badge",
   "metadata": {},
   "source": [
    "### Ví dụ 1: SGK trang 107"
   ]
  },
  {
   "cell_type": "code",
   "execution_count": 147,
   "id": "hundred-prerequisite",
   "metadata": {},
   "outputs": [],
   "source": [
    "A = np.array([[2, 3, 2], \n",
    "              [4, 3, 5], \n",
    "              [3, 2, 9]])"
   ]
  },
  {
   "cell_type": "code",
   "execution_count": 148,
   "id": "progressive-roberts",
   "metadata": {},
   "outputs": [],
   "source": [
    "y = np.array([1, 1, 1]); eps = 1e-3"
   ]
  },
  {
   "cell_type": "code",
   "execution_count": 46,
   "id": "referenced-virtue",
   "metadata": {},
   "outputs": [
    {
     "name": "stdout",
     "output_type": "stream",
     "text": [
      "iter = 2, lambdaVector = [11.53846154 11.70895522 11.93567251]\n",
      "iter = 3, lambdaVector = [11.76555556 11.79859783 11.86036257]\n",
      "iter = 4, lambdaVector = [11.81679101 11.82622083 11.8417813 ]\n",
      "iter = 5, lambdaVector = [11.83064542 11.83299913 11.8370021 ]\n",
      "iter = 6, lambdaVector = [11.8341515  11.83475909 11.83578231]\n",
      "iter = 7, lambdaVector = [11.83505277 11.83520796 11.83546996]\n"
     ]
    },
    {
     "data": {
      "text/plain": [
       "(11.8354699595324, array([0.43620241, 0.76339141, 1.        ]), 7)"
      ]
     },
     "execution_count": 46,
     "metadata": {},
     "output_type": "execute_result"
    }
   ],
   "source": [
    "TH1(A.copy(), y.copy(), eps)"
   ]
  },
  {
   "cell_type": "markdown",
   "id": "bacterial-grounds",
   "metadata": {},
   "source": [
    "- Tìm véc tơ riêng đầu tiên tương ứng với giá trị riêng trội   "
   ]
  },
  {
   "cell_type": "code",
   "execution_count": 150,
   "id": "documented-sponsorship",
   "metadata": {},
   "outputs": [
    {
     "name": "stdout",
     "output_type": "stream",
     "text": [
      "iter = 2, difVector = [-0.01518004 -0.01488492  0.        ]\n",
      "iter = 3, difVector = [-0.00352486 -0.00400334  0.        ]\n",
      "iter = 4, difVector = [-0.00092314 -0.00100489  0.        ]\n",
      "iter = 5, difVector = [-0.00023441 -0.00025827  0.        ]\n",
      "iter = 6, difVector = [-6.01130621e-05 -6.60034544e-05  0.00000000e+00]\n",
      "iter = 7, difVector = [-1.53762856e-05 -1.68996254e-05  0.00000000e+00]\n",
      "iter = 8, difVector = [-3.93621286e-06 -4.32495997e-06  0.00000000e+00]\n"
     ]
    },
    {
     "data": {
      "text/plain": [
       "(11.835369572866306, 8)"
      ]
     },
     "execution_count": 150,
     "metadata": {},
     "output_type": "execute_result"
    }
   ],
   "source": [
    "modifiedTH1(A.copy(), y.copy(), 1e-5)"
   ]
  },
  {
   "cell_type": "code",
   "execution_count": 17,
   "id": "blessed-graduate",
   "metadata": {},
   "outputs": [
    {
     "data": {
      "text/plain": [
       "(array([11.83536254, -0.86464891,  3.02928637]),\n",
       " array([[-0.32758598, -0.75107583, -0.64630452],\n",
       "        [-0.57330598,  0.65320185, -0.56423663],\n",
       "        [-0.75100445,  0.0959815 ,  0.51373873]]))"
      ]
     },
     "execution_count": 17,
     "metadata": {},
     "output_type": "execute_result"
    }
   ],
   "source": [
    "np.linalg.eig(A)"
   ]
  },
  {
   "cell_type": "code",
   "execution_count": 151,
   "id": "multiple-treasure",
   "metadata": {},
   "outputs": [],
   "source": [
    "A1 = np.array([[5, 3, 2], \n",
    "               [3, 4, 9], \n",
    "               [6, 7, 8]], dtype='float')\n",
    "y1 = np.array([1, 1, 1], dtype='float'); eps = 1e-3"
   ]
  },
  {
   "cell_type": "code",
   "execution_count": 119,
   "id": "outdoor-flour",
   "metadata": {},
   "outputs": [
    {
     "data": {
      "text/plain": [
       "(array([16.23805894,  2.50643103, -1.74448997]),\n",
       " array([[-0.29403024, -0.81187861,  0.2417287 ],\n",
       "        [-0.61199534,  0.55591067, -0.85246869],\n",
       "        [-0.73417159,  0.17837166,  0.46353464]]))"
      ]
     },
     "execution_count": 119,
     "metadata": {},
     "output_type": "execute_result"
    }
   ],
   "source": [
    "np.linalg.eig(A1.copy())"
   ]
  },
  {
   "cell_type": "code",
   "execution_count": 11,
   "id": "impressive-conditioning",
   "metadata": {},
   "outputs": [
    {
     "name": "stdout",
     "output_type": "stream",
     "text": [
      "iter = 1, lambdaVector =  [14.         17.6875     16.19047619]\n",
      "iter = 2, lambdaVector =  [15.92142857 16.29681979 16.29705882]\n",
      "iter = 3, lambdaVector =  [16.17900404 16.26279271 16.24002888]\n",
      "iter = 4, lambdaVector =  [16.22990322 16.24018719 16.23912609]\n",
      "iter = 5, lambdaVector =  [16.2366927  16.23856827 16.23814167]\n",
      "iter = 6, lambdaVector =  [16.23785951 16.23811813 16.23808052]\n"
     ]
    },
    {
     "data": {
      "text/plain": [
       "(16.238118128142368, array([0.40049354, 0.83358573, 1.        ]), 6)"
      ]
     },
     "execution_count": 11,
     "metadata": {},
     "output_type": "execute_result"
    }
   ],
   "source": [
    "TH1(A1.copy(), y1.copy(), eps)"
   ]
  },
  {
   "cell_type": "code",
   "execution_count": 152,
   "id": "selected-induction",
   "metadata": {},
   "outputs": [
    {
     "name": "stdout",
     "output_type": "stream",
     "text": [
      "iter = 2, difVector = [-9.49074811e-03 -1.22084567e-05  0.00000000e+00]\n",
      "iter = 3, difVector = [-0.00151162  0.0011667   0.        ]\n",
      "iter = 4, difVector = [-2.27609262e-04  5.44633897e-05  0.00000000e+00]\n",
      "iter = 5, difVector = [-3.57408514e-05  2.18986868e-05  0.00000000e+00]\n",
      "iter = 6, difVector = [-5.45113449e-06  1.93061164e-06  0.00000000e+00]\n",
      "iter = 7, difVector = [-8.48460589e-07  4.53727711e-07  0.00000000e+00]\n",
      "iter = 8, difVector = [-1.30206978e-07  5.33050866e-08  0.00000000e+00]\n",
      "iter = 9, difVector = [-2.01795122e-08  1.00252853e-08  0.00000000e+00]\n"
     ]
    },
    {
     "data": {
      "text/plain": [
       "(16.238058980314275, 9)"
      ]
     },
     "execution_count": 152,
     "metadata": {},
     "output_type": "execute_result"
    }
   ],
   "source": [
    "modifiedTH1(A1.copy(), y1.copy(), 1e-7)"
   ]
  },
  {
   "cell_type": "code",
   "execution_count": null,
   "id": "chinese-genome",
   "metadata": {},
   "outputs": [],
   "source": []
  },
  {
   "cell_type": "code",
   "execution_count": 144,
   "id": "major-sterling",
   "metadata": {},
   "outputs": [],
   "source": [
    "def modifiedTH1(A, y, eps): \n",
    "    # hai giá trị lặp đầu tiên. \n",
    "    Ay_0 = np.matmul(A, y)\n",
    "    Ay_0 = Ay_0 / Ay_0.max()\n",
    "    Ay = np.matmul(A, Ay_0)\n",
    "    Ay = Ay / Ay.max()\n",
    "    iter =  1 \n",
    "    \n",
    "    difVector = Ay - Ay_0 \n",
    "    \n",
    "    while abs(difVector).max() >= eps: \n",
    "        # cập nhật lại số vòng lặp \n",
    "        iter += 1\n",
    "        \n",
    "        # cập nhật lại Ay và Ay_0\n",
    "        Ay_0 = Ay.copy()\n",
    "        Ay = np.matmul(A, Ay_0)\n",
    "        Ay = Ay / Ay.max()\n",
    "        \n",
    "        difVector = Ay - Ay_0\n",
    "        \n",
    "        print('iter = %d, difVector =' % (iter), end=' ')\n",
    "        print(difVector)\n",
    "        \n",
    "    # Tính trị riêng trội.\n",
    "    Ay_0 = Ay.copy()\n",
    "    Ay = np.matmul(A, Ay_0)\n",
    "    lambdaVector = Ay / Ay_0\n",
    "        \n",
    "    return lambdaVector.max(), iter # lambdaVector.max(), Ay / Ay[-1], iter "
   ]
  },
  {
   "cell_type": "code",
   "execution_count": 153,
   "id": "closed-reminder",
   "metadata": {},
   "outputs": [],
   "source": [
    "A3 = np.array([[1, 0], \n",
    "               [0, 2]], dtype='float')\n",
    "y3 = np.array([1, 3], dtype='float'); eps = 1e-3"
   ]
  },
  {
   "cell_type": "code",
   "execution_count": 154,
   "id": "opened-sperm",
   "metadata": {},
   "outputs": [
    {
     "name": "stdout",
     "output_type": "stream",
     "text": [
      "iter = 2, difVector = [-0.04166667  0.        ]\n",
      "iter = 3, difVector = [-0.02083333  0.        ]\n",
      "iter = 4, difVector = [-0.01041667  0.        ]\n",
      "iter = 5, difVector = [-0.00520833  0.        ]\n",
      "iter = 6, difVector = [-0.00260417  0.        ]\n",
      "iter = 7, difVector = [-0.00130208  0.        ]\n",
      "iter = 8, difVector = [-0.00065104  0.        ]\n"
     ]
    },
    {
     "data": {
      "text/plain": [
       "(2.0, 8)"
      ]
     },
     "execution_count": 154,
     "metadata": {},
     "output_type": "execute_result"
    }
   ],
   "source": [
    "modifiedTH1(A3.copy(), y3.copy(), eps)  # TH này, các hệ số của lamdaVector không xấp xỉ bằng nhau, làm thế nào???"
   ]
  },
  {
   "cell_type": "markdown",
   "id": "employed-calcium",
   "metadata": {},
   "source": [
    "## TH2: "
   ]
  },
  {
   "cell_type": "code",
   "execution_count": null,
   "id": "express-nylon",
   "metadata": {},
   "outputs": [],
   "source": []
  },
  {
   "cell_type": "markdown",
   "id": "ordinary-friday",
   "metadata": {},
   "source": [
    "Ví dụ 1: Ma trận đối xứng, có trị riêng trội bội 2."
   ]
  },
  {
   "cell_type": "code",
   "execution_count": 155,
   "id": "nonprofit-minutes",
   "metadata": {},
   "outputs": [],
   "source": [
    "A = np.array([[3, -2, 4], \n",
    "              [-2, 6, 2], \n",
    "              [4, 2, 3]], dtype='float')\n",
    "y = np.array([1, 1, 1], dtype='float'); eps = 1e-3"
   ]
  },
  {
   "cell_type": "code",
   "execution_count": 55,
   "id": "bridal-strip",
   "metadata": {},
   "outputs": [
    {
     "data": {
      "text/plain": [
       "(array([ 7., -2.,  7.]),\n",
       " array([[ 0.74535599, -0.66666667, -0.14234692],\n",
       "        [-0.2981424 , -0.33333333,  0.93490334],\n",
       "        [ 0.59628479,  0.66666667,  0.32510475]]))"
      ]
     },
     "execution_count": 55,
     "metadata": {},
     "output_type": "execute_result"
    }
   ],
   "source": [
    "np.linalg.eig(A)"
   ]
  },
  {
   "cell_type": "code",
   "execution_count": 156,
   "id": "proper-victory",
   "metadata": {},
   "outputs": [
    {
     "name": "stdout",
     "output_type": "stream",
     "text": [
      "iter = 2, difVector = [-0.03156327 -0.02367245  0.        ]\n",
      "iter = 3, difVector = [0.008895   0.00667125 0.        ]\n",
      "iter = 4, difVector = [-0.00255132 -0.00191349  0.        ]\n",
      "iter = 5, difVector = [0.00072814 0.0005461  0.        ]\n",
      "iter = 6, difVector = [-0.00020811 -0.00015608  0.        ]\n",
      "iter = 7, difVector = [5.94533764e-05 4.45900323e-05 0.00000000e+00]\n",
      "iter = 8, difVector = [-1.69871198e-05 -1.27403399e-05  0.00000000e+00]\n",
      "iter = 9, difVector = [4.85342681e-06 3.64007011e-06 0.00000000e+00]\n"
     ]
    },
    {
     "data": {
      "text/plain": [
       "(7.000005931979789, 9)"
      ]
     },
     "execution_count": 156,
     "metadata": {},
     "output_type": "execute_result"
    }
   ],
   "source": [
    "modifiedTH1(A, y, 1e-5)  # véc tơ riêng không chính xác. "
   ]
  },
  {
   "cell_type": "markdown",
   "id": "classified-concept",
   "metadata": {},
   "source": [
    "Ví dụ 2: Trị riêng trội bội 2, là 5."
   ]
  },
  {
   "cell_type": "code",
   "execution_count": 157,
   "id": "pleased-commercial",
   "metadata": {},
   "outputs": [],
   "source": [
    "A = np.array([[5, -2, 6, -1], \n",
    "              [0, 3, -8, 0], \n",
    "              [0, 0, 5, 4], \n",
    "              [0, 0, 0, 1]], dtype='float')\n",
    "y = np.array([1, 1, 1, 1], dtype='float')"
   ]
  },
  {
   "cell_type": "code",
   "execution_count": 158,
   "id": "composite-canon",
   "metadata": {},
   "outputs": [
    {
     "name": "stdout",
     "output_type": "stream",
     "text": [
      "iter = 2, difVector = [ 0.          0.17969074 -0.222164   -0.00869041]\n",
      "iter = 3, difVector = [ 0.          0.15245161 -0.09154573 -0.00088861]\n",
      "iter = 4, difVector = [ 0.          0.10753081 -0.04616747 -0.00011118]\n",
      "iter = 5, difVector = [ 0.00000000e+00  7.57405216e-02 -2.67927694e-02 -1.56891647e-05]\n",
      "iter = 6, difVector = [ 0.00000000e+00  5.47028136e-02 -1.71521787e-02 -2.38975150e-06]\n",
      "iter = 7, difVector = [ 0.00000000e+00  4.06378793e-02 -1.17888749e-02 -3.83251314e-07]\n",
      "iter = 8, difVector = [ 0.00000000e+00  3.09974255e-02 -8.54550303e-03 -6.37476774e-08]\n",
      "iter = 9, difVector = [ 0.00000000e+00  2.42112592e-02 -6.45402891e-03 -1.08923172e-08]\n",
      "iter = 10, difVector = [ 0.00000000e+00  1.93125836e-02 -5.03515235e-03 -1.89957659e-09]\n",
      "iter = 11, difVector = [ 0.00000000e+00  1.56940860e-02 -4.03230583e-03 -3.36613501e-10]\n",
      "iter = 12, difVector = [ 0.00000000e+00  1.29647942e-02 -3.29920819e-03 -6.04158928e-11]\n",
      "iter = 13, difVector = [ 0.00000000e+00  1.08668207e-02 -2.74800826e-03 -1.09569397e-11]\n",
      "iter = 14, difVector = [ 0.00000000e+00  9.22615572e-03 -2.32359677e-03 -2.00434091e-12]\n",
      "iter = 15, difVector = [ 0.00000000e+00  7.92290963e-03 -1.99009909e-03 -3.69319529e-13]\n",
      "iter = 16, difVector = [ 0.00000000e+00  6.87288147e-03 -1.72340509e-03 -6.84721999e-14]\n",
      "iter = 17, difVector = [ 0.00000000e+00  6.01587999e-03 -1.50685548e-03 -1.27624958e-14]\n",
      "iter = 18, difVector = [ 0.00000000e+00  5.30816604e-03 -1.32865568e-03 -2.38982251e-15]\n",
      "iter = 19, difVector = [ 0.00000000e+00  4.71746683e-03 -1.18027377e-03 -4.49322624e-16]\n",
      "iter = 20, difVector = [ 0.00000000e+00  4.21962806e-03 -1.05541875e-03 -8.47831778e-17]\n",
      "iter = 21, difVector = [ 0.00000000e+00  3.79632897e-03 -9.49371968e-04 -1.60490465e-17]\n",
      "iter = 22, difVector = [ 0.00000000e+00  3.43349898e-03 -8.58539292e-04 -3.04672132e-18]\n",
      "iter = 23, difVector = [ 0.00000000e+00  3.12020469e-03 -7.80144890e-04 -5.79878846e-19]\n",
      "iter = 24, difVector = [ 0.00000000e+00  2.84785709e-03 -7.12017786e-04 -1.10626007e-19]\n",
      "iter = 25, difVector = [ 0.00000000e+00  2.60963960e-03 -6.52440527e-04 -2.11495565e-20]\n",
      "iter = 26, difVector = [ 0.00000000e+00  2.40009043e-03 -6.00040173e-04 -4.05125661e-21]\n",
      "iter = 27, difVector = [ 0.00000000e+00  2.21479415e-03 -5.53708631e-04 -7.77415058e-22]\n",
      "iter = 28, difVector = [ 0.00000000e+00  2.05015141e-03 -5.12543663e-04 -1.49427109e-22]\n",
      "iter = 29, difVector = [ 0.00000000e+00  1.90320523e-03 -4.75804659e-04 -2.87650186e-23]\n",
      "iter = 30, difVector = [ 0.00000000e+00  1.77150868e-03 -4.42879105e-04 -5.54511182e-24]\n",
      "iter = 31, difVector = [ 0.00000000e+00  1.65302310e-03 -4.13256893e-04 -1.07034321e-24]\n",
      "iter = 32, difVector = [ 0.00000000e+00  1.54603917e-03 -3.86510442e-04 -2.06854067e-25]\n",
      "iter = 33, difVector = [ 0.00000000e+00  1.44911522e-03 -3.62279181e-04 -4.00219591e-26]\n",
      "iter = 34, difVector = [ 0.00000000e+00  1.36102846e-03 -3.40257332e-04 -7.75165214e-27]\n",
      "iter = 35, difVector = [ 0.00000000e+00  1.28073635e-03 -3.20184215e-04 -1.50287611e-27]\n",
      "iter = 36, difVector = [ 0.00000000e+00  1.20734567e-03 -3.01836490e-04 -2.91647980e-28]\n",
      "iter = 37, difVector = [ 0.00000000e+00  1.14008753e-03 -2.85021924e-04 -5.66471227e-29]\n",
      "iter = 38, difVector = [ 0.00000000e+00  1.07829722e-03 -2.69574330e-04 -1.10117934e-29]\n",
      "iter = 39, difVector = [ 0.00000000e+00  1.02139771e-03 -2.55349442e-04 -2.14229664e-30]\n",
      "iter = 40, difVector = [ 0.00000000e+00  9.68886121e-04 -2.42221539e-04 -4.17084598e-31]\n",
      "iter = 41, difVector = [ 0.00000000e+00  9.20322587e-04 -2.30080652e-04 -8.12596183e-32]\n",
      "iter = 42, difVector = [ 0.00000000e+00  8.75321010e-04 -2.18830255e-04 -1.58422135e-32]\n",
      "iter = 43, difVector = [ 0.00000000e+00  8.33541363e-04 -2.08385342e-04 -3.09052991e-33]\n",
      "iter = 44, difVector = [ 0.00000000e+00  7.94683246e-04 -1.98670812e-04 -6.03271267e-34]\n",
      "iter = 45, difVector = [ 0.00000000e+00  7.58480472e-04 -1.89620119e-04 -1.17826366e-34]\n",
      "iter = 46, difVector = [ 0.00000000e+00  7.24696495e-04 -1.81174124e-04 -2.30255967e-35]\n",
      "iter = 47, difVector = [ 0.00000000e+00  6.93120534e-04 -1.73280134e-04 -4.50201639e-36]\n",
      "iter = 48, difVector = [ 0.00000000e+00  6.63564281e-04 -1.65891070e-04 -8.80685685e-37]\n",
      "iter = 49, difVector = [ 0.00000000e+00  6.35859081e-04 -1.58964770e-04 -1.72362611e-37]\n",
      "iter = 50, difVector = [ 0.00000000e+00  6.09853524e-04 -1.52463381e-04 -3.37492885e-38]\n",
      "iter = 51, difVector = [ 0.00000000e+00  5.85411372e-04 -1.46352843e-04 -6.61115493e-39]\n",
      "iter = 52, difVector = [ 0.00000000e+00  5.62409768e-04 -1.40602442e-04 -1.29560743e-39]\n",
      "iter = 53, difVector = [ 0.00000000e+00  5.40737690e-04 -1.35184422e-04 -2.54006947e-40]\n",
      "iter = 54, difVector = [ 0.00000000e+00  5.20294611e-04 -1.30073653e-04 -4.98180763e-41]\n",
      "iter = 55, difVector = [ 0.00000000e+00  5.00989328e-04 -1.25247332e-04 -9.77442050e-42]\n",
      "iter = 56, difVector = [ 0.00000000e+00  4.82738944e-04 -1.20684736e-04 -1.91845525e-42]\n",
      "iter = 57, difVector = [ 0.00000000e+00  4.65467978e-04 -1.16366994e-04 -3.76671823e-43]\n",
      "iter = 58, difVector = [ 0.00000000e+00  4.49107578e-04 -1.12276894e-04 -7.39809555e-44]\n",
      "iter = 59, difVector = [ 0.00000000e+00  4.33594841e-04 -1.08398710e-04 -1.45350626e-44]\n",
      "iter = 60, difVector = [ 0.00000000e+00  4.18872203e-04 -1.04718051e-04 -2.85659808e-45]\n",
      "iter = 61, difVector = [ 0.00000000e+00  4.04886904e-04 -1.01221726e-04 -5.61580462e-46]\n",
      "iter = 62, difVector = [ 0.00000000e+00  3.91590515e-04 -9.78976288e-05 -1.10433551e-46]\n",
      "iter = 63, difVector = [ 0.00000000e+00  3.78938521e-04 -9.47346302e-05 -2.17226144e-47]\n",
      "iter = 64, difVector = [ 0.00000000e+00  3.66889943e-04 -9.17224858e-05 -4.27406542e-48]\n",
      "iter = 65, difVector = [ 0.00000000e+00  3.55407011e-04 -8.88517527e-05 -8.41171323e-49]\n",
      "iter = 66, difVector = [ 0.00000000e+00  3.44454862e-04 -8.61137155e-05 -1.65591621e-49]\n",
      "iter = 67, difVector = [ 0.00000000e+00  3.34001280e-04 -8.35003200e-05 -3.26061418e-50]\n",
      "iter = 68, difVector = [ 0.00000000e+00  3.24016456e-04 -8.10041140e-05 -6.42191183e-51]\n",
      "iter = 69, difVector = [ 0.00000000e+00  3.14472776e-04 -7.86181940e-05 -1.26511497e-51]\n",
      "iter = 70, difVector = [ 0.00000000e+00  3.05344630e-04 -7.63361575e-05 -2.49283413e-52]\n",
      "iter = 71, difVector = [ 0.0000000e+00  2.9660824e-04 -7.4152060e-05 -4.9130551e-53]\n",
      "iter = 72, difVector = [ 0.00000000e+00  2.88241505e-04 -7.20603762e-05 -9.68505315e-54]\n",
      "iter = 73, difVector = [ 0.00000000e+00  2.80223859e-04 -7.00559649e-05 -1.90959768e-54]\n",
      "iter = 74, difVector = [ 0.00000000e+00  2.72536150e-04 -6.81340376e-05 -3.76589952e-55]\n",
      "iter = 75, difVector = [ 0.00000000e+00  2.65160519e-04 -6.62901299e-05 -7.42814119e-56]\n",
      "iter = 76, difVector = [ 0.00000000e+00  2.58080301e-04 -6.45200751e-05 -1.46545953e-56]\n",
      "iter = 77, difVector = [ 0.00000000e+00  2.51279926e-04 -6.28199814e-05 -2.89166216e-57]\n",
      "iter = 78, difVector = [ 0.00000000e+00  2.44744839e-04 -6.11862097e-05 -5.70688585e-58]\n",
      "iter = 79, difVector = [ 0.00000000e+00  2.38461418e-04 -5.96153545e-05 -1.12648830e-58]\n",
      "iter = 80, difVector = [ 0.00000000e+00  2.32416906e-04 -5.81042264e-05 -2.22396570e-59]\n",
      "iter = 81, difVector = [ 0.00000000e+00  2.26599341e-04 -5.66498352e-05 -4.39138479e-60]\n",
      "iter = 82, difVector = [ 0.00000000e+00  2.20997503e-04 -5.52493758e-05 -8.67251565e-61]\n",
      "iter = 83, difVector = [ 0.00000000e+00  2.15600856e-04 -5.39002141e-05 -1.71299908e-61]\n",
      "iter = 84, difVector = [ 0.00000000e+00  2.10399500e-04 -5.25998750e-05 -3.38404337e-62]\n",
      "iter = 85, difVector = [ 0.00000000e+00  2.05384124e-04 -5.13460310e-05 -6.68620731e-63]\n",
      "iter = 86, difVector = [ 0.00000000e+00  2.00545966e-04 -5.01364916e-05 -1.32125705e-63]\n",
      "iter = 87, difVector = [ 0.00000000e+00  1.95876774e-04 -4.89691936e-05 -2.61130049e-64]\n",
      "iter = 88, difVector = [ 0.00000000e+00  1.91368771e-04 -4.78421927e-05 -5.16163126e-65]\n",
      "iter = 89, difVector = [ 0.00000000e+00  1.87014621e-04 -4.67536553e-05 -1.02041372e-65]\n",
      "iter = 90, difVector = [ 0.00000000e+00  1.82807402e-04 -4.57018506e-05 -2.01754595e-66]\n",
      "iter = 91, difVector = [ 0.00000000e+00  1.78740578e-04 -4.46851444e-05 -3.98957925e-67]\n",
      "iter = 92, difVector = [ 0.00000000e+00  1.74807969e-04 -4.37019923e-05 -7.89016362e-68]\n",
      "iter = 93, difVector = [ 0.00000000e+00  1.71003735e-04 -4.27509336e-05 -1.56062639e-68]\n",
      "iter = 94, difVector = [ 0.00000000e+00  1.67322347e-04 -4.18305868e-05 -3.08719971e-69]\n",
      "iter = 95, difVector = [ 0.00000000e+00  1.63758574e-04 -4.09396434e-05 -6.10776328e-70]\n",
      "iter = 96, difVector = [ 0.00000000e+00  1.60307457e-04 -4.00768642e-05 -1.20851001e-70]\n",
      "iter = 97, difVector = [ 0.00000000e+00  1.56964298e-04 -3.92410745e-05 -2.39148585e-71]\n",
      "iter = 98, difVector = [ 0.00000000e+00  1.53724640e-04 -3.84311601e-05 -4.73297105e-72]\n",
      "iter = 99, difVector = [ 0.00000000e+00  1.50584256e-04 -3.76460639e-05 -9.36800993e-73]\n",
      "iter = 100, difVector = [ 0.00000000e+00  1.47539128e-04 -3.68847821e-05 -1.85441666e-73]\n",
      "iter = 101, difVector = [ 0.00000000e+00  1.44585445e-04 -3.61463612e-05 -3.67124049e-74]\n",
      "iter = 102, difVector = [ 0.00000000e+00  1.41719580e-04 -3.54298950e-05 -7.26880417e-75]\n",
      "iter = 103, difVector = [ 0.00000000e+00  1.38938086e-04 -3.47345216e-05 -1.43931824e-75]\n",
      "iter = 104, difVector = [ 0.00000000e+00  1.36237685e-04 -3.40594211e-05 -2.85031956e-76]\n",
      "iter = 105, difVector = [ 0.00000000e+00  1.33615253e-04 -3.34038131e-05 -5.64510861e-77]\n",
      "iter = 106, difVector = [ 0.00000000e+00  1.31067817e-04 -3.27669543e-05 -1.11812990e-77]\n",
      "iter = 107, difVector = [ 0.00000000e+00  1.28592546e-04 -3.21481365e-05 -2.21489242e-78]\n",
      "iter = 108, difVector = [ 0.00000000e+00  1.26186739e-04 -3.15466847e-05 -4.38785898e-79]\n",
      "iter = 109, difVector = [ 0.00000000e+00  1.23847820e-04 -3.09619551e-05 -8.69343858e-80]\n",
      "iter = 110, difVector = [ 0.00000000e+00  1.21573334e-04 -3.03933335e-05 -1.72253754e-80]\n",
      "iter = 111, difVector = [ 0.00000000e+00  1.19360934e-04 -2.98402336e-05 -3.41336924e-81]\n",
      "iter = 112, difVector = [ 0.00000000e+00  1.17208382e-04 -2.93020956e-05 -6.76448332e-82]\n",
      "iter = 113, difVector = [ 0.00000000e+00  1.15113538e-04 -2.87783846e-05 -1.34067067e-82]\n",
      "iter = 114, difVector = [ 0.00000000e+00  1.13074358e-04 -2.82685896e-05 -2.65732730e-83]\n",
      "iter = 115, difVector = [ 0.00000000e+00  1.11088887e-04 -2.77722218e-05 -5.26747917e-84]\n",
      "iter = 116, difVector = [ 0.00000000e+00  1.09155255e-04 -2.72888138e-05 -1.04422677e-84]\n",
      "iter = 117, difVector = [ 0.00000000e+00  1.07271673e-04 -2.68179183e-05 -2.07023877e-85]\n",
      "iter = 118, difVector = [ 0.00000000e+00  1.05436429e-04 -2.63591072e-05 -4.10467795e-86]\n",
      "iter = 119, difVector = [ 0.00000000e+00  1.03647882e-04 -2.59119705e-05 -8.13898421e-87]\n",
      "iter = 120, difVector = [ 0.00000000e+00  1.01904462e-04 -2.54761155e-05 -1.61396174e-87]\n",
      "iter = 121, difVector = [ 0.00000000e+00  1.00204663e-04 -2.50511657e-05 -3.20071966e-88]\n",
      "iter = 122, difVector = [ 0.00000000e+00  9.85470421e-05 -2.46367605e-05 -6.34794104e-89]\n",
      "iter = 123, difVector = [ 0.00000000e+00  9.69302152e-05 -2.42325538e-05 -1.25906591e-89]\n",
      "iter = 124, difVector = [ 0.00000000e+00  9.53528546e-05 -2.38382137e-05 -2.49743317e-90]\n",
      "iter = 125, difVector = [ 0.00000000e+00  9.38136863e-05 -2.34534216e-05 -4.95414405e-91]\n",
      "iter = 126, difVector = [ 0.00000000e+00  9.23114870e-05 -2.30778718e-05 -9.82816075e-92]\n",
      "iter = 127, difVector = [ 0.00000000e+00  9.08450823e-05 -2.27112706e-05 -1.94986379e-92]\n",
      "iter = 128, difVector = [ 0.00000000e+00  8.94133438e-05 -2.23533360e-05 -3.86869280e-93]\n",
      "iter = 129, difVector = [ 0.00000000e+00  8.80151875e-05 -2.20037969e-05 -7.67629615e-94]\n",
      "iter = 130, difVector = [ 0.00000000e+00  8.66495713e-05 -2.16623928e-05 -1.52323275e-94]\n",
      "iter = 131, difVector = [ 0.00000000e+00  8.53154931e-05 -2.13288733e-05 -3.02278646e-95]\n",
      "iter = 132, difVector = [ 0.00000000e+00  8.40119892e-05 -2.10029973e-05 -5.99894532e-96]\n",
      "iter = 133, difVector = [ 0.00000000e+00  8.27381324e-05 -2.06845331e-05 -1.19060629e-96]\n",
      "iter = 134, difVector = [ 0.00000000e+00  8.14930305e-05 -2.03732576e-05 -2.36312602e-97]\n",
      "iter = 135, difVector = [ 0.00000000e+00  8.02758245e-05 -2.00689561e-05 -4.69062428e-98]\n",
      "iter = 136, difVector = [ 0.00000000e+00  7.90856872e-05 -1.97714218e-05 -9.31105927e-99]\n",
      "iter = 137, difVector = [ 0.00000000e+00  7.79218219e-05 -1.94804555e-05 -1.84838249e-99]\n",
      "iter = 138, difVector = [ 0.00000000e+000  7.67834610e-005 -1.91958652e-005 -3.66951402e-100]\n",
      "iter = 139, difVector = [ 0.00000000e+000  7.56698646e-005 -1.89174662e-005 -7.28532377e-101]\n",
      "iter = 140, difVector = [ 0.00000000e+000  7.45803197e-005 -1.86450799e-005 -1.44647995e-101]\n",
      "iter = 141, difVector = [ 0.00000000e+000  7.35141386e-005 -1.83785347e-005 -2.87209564e-102]\n",
      "iter = 142, difVector = [ 0.00000000e+000  7.24706581e-005 -1.81176645e-005 -5.70306033e-103]\n",
      "iter = 143, difVector = [ 0.00000000e+000  7.14492381e-005 -1.78623095e-005 -1.13250285e-103]\n",
      "iter = 144, difVector = [ 0.00000000e+000  7.04492613e-005 -1.76123153e-005 -2.24901623e-104]\n",
      "iter = 145, difVector = [ 0.00000000e+000  6.94701315e-005 -1.73675329e-005 -4.46650186e-105]\n",
      "iter = 146, difVector = [ 0.00000000e+000  6.85112733e-005 -1.71278183e-005 -8.87082045e-106]\n",
      "iter = 147, difVector = [ 0.00000000e+000  6.75721310e-005 -1.68930327e-005 -1.76189938e-106]\n",
      "iter = 148, difVector = [ 0.00000000e+000  6.66521676e-005 -1.66630419e-005 -3.49960616e-107]\n",
      "iter = 149, difVector = [ 0.00000000e+000  6.57508645e-005 -1.64377161e-005 -6.95148695e-108]\n",
      "iter = 150, difVector = [ 0.00000000e+000  6.48677204e-005 -1.62169301e-005 -1.38088160e-108]\n",
      "iter = 151, difVector = [ 0.00000000e+000  6.40022508e-005 -1.60005627e-005 -2.74318498e-109]\n",
      "iter = 152, difVector = [ 0.00000000e+000  6.31539872e-005 -1.57884968e-005 -5.44971007e-110]\n",
      "iter = 153, difVector = [ 0.00000000e+000  6.23224764e-005 -1.55806191e-005 -1.08270737e-110]\n",
      "iter = 154, difVector = [ 0.00000000e+000  6.15072802e-005 -1.53768200e-005 -2.15113626e-111]\n",
      "iter = 155, difVector = [ 0.00000000e+000  6.07079746e-005 -1.51769936e-005 -4.27408969e-112]\n",
      "iter = 156, difVector = [ 0.00000000e+000  5.99241492e-005 -1.49810373e-005 -8.49254738e-113]\n",
      "iter = 157, difVector = [ 0.00000000e+000  5.91554069e-005 -1.47888517e-005 -1.68752696e-113]\n",
      "iter = 158, difVector = [ 0.00000000e+000  5.84013631e-005 -1.46003408e-005 -3.35337112e-114]\n",
      "iter = 159, difVector = [ 0.00000000e+000  5.76616456e-005 -1.44154114e-005 -6.66393025e-115]\n",
      "iter = 160, difVector = [ 0.00000000e+000  5.69358935e-005 -1.42339734e-005 -1.32433227e-115]\n",
      "iter = 161, difVector = [ 0.00000000e+000  5.62237577e-005 -1.40559394e-005 -2.63197013e-116]\n",
      "iter = 162, difVector = [ 0.00000000e+000  5.55248996e-005 -1.38812249e-005 -5.23096967e-117]\n",
      "iter = 163, difVector = [ 0.00000000e+000  5.48389912e-005 -1.37097478e-005 -1.03968191e-117]\n",
      "iter = 164, difVector = [ 0.00000000e+000  5.41657145e-005 -1.35414286e-005 -2.06650089e-118]\n",
      "iter = 165, difVector = [ 0.00000000e+000  5.35047612e-005 -1.33761903e-005 -4.10759225e-119]\n",
      "iter = 166, difVector = [ 0.00000000e+000  5.28558323e-005 -1.32139581e-005 -8.16498649e-120]\n",
      "iter = 167, difVector = [ 0.00000000e+000  5.22186381e-005 -1.30546595e-005 -1.62307964e-120]\n",
      "iter = 168, difVector = [ 0.00000000e+000  5.15928972e-005 -1.28982243e-005 -3.22656344e-121]\n",
      "iter = 169, difVector = [ 0.00000000e+000  5.09783367e-005 -1.27445842e-005 -6.41440552e-122]\n",
      "iter = 170, difVector = [ 0.00000000e+000  5.03746920e-005 -1.25936730e-005 -1.27522921e-122]\n",
      "iter = 171, difVector = [ 0.00000000e+000  4.97817060e-005 -1.24454265e-005 -2.53533613e-123]\n",
      "iter = 172, difVector = [ 0.00000000e+000  4.91991292e-005 -1.22997823e-005 -5.04078419e-124]\n",
      "iter = 173, difVector = [ 0.00000000e+000  4.86267194e-005 -1.21566799e-005 -1.00224928e-124]\n",
      "iter = 174, difVector = [ 0.00000000e+000  4.80642415e-005 -1.20160604e-005 -1.99282110e-125]\n",
      "iter = 175, difVector = [ 0.00000000e+000  4.75114669e-005 -1.18778667e-005 -3.96255783e-126]\n",
      "iter = 176, difVector = [ 0.00000000e+000  4.69681738e-005 -1.17420435e-005 -7.87947861e-127]\n",
      "iter = 177, difVector = [ 0.00000000e+000  4.64341466e-005 -1.16085366e-005 -1.56687283e-127]\n",
      "iter = 178, difVector = [ 0.00000000e+000  4.59091757e-005 -1.14772939e-005 -3.11590535e-128]\n",
      "iter = 179, difVector = [ 0.00000000e+000  4.53930575e-005 -1.13482644e-005 -6.19653404e-129]\n",
      "iter = 180, difVector = [ 0.00000000e+000  4.48855940e-005 -1.12213985e-005 -1.23233090e-129]\n",
      "iter = 181, difVector = [ 0.00000000e+000  4.43865929e-005 -1.10966482e-005 -2.45086617e-130]\n",
      "iter = 182, difVector = [ 0.00000000e+000  4.38958671e-005 -1.09739668e-005 -4.87444823e-131]\n",
      "iter = 183, difVector = [ 0.00000000e+000  4.34132344e-005 -1.08533086e-005 -9.69493236e-132]\n",
      "iter = 184, difVector = [ 0.00000000e+000  4.29385181e-005 -1.07346295e-005 -1.92831248e-132]\n",
      "iter = 185, difVector = [ 0.00000000e+000  4.24715458e-005 -1.06178865e-005 -3.83551072e-133]\n",
      "iter = 186, difVector = [ 0.00000000e+000  4.20121501e-005 -1.05030375e-005 -7.62925282e-134]\n",
      "iter = 187, difVector = [ 0.00000000e+000  4.15601679e-005 -1.03900420e-005 -1.51758732e-134]\n",
      "iter = 188, difVector = [ 0.00000000e+000  4.11154405e-005 -1.02788601e-005 -3.01882618e-135]\n",
      "iter = 189, difVector = [ 0.00000000e+000  4.06778136e-005 -1.01694534e-005 -6.00530579e-136]\n",
      "iter = 190, difVector = [ 0.00000000e+000  4.02471367e-005 -1.00617842e-005 -1.19466079e-136]\n",
      "iter = 191, difVector = [ 0.00000000e+000  3.98232636e-005 -9.95581589e-006 -2.37665656e-137]\n",
      "iter = 192, difVector = [ 0.00000000e+000  3.94060515e-005 -9.85151287e-006 -4.72825018e-138]\n",
      "iter = 193, difVector = [ 0.00000000e+000  3.89953617e-005 -9.74884043e-006 -9.40690030e-139]\n",
      "iter = 194, difVector = [ 0.00000000e+000  3.85910590e-005 -9.64776474e-006 -1.87156357e-139]\n",
      "iter = 195, difVector = [ 0.00000000e+000  3.81930115e-005 -9.54825287e-006 -3.72369796e-140]\n",
      "iter = 196, difVector = [ 0.00000000e+000  3.78010909e-005 -9.45027272e-006 -7.40893889e-141]\n",
      "iter = 197, difVector = [ 0.00000000e+000  3.74151721e-005 -9.35379302e-006 -1.47417540e-141]\n",
      "iter = 198, difVector = [ 0.00000000e+000  3.70351332e-005 -9.25878329e-006 -2.93328166e-142]\n",
      "iter = 199, difVector = [ 0.00000000e+000  3.66608552e-005 -9.16521381e-006 -5.83673156e-143]\n",
      "iter = 200, difVector = [ 0.00000000e+000  3.62922225e-005 -9.07305563e-006 -1.16144033e-143]\n",
      "iter = 201, difVector = [ 0.00000000e+000  3.59291220e-005 -8.98228049e-006 -2.31118762e-144]\n",
      "iter = 202, difVector = [ 0.00000000e+000  3.55714435e-005 -8.89286087e-006 -4.59922341e-145]\n",
      "iter = 203, difVector = [ 0.00000000e+000  3.52190797e-005 -8.80476992e-006 -9.15260468e-146]\n",
      "iter = 204, difVector = [ 0.00000000e+000  3.48719257e-005 -8.71798143e-006 -1.82144344e-146]\n",
      "iter = 205, difVector = [ 0.00000000e+000  3.45298794e-005 -8.63246985e-006 -3.62491106e-147]\n",
      "iter = 206, difVector = [ 0.00000000e+000  3.41928411e-005 -8.54821026e-006 -7.21422355e-148]\n",
      "iter = 207, difVector = [ 0.00000000e+000  3.38607134e-005 -8.46517834e-006 -1.43579457e-148]\n",
      "iter = 208, difVector = [ 0.00000000e+000  3.35334014e-005 -8.38335036e-006 -2.85762599e-149]\n",
      "iter = 209, difVector = [ 0.00000000e+000  3.32108126e-005 -8.30270314e-006 -5.68759595e-150]\n",
      "iter = 210, difVector = [ 0.00000000e+000  3.28928563e-005 -8.22321408e-006 -1.13204126e-150]\n",
      "iter = 211, difVector = [ 0.00000000e+000  3.25794444e-005 -8.14486111e-006 -2.25323166e-151]\n",
      "iter = 212, difVector = [ 0.00000000e+000  3.22704907e-005 -8.06762268e-006 -4.48496862e-152]\n",
      "iter = 213, difVector = [ 0.00000000e+000  3.19659110e-005 -7.99147776e-006 -8.92735602e-153]\n",
      "iter = 214, difVector = [ 0.00000000e+000  3.16656232e-005 -7.91640579e-006 -1.77703543e-153]\n",
      "iter = 215, difVector = [ 0.00000000e+000  3.13695469e-005 -7.84238672e-006 -3.53735799e-154]\n",
      "iter = 216, difVector = [ 0.00000000e+000  3.10776038e-005 -7.76940095e-006 -7.04160312e-155]\n",
      "iter = 217, difVector = [ 0.00000000e+000  3.07897173e-005 -7.69742932e-006 -1.40175976e-155]\n",
      "iter = 218, difVector = [ 0.00000000e+000  3.05058126e-005 -7.62645315e-006 -2.79051948e-156]\n",
      "iter = 219, difVector = [ 0.00000000e+000  3.02258166e-005 -7.55645416e-006 -5.55527888e-157]\n",
      "iter = 220, difVector = [ 0.00000000e+000  2.99496579e-005 -7.48741448e-006 -1.10595110e-157]\n",
      "iter = 221, difVector = [ 0.00000000e+000  2.96772667e-005 -7.41931667e-006 -2.20178624e-158]\n",
      "iter = 222, difVector = [ 0.00000000e+000  2.94085747e-005 -7.35214368e-006 -4.38352477e-159]\n",
      "iter = 223, difVector = [ 0.00000000e+000  2.91435154e-005 -7.28587884e-006 -8.72731754e-160]\n",
      "iter = 224, difVector = [ 0.00000000e+000  2.88820234e-005 -7.22050584e-006 -1.73758881e-160]\n",
      "iter = 225, difVector = [ 0.00000000e+000  2.86240350e-005 -7.15600876e-006 -3.45956968e-161]\n",
      "iter = 226, difVector = [ 0.00000000e+000  2.83694881e-005 -7.09237202e-006 -6.88820264e-162]\n",
      "iter = 227, difVector = [ 0.00000000e+000  2.81183215e-005 -7.02958038e-006 -1.37150827e-162]\n",
      "iter = 228, difVector = [ 0.00000000e+000  2.78704758e-005 -6.96761894e-006 -2.73086071e-163]\n",
      "iter = 229, difVector = [ 0.00000000e+000  2.76258925e-005 -6.90647313e-006 -5.43762430e-164]\n",
      "iter = 230, difVector = [ 0.00000000e+000  2.73845148e-005 -6.84612871e-006 -1.08274777e-164]\n",
      "iter = 231, difVector = [ 0.00000000e+000  2.71462869e-005 -6.78657173e-006 -2.15602495e-165]\n",
      "iter = 232, difVector = [ 0.00000000e+000  2.69111541e-005 -6.72778854e-006 -4.29327365e-166]\n",
      "iter = 233, difVector = [ 0.00000000e+000  2.66790632e-005 -6.66976580e-006 -8.54932041e-167]\n",
      "iter = 234, difVector = [ 0.00000000e+000  2.64499618e-005 -6.61249044e-006 -1.70248299e-167]\n",
      "iter = 235, difVector = [ 0.00000000e+000  2.62237988e-005 -6.55594970e-006 -3.39033068e-168]\n",
      "iter = 236, difVector = [ 0.00000000e+000  2.60005242e-005 -6.50013106e-006 -6.75164131e-169]\n",
      "iter = 237, difVector = [ 0.00000000e+000  2.57800891e-005 -6.44502226e-006 -1.34457372e-169]\n",
      "iter = 238, difVector = [ 0.00000000e+000  2.55624454e-005 -6.39061134e-006 -2.67773604e-170]\n",
      "iter = 239, difVector = [ 0.00000000e+000  2.53475462e-005 -6.33688656e-006 -5.33284216e-171]\n",
      "iter = 240, difVector = [ 0.00000000e+000  2.51353457e-005 -6.28383642e-006 -1.06208054e-171]\n",
      "iter = 241, difVector = [ 0.00000000e+000  2.49257987e-005 -6.23144968e-006 -2.11526050e-172]\n",
      "iter = 242, difVector = [ 0.00000000e+000  2.47188613e-005 -6.17971532e-006 -4.21286840e-173]\n",
      "iter = 243, difVector = [ 0.00000000e+000  2.45144902e-005 -6.12862255e-006 -8.39072502e-174]\n",
      "iter = 244, difVector = [ 0.00000000e+000  2.43126433e-005 -6.07816082e-006 -1.67120060e-174]\n",
      "iter = 245, difVector = [ 0.00000000e+000  2.41132791e-005 -6.02831977e-006 -3.32862687e-175]\n",
      "iter = 246, difVector = [ 0.00000000e+000  2.39163570e-005 -5.97908926e-006 -6.62993121e-176]\n",
      "iter = 247, difVector = [ 0.00000000e+000  2.37218374e-005 -5.93045936e-006 -1.32056641e-176]\n",
      "iter = 248, difVector = [ 0.00000000e+000  2.35296814e-005 -5.88242035e-006 -2.63038139e-177]\n",
      "iter = 249, difVector = [ 0.00000000e+000  2.33398507e-005 -5.83496268e-006 -5.23943430e-178]\n",
      "iter = 250, difVector = [ 0.00000000e+000  2.31523081e-005 -5.78807701e-006 -1.04365561e-178]\n",
      "iter = 251, difVector = [ 0.00000000e+000  2.29670168e-005 -5.74175420e-006 -2.07891679e-179]\n",
      "iter = 252, difVector = [ 0.00000000e+000  2.27839410e-005 -5.69598526e-006 -4.14117922e-180]\n",
      "iter = 253, difVector = [ 0.00000000e+000  2.26030456e-005 -5.65076140e-006 -8.24931548e-181]\n",
      "iter = 254, difVector = [ 0.00000000e+000  2.24242960e-005 -5.60607401e-006 -1.64330702e-181]\n",
      "iter = 255, difVector = [ 0.00000000e+000  2.22476585e-005 -5.56191462e-006 -3.27360570e-182]\n",
      "iter = 256, difVector = [ 0.00000000e+000  2.20730998e-005 -5.51827495e-006 -6.52139985e-183]\n",
      "iter = 257, difVector = [ 0.00000000e+000  2.19005875e-005 -5.47514688e-006 -1.29915820e-183]\n",
      "iter = 258, difVector = [ 0.00000000e+000  2.17300898e-005 -5.43252244e-006 -2.58815300e-184]\n",
      "iter = 259, difVector = [ 0.00000000e+000  2.15615753e-005 -5.39039383e-006 -5.15613759e-185]\n",
      "iter = 260, difVector = [ 0.00000000e+000  2.13950135e-005 -5.34875338e-006 -1.02722515e-185]\n",
      "iter = 261, difVector = [ 0.00000000e+000  2.12303743e-005 -5.30759357e-006 -2.04650745e-186]\n",
      "iter = 262, difVector = [ 0.00000000e+000  2.10676282e-005 -5.26690705e-006 -4.07725157e-187]\n",
      "iter = 263, difVector = [ 0.00000000e+000  2.09067463e-005 -5.22668657e-006 -8.12321838e-188]\n",
      "iter = 264, difVector = [ 0.00000000e+000  2.07477002e-005 -5.18692506e-006 -1.61843455e-188]\n",
      "iter = 265, difVector = [ 0.00000000e+000  2.05904622e-005 -5.14761555e-006 -3.22454541e-189]\n",
      "iter = 266, difVector = [ 0.00000000e+000  2.04350049e-005 -5.10875121e-006 -6.42463040e-190]\n",
      "iter = 267, difVector = [ 0.00000000e+000  2.02813014e-005 -5.07032536e-006 -1.28007096e-190]\n",
      "iter = 268, difVector = [ 0.00000000e+000  2.01293257e-005 -5.03233142e-006 -2.55050480e-191]\n",
      "iter = 269, difVector = [ 0.00000000e+000  1.99790518e-005 -4.99476294e-006 -5.08187992e-192]\n",
      "iter = 270, difVector = [ 0.00000000e+000  1.98304544e-005 -4.95761359e-006 -1.01257864e-192]\n",
      "iter = 271, difVector = [ 0.00000000e+000  1.96835087e-005 -4.92087717e-006 -2.01761911e-193]\n",
      "iter = 272, difVector = [ 0.00000000e+000  1.95381903e-005 -4.88454756e-006 -4.02027373e-194]\n",
      "iter = 273, difVector = [ 0.00000000e+000  1.93944752e-005 -4.84861880e-006 -8.01083962e-195]\n",
      "iter = 274, difVector = [ 0.0000000e+000  1.9252340e-005 -4.8130850e-006 -1.5962701e-195]\n",
      "iter = 275, difVector = [ 0.00000000e+000  1.91117616e-005 -4.77794039e-006 -3.18083107e-196]\n",
      "iter = 276, difVector = [ 0.00000000e+000  1.89727173e-005 -4.74317932e-006 -6.33841505e-197]\n",
      "iter = 277, difVector = [ 0.00000000e+000  1.88351849e-005 -4.70879622e-006 -1.26306745e-197]\n",
      "iter = 278, difVector = [ 0.00000000e+000  1.86991425e-005 -4.67478563e-006 -2.51697075e-198]\n",
      "iter = 279, difVector = [ 0.00000000e+000  1.85645688e-005 -4.64114220e-006 -5.01574569e-199]\n",
      "iter = 280, difVector = [ 0.00000000e+000  1.84314426e-005 -4.60786065e-006 -9.99536192e-200]\n",
      "iter = 281, difVector = [ 0.00000000e+000  1.82997432e-005 -4.57493581e-006 -1.99189835e-200]\n",
      "iter = 282, difVector = [ 0.00000000e+000  1.81694504e-005 -4.54236260e-006 -3.96955126e-201]\n",
      "iter = 283, difVector = [ 0.00000000e+000  1.80405442e-005 -4.51013604e-006 -7.91081465e-202]\n",
      "iter = 284, difVector = [ 0.00000000e+000  1.79130049e-005 -4.47825122e-006 -1.57654553e-202]\n",
      "iter = 285, difVector = [ 0.00000000e+000  1.77868133e-005 -4.44670333e-006 -3.14193576e-203]\n",
      "iter = 286, difVector = [ 0.00000000e+000  1.76619505e-005 -4.41548764e-006 -6.26171822e-204]\n",
      "iter = 287, difVector = [ 0.00000000e+000  1.75383980e-005 -4.38459949e-006 -1.24794411e-204]\n",
      "iter = 288, difVector = [ 0.00000000e+000  1.74161373e-005 -4.35403433e-006 -2.48715077e-205]\n",
      "iter = 289, difVector = [ 0.00000000e+000  1.72951507e-005 -4.32378767e-006 -4.95694856e-206]\n",
      "iter = 290, difVector = [ 0.00000000e+000  1.71754204e-005 -4.29385509e-006 -9.87943246e-207]\n",
      "iter = 291, difVector = [ 0.00000000e+000  1.70569291e-005 -4.26423227e-006 -1.96904132e-207]\n",
      "iter = 292, difVector = [ 0.00000000e+000  1.69396597e-005 -4.23491493e-006 -3.92448681e-208]\n",
      "iter = 293, difVector = [ 0.00000000e+000  1.68235956e-005 -4.20589891e-006 -7.82196910e-209]\n",
      "iter = 294, difVector = [ 0.00000000e+000  1.67087203e-005 -4.17718007e-006 -1.55902995e-209]\n",
      "iter = 295, difVector = [ 0.00000000e+000  1.65950175e-005 -4.14875438e-006 -3.10740547e-210]\n",
      "iter = 296, difVector = [ 0.00000000e+000  1.64824715e-005 -4.12061787e-006 -6.19364721e-211]\n",
      "iter = 297, difVector = [ 0.00000000e+000  1.63710665e-005 -4.09276662e-006 -1.23452543e-211]\n",
      "iter = 298, difVector = [ 0.00000000e+000  1.62607871e-005 -4.06519678e-006 -2.46069970e-212]\n",
      "iter = 299, difVector = [ 0.00000000e+000  1.61516183e-005 -4.03790459e-006 -4.90480970e-213]\n",
      "iter = 300, difVector = [ 0.00000000e+000  1.60435453e-005 -4.01088632e-006 -9.77666294e-214]\n",
      "iter = 301, difVector = [ 0.00000000e+000  1.59365533e-005 -3.98413832e-006 -1.94878543e-214]\n",
      "iter = 302, difVector = [ 0.00000000e+000  1.58306280e-005 -3.95765700e-006 -3.88456396e-215]\n",
      "iter = 303, difVector = [ 0.00000000e+000  1.57257553e-005 -3.93143882e-006 -7.74328714e-216]\n",
      "iter = 304, difVector = [ 0.00000000e+000  1.56219213e-005 -3.90548032e-006 -1.54352354e-216]\n",
      "iter = 305, difVector = [ 0.00000000e+000  1.55191122e-005 -3.87977806e-006 -3.07684715e-217]\n",
      "iter = 306, difVector = [ 0.00000000e+000  1.54173148e-005 -3.85432870e-006 -6.13342881e-218]\n",
      "iter = 307, difVector = [ 0.00000000e+000  1.53165157e-005 -3.82912892e-006 -1.22265927e-218]\n",
      "iter = 308, difVector = [ 0.00000000e+000  1.52167019e-005 -3.80417547e-006 -2.43731826e-219]\n",
      "iter = 309, difVector = [ 0.00000000e+000  1.51178606e-005 -3.77946515e-006 -4.85874029e-220]\n",
      "iter = 310, difVector = [ 0.00000000e+000  1.50199793e-005 -3.75499482e-006 -9.68589482e-221]\n",
      "iter = 311, difVector = [ 0.00000000e+000  1.49230455e-005 -3.73076137e-006 -1.93090274e-221]\n",
      "iter = 312, difVector = [ 0.00000000e+000  1.48270470e-005 -3.70676175e-006 -3.84933412e-222]\n",
      "iter = 313, difVector = [ 0.00000000e+000  1.47319719e-005 -3.68299298e-006 -7.67388610e-223]\n",
      "iter = 314, difVector = [ 0.00000000e+000  1.46378084e-005 -3.65945209e-006 -1.52985260e-223]\n",
      "iter = 315, difVector = [ 0.00000000e+000  1.45445447e-005 -3.63613619e-006 -3.04991895e-224]\n",
      "iter = 316, difVector = [ 0.00000000e+000  1.44521696e-005 -3.61304241e-006 -6.08039023e-225]\n",
      "iter = 317, difVector = [ 0.00000000e+000  1.43606718e-005 -3.59016794e-006 -1.21221323e-225]\n",
      "iter = 318, difVector = [ 0.00000000e+000  1.42700401e-005 -3.56751002e-006 -2.41674581e-226]\n",
      "iter = 319, difVector = [ 0.00000000e+000  1.41802637e-005 -3.54506592e-006 -4.81822735e-227]\n",
      "iter = 320, difVector = [ 0.00000000e+000  1.40913318e-005 -3.52283295e-006 -9.60611834e-228]\n",
      "iter = 321, difVector = [ 0.00000000e+000  1.40032339e-005 -3.50080849e-006 -1.91519448e-228]\n",
      "iter = 322, difVector = [ 0.00000000e+000  1.39159597e-005 -3.47898992e-006 -3.81840603e-229]\n",
      "iter = 323, difVector = [ 0.00000000e+000  1.38294988e-005 -3.45737469e-006 -7.61299567e-230]\n",
      "iter = 324, difVector = [ 0.00000000e+000  1.37438412e-005 -3.43596029e-006 -1.51786547e-230]\n",
      "iter = 325, difVector = [ 0.00000000e+000  1.36589769e-005 -3.41474423e-006 -3.02632231e-231]\n",
      "iter = 326, difVector = [ 0.00000000e+000  1.35748963e-005 -3.39372406e-006 -6.03394364e-232]\n",
      "iter = 327, difVector = [ 0.00000000e+000  1.34915896e-005 -3.37289740e-006 -1.20307157e-232]\n",
      "iter = 328, difVector = [ 0.00000000e+000  1.34090474e-005 -3.35226186e-006 -2.39875449e-233]\n",
      "iter = 329, difVector = [ 0.00000000e+000  1.33272605e-005 -3.33181511e-006 -4.78282214e-234]\n",
      "iter = 330, difVector = [ 0.00000000e+000  1.32462195e-005 -3.31155487e-006 -9.53644990e-235]\n",
      "iter = 331, difVector = [ 0.00000000e+000  1.31659155e-005 -3.29147887e-006 -1.90148664e-235]\n",
      "iter = 332, difVector = [ 0.00000000e+000  1.30863395e-005 -3.27158487e-006 -3.79143701e-236]\n",
      "iter = 333, difVector = [ 0.00000000e+000  1.30074828e-005 -3.25187070e-006 -7.55994103e-237]\n",
      "iter = 334, difVector = [ 0.00000000e+000  1.29293367e-005 -3.23233418e-006 -1.50742927e-237]\n",
      "iter = 335, difVector = [ 0.00000000e+000  1.28518928e-005 -3.21297319e-006 -3.00579548e-238]\n",
      "iter = 336, difVector = [ 0.00000000e+000  1.27751426e-005 -3.19378564e-006 -5.99357350e-239]\n",
      "iter = 337, difVector = [ 0.00000000e+000  1.26990778e-005 -3.17476945e-006 -1.19513274e-239]\n",
      "iter = 338, difVector = [ 0.00000000e+000  1.26236904e-005 -3.15592260e-006 -2.38314426e-240]\n",
      "iter = 339, difVector = [ 0.00000000e+000  1.25489723e-005 -3.13724307e-006 -4.75213069e-241]\n",
      "iter = 340, difVector = [ 0.00000000e+000  1.24749156e-005 -3.11872890e-006 -9.47611341e-242]\n",
      "iter = 341, difVector = [ 0.00000000e+000  1.24015125e-005 -3.10037813e-006 -1.88962634e-242]\n",
      "iter = 342, difVector = [ 0.00000000e+000  1.23287554e-005 -3.08218886e-006 -3.76812589e-243]\n",
      "iter = 343, difVector = [ 0.00000000e+000  1.22566367e-005 -3.06415919e-006 -7.51412886e-244]\n",
      "iter = 344, difVector = [ 0.00000000e+000  1.21851490e-005 -3.04628725e-006 -1.49842709e-244]\n",
      "iter = 345, difVector = [ 0.00000000e+000  1.21142849e-005 -3.02857122e-006 -2.98810816e-245]\n",
      "iter = 346, difVector = [ 0.00000000e+000  1.20440371e-005 -3.01100929e-006 -5.95882609e-246]\n",
      "iter = 347, difVector = [ 0.00000000e+000  1.19743987e-005 -2.99359967e-006 -1.18830735e-246]\n",
      "iter = 348, difVector = [ 0.00000000e+000  1.19053624e-005 -2.97634060e-006 -2.36973900e-247]\n",
      "iter = 349, difVector = [ 0.00000000e+000  1.18369215e-005 -2.95923037e-006 -4.72580590e-248]\n",
      "iter = 350, difVector = [ 0.00000000e+000  1.17690690e-005 -2.94226726e-006 -9.42442494e-249]\n",
      "iter = 351, difVector = [ 0.00000000e+000  1.17017983e-005 -2.92544958e-006 -1.87947880e-249]\n",
      "iter = 352, difVector = [ 0.00000000e+000  1.16351027e-005 -2.90877569e-006 -3.74820709e-250]\n",
      "iter = 353, difVector = [ 0.00000000e+000  1.15689758e-005 -2.89224394e-006 -7.47503577e-251]\n",
      "iter = 354, difVector = [ 0.00000000e+000  1.15034109e-005 -2.87585273e-006 -1.49075579e-251]\n",
      "iter = 355, difVector = [ 0.00000000e+000  1.14384019e-005 -2.85960046e-006 -2.97305708e-252]\n",
      "iter = 356, difVector = [ 0.00000000e+000  1.13739423e-005 -2.84348558e-006 -5.92930076e-253]\n",
      "iter = 357, difVector = [ 0.00000000e+000  1.13100261e-005 -2.82750653e-006 -1.18251644e-253]\n",
      "iter = 358, difVector = [ 0.00000000e+000  1.12466472e-005 -2.81166180e-006 -2.35838305e-254]\n",
      "iter = 359, difVector = [ 0.00000000e+000  1.11837995e-005 -2.79594988e-006 -4.70354104e-255]\n",
      "iter = 360, difVector = [ 0.00000000e+000  1.11214772e-005 -2.78036930e-006 -9.38077987e-256]\n",
      "iter = 361, difVector = [ 0.00000000e+000  1.10596743e-005 -2.76491859e-006 -1.87092486e-256]\n",
      "iter = 362, difVector = [ 0.00000000e+000  1.09983852e-005 -2.74959631e-006 -3.73144569e-257]\n",
      "iter = 363, difVector = [ 0.00000000e+000  1.09376042e-005 -2.73440105e-006 -7.44219868e-258]\n",
      "iter = 364, difVector = [ 0.00000000e+000  1.08773256e-005 -2.71933140e-006 -1.48432408e-258]\n",
      "iter = 365, difVector = [ 0.00000000e+000  1.08175439e-005 -2.70438599e-006 -2.96046226e-259]\n",
      "iter = 366, difVector = [ 0.00000000e+000  1.07582538e-005 -2.68956344e-006 -5.90464275e-260]\n",
      "iter = 367, difVector = [ 0.00000000e+000  1.06994497e-005 -2.67486243e-006 -1.17769005e-260]\n",
      "iter = 368, difVector = [ 0.00000000e+000  1.06411265e-005 -2.66028162e-006 -2.34893855e-261]\n",
      "iter = 369, difVector = [ 0.00000000e+000  1.05832788e-005 -2.64581971e-006 -4.68506424e-262]\n",
      "iter = 370, difVector = [ 0.00000000e+000  1.05259016e-005 -2.63147541e-006 -9.34464217e-263]\n",
      "iter = 371, difVector = [ 0.00000000e+000  1.04689898e-005 -2.61724744e-006 -1.86385883e-263]\n",
      "iter = 372, difVector = [ 0.00000000e+000  1.04125382e-005 -2.60313455e-006 -3.71763330e-264]\n",
      "iter = 373, difVector = [ 0.00000000e+000  1.03565420e-005 -2.58913551e-006 -7.41520671e-265]\n",
      "iter = 374, difVector = [ 0.00000000e+000  1.03009963e-005 -2.57524909e-006 -1.47905095e-265]\n",
      "iter = 375, difVector = [ 0.00000000e+000  1.02458963e-005 -2.56147408e-006 -2.95016396e-266]\n",
      "iter = 376, difVector = [ 0.00000000e+000  1.01912372e-005 -2.54780931e-006 -5.88453702e-267]\n",
      "iter = 377, difVector = [ 0.00000000e+000  1.01370144e-005 -2.53425359e-006 -1.17376608e-267]\n",
      "iter = 378, difVector = [ 0.00000000e+000  1.00832231e-005 -2.52080577e-006 -2.34128297e-268]\n",
      "iter = 379, difVector = [ 0.00000000e+000  1.00298588e-005 -2.50746471e-006 -4.67013390e-269]\n",
      "iter = 380, difVector = [ 0.00000000e+000  9.97691711e-006 -2.49422928e-006 -9.31553543e-270]\n"
     ]
    },
    {
     "data": {
      "text/plain": [
       "(5.013196031764734, 380)"
      ]
     },
     "execution_count": 158,
     "metadata": {},
     "output_type": "execute_result"
    }
   ],
   "source": [
    "modifiedTH1(A.copy(), y.copy(), 1e-5)  # không hội tụ, thật là vl. "
   ]
  },
  {
   "cell_type": "markdown",
   "id": "computational-choice",
   "metadata": {},
   "source": [
    "## TH3: Trị riêng thực bội 2 và trái dấu"
   ]
  },
  {
   "cell_type": "markdown",
   "id": "divided-duration",
   "metadata": {},
   "source": [
    "- Đầu tiên, tính trị riêng trước. Lập luận như trên, công thức tính là: \n",
    "\\begin{align}\n",
    "\\frac{(A^{2k+2}y)_j}{(A^{2k}y)_j} = \\lambda_{1}^{2}, \\qquad j = \\overline{1, n}\n",
    "\\end{align}"
   ]
  },
  {
   "cell_type": "markdown",
   "id": "minute-siemens",
   "metadata": {},
   "source": [
    "- Sau đó, tính hai véc tơ riêng $x_1$ và $x_2$ theo công thức như sau:"
   ]
  },
  {
   "cell_type": "code",
   "execution_count": 159,
   "id": "integrated-office",
   "metadata": {},
   "outputs": [],
   "source": [
    "def TH3(A, y, eps): \n",
    "    # hai giá trị lặp đầu tiên. \n",
    "    Ay_0 = np.matmul(A, y)\n",
    "    Ay_0 = Ay_0 / abs(Ay_0).max()  # chú ý: lấy hệ số lớn nhất theo trị tuyệt đối.\n",
    "    Ay_1 = np.matmul(A, Ay_0)\n",
    "    Ay_1 = Ay_1 / abs(Ay_1).max()  # chú ý: lấy hệ số lớn nhất theo trị tuyệt đối.\n",
    "    Ay_2 = np.matmul(A, Ay_1)\n",
    "    Ay_2 = Ay_2 / abs(Ay_2).max()  # chú ý: lấy hệ số lớn nhất theo trị tuyệt đối.\n",
    "    \n",
    "    iter =  1 \n",
    "    \n",
    "    difVector = Ay_2 - Ay_0 \n",
    "    \n",
    "    print('iter = %d, difVector =' % (iter), end='  ')\n",
    "    print(difVector)\n",
    "    \n",
    "    while abs(difVector).max() >= eps: \n",
    "        # cập nhật lại số vòng lặp \n",
    "        iter += 1\n",
    "        \n",
    "        # cập nhật lại 3 giá trị, mỗi giá trị nhảy lên 2 giá trị kế tiếp. \n",
    "        Ay_0 = Ay_2.copy()\n",
    "        Ay_1 = np.matmul(A, Ay_2)\n",
    "        Ay_1 = Ay_1 / abs(Ay_1).max()\n",
    "        Ay_2 = np.matmul(A, Ay_1)\n",
    "        Ay_2 = Ay_2 / abs(Ay_2).max()\n",
    "        \n",
    "        difVector = Ay_2 - Ay_0 \n",
    "        \n",
    "        print('iter = %d, difVector =' % (iter), end='  ')\n",
    "        print(difVector)\n",
    "        \n",
    "    # Tính trị riêng trội.\n",
    "    Ay_1 = Ay_2.copy()\n",
    "    Ay_2 = np.matmul(A, Ay_2)\n",
    "    lambdaVector = Ay_2 / Ay_1\n",
    "        \n",
    "#     lambda_square = lamdaVector.max()\n",
    "    \n",
    "#     lambda_1 = math.sqrt(lambda_square)\n",
    "#     x1 = Ay_2 + lambda_1 * Ay_1  \n",
    "    \n",
    "#     lambda_2 = -math.sqrt(lambda_square)\n",
    "#     x2 = Ay_2 + lambda_2 * Ay_1  \n",
    "        \n",
    "    return lambdaVector.max()"
   ]
  },
  {
   "cell_type": "code",
   "execution_count": 162,
   "id": "comic-accessory",
   "metadata": {},
   "outputs": [],
   "source": [
    "B = np.array([[13, 0, 0], \n",
    "              [0, -13, 0], \n",
    "              [0, 0, -2]], dtype='float')\n",
    "b = np.array([1, 1, 1], dtype='float'); eps=1e-3"
   ]
  },
  {
   "cell_type": "code",
   "execution_count": 164,
   "id": "musical-tomato",
   "metadata": {},
   "outputs": [
    {
     "data": {
      "text/plain": [
       "(array([ 13., -13.,  -2.]),\n",
       " array([[1., 0., 0.],\n",
       "        [0., 1., 0.],\n",
       "        [0., 0., 1.]]))"
      ]
     },
     "execution_count": 164,
     "metadata": {},
     "output_type": "execute_result"
    }
   ],
   "source": [
    "np.linalg.eig(B)"
   ]
  },
  {
   "cell_type": "code",
   "execution_count": 163,
   "id": "ranging-intent",
   "metadata": {},
   "outputs": [
    {
     "name": "stdout",
     "output_type": "stream",
     "text": [
      "iter = 1, difVector =  [0.         0.         0.15020482]\n",
      "iter = 2, difVector =  [0.         0.         0.00355514]\n",
      "iter = 3, difVector =  [0.00000000e+00 0.00000000e+00 8.41454149e-05]\n"
     ]
    },
    {
     "data": {
      "text/plain": [
       "13.0"
      ]
     },
     "execution_count": 163,
     "metadata": {},
     "output_type": "execute_result"
    }
   ],
   "source": [
    "TH3(B.copy(), b.copy(), eps)  # lỗi, lambdaVector chưa lấy căn đã ra kết quả ngon rồi. "
   ]
  },
  {
   "cell_type": "markdown",
   "id": "fifty-adjustment",
   "metadata": {},
   "source": [
    "# Phương pháp xuống thang"
   ]
  },
  {
   "cell_type": "code",
   "execution_count": 18,
   "id": "advisory-lingerie",
   "metadata": {},
   "outputs": [],
   "source": [
    "A2 = np.diag((1, 2, 3))"
   ]
  },
  {
   "cell_type": "code",
   "execution_count": 20,
   "id": "hindu-taxation",
   "metadata": {},
   "outputs": [
    {
     "name": "stderr",
     "output_type": "stream",
     "text": [
      "<ipython-input-11-fa490f9f38d9>:23: RuntimeWarning: invalid value encountered in true_divide\n",
      "  lambda_vector = Ay_plus / Ay  # update lại lambda_vector\n"
     ]
    },
    {
     "data": {
      "text/plain": [
       "(1.0, array([          1,           0, -2133237029]), 81)"
      ]
     },
     "execution_count": 20,
     "metadata": {},
     "output_type": "execute_result"
    }
   ],
   "source": [
    "TH1(A2, y, eps)"
   ]
  },
  {
   "cell_type": "code",
   "execution_count": null,
   "id": "significant-string",
   "metadata": {},
   "outputs": [],
   "source": []
  }
 ],
 "metadata": {
  "kernelspec": {
   "display_name": "Python 3 (ipykernel)",
   "language": "python",
   "name": "python3"
  },
  "language_info": {
   "codemirror_mode": {
    "name": "ipython",
    "version": 3
   },
   "file_extension": ".py",
   "mimetype": "text/x-python",
   "name": "python",
   "nbconvert_exporter": "python",
   "pygments_lexer": "ipython3",
   "version": "3.8.3"
  }
 },
 "nbformat": 4,
 "nbformat_minor": 5
}
