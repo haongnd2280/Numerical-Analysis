{
 "cells": [
  {
   "cell_type": "markdown",
   "id": "unknown-compiler",
   "metadata": {},
   "source": [
    "# Ý tưởng phương pháp: "
   ]
  },
  {
   "cell_type": "markdown",
   "id": "handed-colonial",
   "metadata": {},
   "source": [
    "Biến đổi ma trận $A$ về ma trận đồng dạng Frobenius $P$ có định thức đơn giản hơn. "
   ]
  },
  {
   "cell_type": "markdown",
   "id": "infectious-mercy",
   "metadata": {},
   "source": [
    "# Ý tưởng thuật toán:"
   ]
  },
  {
   "cell_type": "markdown",
   "id": "shaped-excellence",
   "metadata": {},
   "source": [
    "- Trong các bước đều phải giả thiết $a_{i,i-1}^{(n-i+1)} \\neq 0$ (đường chéo ở ngay dưới đường chéo chính). Nêu bằng 0 thì có hai trường hợp xảy ra: \n",
    "1. Mọi phần tử trong hàng đó đứng trước nó đều bằng $0$. Khi đó chỉ cần biến đổi với ma trận cấp 3, cuối cùng, det nhân thêm với ($a_{44} - \\lambda$). \n",
    "2. Tạo ra ma trận $A' \\sim A$ có phần tử $a_{i,i-1}^{(n-i+1)} \\neq 0$ như sau: \n",
    "\\begin{align}\n",
    "A' = C^{-1}AC\n",
    "\\end{align}\n",
    "với $C = C^{-1}$ là ma trận hoán vị cột 2 và cột 3 với nhau. "
   ]
  },
  {
   "cell_type": "markdown",
   "id": "criminal-nudist",
   "metadata": {},
   "source": [
    "- Tìm véc tơ riêng: \n",
    "\\begin{align}\n",
    "Ax = \\lambda x\n",
    "\\end{align}\n",
    "với \n",
    "\\begin{align}\n",
    "x = M_{1}^{-1}M_{2}^{-1}M_{3}^{-1}y, \\quad y = [\\lambda^{n-1} \\quad \\lambda^{n-2} \\cdots \\quad \\lambda \\quad 1]^T\n",
    "\\end{align}\n",
    "với $n$ là cấp của ma trận vuông. "
   ]
  },
  {
   "cell_type": "markdown",
   "id": "aggregate-projection",
   "metadata": {},
   "source": [
    "- Với ma trận cấp n thì cần n - 1 phép biến đổi (dễ thấy vì đường chéo ngay dưới đường chéo chính có n - 1 phần tử)."
   ]
  },
  {
   "cell_type": "markdown",
   "id": "north-disease",
   "metadata": {},
   "source": [
    "- Vấn để là phải giải phương trình đa thức bậc n của ma trận Frobenius P để có các trị riêng trước đã, rồi sau đó mới có thể tìm được véc tơ riêng."
   ]
  },
  {
   "cell_type": "markdown",
   "id": "welcome-machinery",
   "metadata": {},
   "source": [
    "VD: \n",
    "    "
   ]
  },
  {
   "cell_type": "code",
   "execution_count": 2,
   "id": "executive-clinic",
   "metadata": {},
   "outputs": [],
   "source": [
    "import numpy as np "
   ]
  },
  {
   "cell_type": "code",
   "execution_count": 6,
   "id": "sapphire-gross",
   "metadata": {},
   "outputs": [],
   "source": [
    "C = np.array([[1, 0, 0, 0], \n",
    "              [0, 0, 1, 0], \n",
    "              [0, 1, 0, 0], \n",
    "              [0, 0, 0, 1]], dtype='float')"
   ]
  },
  {
   "cell_type": "code",
   "execution_count": 7,
   "id": "familiar-relay",
   "metadata": {},
   "outputs": [
    {
     "data": {
      "text/plain": [
       "array([[1., 0., 0., 0.],\n",
       "       [0., 0., 1., 0.],\n",
       "       [0., 1., 0., 0.],\n",
       "       [0., 0., 0., 1.]])"
      ]
     },
     "execution_count": 7,
     "metadata": {},
     "output_type": "execute_result"
    }
   ],
   "source": [
    "np.linalg.inv(C)"
   ]
  },
  {
   "cell_type": "code",
   "execution_count": 8,
   "id": "bright-decade",
   "metadata": {},
   "outputs": [
    {
     "data": {
      "text/plain": [
       "array([[1., 0., 0., 0.],\n",
       "       [0., 1., 0., 0.],\n",
       "       [0., 0., 1., 0.],\n",
       "       [0., 0., 0., 1.]])"
      ]
     },
     "execution_count": 8,
     "metadata": {},
     "output_type": "execute_result"
    }
   ],
   "source": [
    "np.matmul(C, C)"
   ]
  },
  {
   "cell_type": "code",
   "execution_count": 10,
   "id": "radical-preliminary",
   "metadata": {},
   "outputs": [
    {
     "data": {
      "text/plain": [
       "array([[1., 0., 0., 0.],\n",
       "       [0., 1., 0., 0.],\n",
       "       [0., 0., 1., 0.],\n",
       "       [0., 0., 0., 1.]])"
      ]
     },
     "execution_count": 10,
     "metadata": {},
     "output_type": "execute_result"
    }
   ],
   "source": [
    "np.identity(4)"
   ]
  },
  {
   "cell_type": "code",
   "execution_count": 14,
   "id": "straight-paris",
   "metadata": {},
   "outputs": [],
   "source": [
    "M1 = np.array([[1, 0, 0, 0], \n",
    "               [0, 1, 0, 0], \n",
    "               [4, 3, 2, 1], \n",
    "               [0, 0, 0, 1]], dtype='float')"
   ]
  },
  {
   "cell_type": "code",
   "execution_count": 15,
   "id": "upset-wallet",
   "metadata": {},
   "outputs": [
    {
     "data": {
      "text/plain": [
       "array([[ 1. ,  0. ,  0. ,  0. ],\n",
       "       [ 0. ,  1. ,  0. ,  0. ],\n",
       "       [-2. , -1.5,  0.5, -0.5],\n",
       "       [ 0. ,  0. ,  0. ,  1. ]])"
      ]
     },
     "execution_count": 15,
     "metadata": {},
     "output_type": "execute_result"
    }
   ],
   "source": [
    "np.linalg.inv(M1)"
   ]
  },
  {
   "cell_type": "code",
   "execution_count": null,
   "id": "abstract-viking",
   "metadata": {},
   "outputs": [],
   "source": []
  },
  {
   "cell_type": "code",
   "execution_count": null,
   "id": "sixth-termination",
   "metadata": {},
   "outputs": [],
   "source": []
  },
  {
   "cell_type": "code",
   "execution_count": null,
   "id": "relevant-requirement",
   "metadata": {},
   "outputs": [],
   "source": []
  },
  {
   "cell_type": "markdown",
   "id": "auburn-maryland",
   "metadata": {},
   "source": [
    "# Thực hiện chương trình"
   ]
  },
  {
   "cell_type": "code",
   "execution_count": 93,
   "id": "amazing-andrew",
   "metadata": {},
   "outputs": [],
   "source": [
    "def Danielevski(A): \n",
    "    n = len(A)\n",
    "    M = np.identity(n)\n",
    "    \n",
    "    # vòng lặp các phần tử đường chéo ai,i-1: \n",
    "    for i in range(n - 1, 0, -1):\n",
    "        # nếu ai,i-1 = 0: \n",
    "        if A[i, i - 1] == 0: \n",
    "            print(\"A[%d, %d] = 0. Cần hoán đổi cột.\" %(i, i - 1))\n",
    "            flag = False  # cờ hiệu, True nếu đổi được cột, False nếu không có cột đổi.\n",
    "            \n",
    "            for j in range(i - 2, -1, -1): \n",
    "                if A[i, j] != 0: \n",
    "                    flag = True \n",
    "                    A[:,[i, j]] = A[:,[j, i]]  # đổi chỗ cột thứ i và cột thứ j cho nhau. \n",
    "                    A[[i, j],:] = A[[j, i],:]  # đổi chỗ hàng thứ i và hàng thứ j cho nhau. \n",
    "                    break \n",
    "             \n",
    "            # TH1: Có phần tử đứng trước nó trong hàng đó # 0.\n",
    "            if flag == True: \n",
    "                Mi = np.identity(n)\n",
    "                # cho hàng thứ i của ma trận A lên một hàng vào ma trận M_i. \n",
    "                Mi[i - 1] = A[i]\n",
    "                invMi = np.linalg.inv(Mi)\n",
    "            \n",
    "                # nhân M với invMi \n",
    "                M = np.matmul(M, invMi)\n",
    "            \n",
    "                A = np.matmul(A, invMi)\n",
    "                A = np.matmul(Mi, A)\n",
    "            \n",
    "                print('A(%d) = :' %(n - i + 1))\n",
    "                print(A)\n",
    "                \n",
    "\n",
    "            # TH2: mọi phần tử đứng trước nó trong hàng đó đều bằng 0.\n",
    "            else: \n",
    "                print(\"\\nMọi phần tử đứng trước A[%d, %d] trong hàng %d đều bằng 0.\" %(i, i - 1, i))\n",
    "                pass # lúc này, phải thu nhỏ ma trận lại hơn. \n",
    "            \n",
    "        # nếu ai,i-1 # 0:     \n",
    "        else: \n",
    "            Mi = np.identity(n)\n",
    "            # cho hàng thứ i của ma trận A lên một hàng vào ma trận M_i. \n",
    "            Mi[i - 1] = A[i]\n",
    "            invMi = np.linalg.inv(Mi)\n",
    "            \n",
    "            # nhân M với invMi \n",
    "            M = np.matmul(M, invMi)\n",
    "            \n",
    "            A = np.matmul(A, invMi)\n",
    "            A = np.matmul(Mi, A)\n",
    "            \n",
    "            print('A(%d) = :' %(n - i + 1))\n",
    "            print(A)\n",
    "            \n",
    "    # thêm hệ số vào mảng coeff - đa thức đặc trưng. (hàng đầu tiên của A).         \n",
    "    coeff = np.array([])\n",
    "    coeff = np.append(coeff, 1)\n",
    "    for i in range(n): \n",
    "        coeff = np.append(coeff, -A[0][i])\n",
    "    print('\\nDa thuc dac trung la: ')\n",
    "    print(coeff)\n",
    "            \n",
    "    # tìm nghiệm của đa thức đặc trưng - tương ứng với các trị riêng lambda. \n",
    "    roots = np.roots(coeff)\n",
    "    print(\"\\nNghiệm (trị riêng) của đa thức đặc trưng là: \")\n",
    "    print(roots)\n",
    "    print()\n",
    "            \n",
    "    # tìm các véc tơ riêng tương ứng với các giá trị riêng vừa tìm được ở trên. \n",
    "    for e in roots: \n",
    "        y = np.zeros(n)\n",
    "    \n",
    "        for i in range(n): \n",
    "            y[i] = e**(n - 1 - i)\n",
    "        \n",
    "        eigvec = np.matmul(M, y)\n",
    "        print(e, eigvec)  # in cặp giá trị riêng - véc tơ riêng ra màn hình. \n",
    "\n",
    "    return A, M"
   ]
  },
  {
   "cell_type": "markdown",
   "id": "unlikely-village",
   "metadata": {},
   "source": [
    "VD1 (SGK):"
   ]
  },
  {
   "cell_type": "code",
   "execution_count": 90,
   "id": "acknowledged-shuttle",
   "metadata": {},
   "outputs": [],
   "source": [
    "A1 = np.array([[1, 2, 3, 4], \n",
    "              [2, 1, 2, 3], \n",
    "              [3, 2, 1, 2], \n",
    "              [4, 3, 2, 1]], dtype='float')"
   ]
  },
  {
   "cell_type": "code",
   "execution_count": 92,
   "id": "demographic-shelf",
   "metadata": {},
   "outputs": [
    {
     "name": "stdout",
     "output_type": "stream",
     "text": [
      "A(2) = :\n",
      "[[ -5.   -2.5   1.5   2.5]\n",
      " [ -2.   -2.    1.    2. ]\n",
      " [-24.  -15.   11.   19. ]\n",
      " [  0.    0.    1.    0. ]]\n",
      "A(3) = :\n",
      "[[-1.00000000e+00  1.66666667e-01 -3.33333333e-01 -6.66666667e-01]\n",
      " [ 6.00000000e+00  5.00000000e+00  3.40000000e+01  2.40000000e+01]\n",
      " [ 0.00000000e+00  1.00000000e+00  0.00000000e+00 -8.88178420e-16]\n",
      " [ 0.00000000e+00  0.00000000e+00  1.00000000e+00  0.00000000e+00]]\n",
      "A(4) = :\n",
      "[[ 4.0000000e+00  4.0000000e+01  5.6000000e+01  2.0000000e+01]\n",
      " [ 1.0000000e+00  0.0000000e+00  0.0000000e+00  0.0000000e+00]\n",
      " [ 0.0000000e+00  1.0000000e+00  0.0000000e+00 -8.8817842e-16]\n",
      " [ 0.0000000e+00  0.0000000e+00  1.0000000e+00  0.0000000e+00]]\n",
      "\n",
      "Da thuc dac trung la: \n",
      "[  1.  -4. -40. -56. -20.]\n",
      "\n",
      "Nghiệm (trị riêng) của đa thức đặc trưng là: \n",
      "[ 9.09901951 -3.41421356 -1.09901951 -0.58578644]\n",
      "\n",
      "9.099019513592784 [1.        0.8198039 0.8198039 1.       ]\n",
      "-3.414213562373094 [-1.         -0.41421356  0.41421356  1.        ]\n",
      "-1.0990195135927874 [ 1.        -1.2198039 -1.2198039  1.       ]\n",
      "-0.5857864376269025 [-1.          2.41421356 -2.41421356  1.        ]\n"
     ]
    }
   ],
   "source": [
    "A1, M1 = Danielevski(A1)"
   ]
  },
  {
   "cell_type": "markdown",
   "id": "developed-obligation",
   "metadata": {},
   "source": [
    "VD2: "
   ]
  },
  {
   "cell_type": "code",
   "execution_count": 94,
   "id": "cardiovascular-chuck",
   "metadata": {},
   "outputs": [],
   "source": [
    "A2 = np.array([[1, -2, 1, 2, 3], \n",
    "               [-2, 3, 4, 5, 6], \n",
    "               [0, 0, 1, -2, 1], \n",
    "               [0, 0, 1, 0, 0], \n",
    "               [0, 0, 0, 1, 0]], dtype='float')"
   ]
  },
  {
   "cell_type": "code",
   "execution_count": 95,
   "id": "immediate-sunglasses",
   "metadata": {},
   "outputs": [
    {
     "name": "stdout",
     "output_type": "stream",
     "text": [
      "A(2) = :\n",
      "[[ 1. -2.  1.  2.  3.]\n",
      " [-2.  3.  4.  5.  6.]\n",
      " [ 0.  0.  1. -2.  1.]\n",
      " [ 0.  0.  1.  0.  0.]\n",
      " [ 0.  0.  0.  1.  0.]]\n",
      "A(3) = :\n",
      "[[ 1. -2.  1.  2.  3.]\n",
      " [-2.  3.  4.  5.  6.]\n",
      " [ 0.  0.  1. -2.  1.]\n",
      " [ 0.  0.  1.  0.  0.]\n",
      " [ 0.  0.  0.  1.  0.]]\n",
      "A[2, 1] = 0. Cần hoán đổi cột.\n",
      "\n",
      "Mọi phần tử đứng trước A[2, 1] trong hàng 2 đều bằng 0.\n",
      "A(5) = :\n",
      "[[  4.   1.   3. -11.  -8.]\n",
      " [  1.   0.   0.   0.   0.]\n",
      " [  0.   0.   1.  -2.   1.]\n",
      " [  0.   0.   1.   0.   0.]\n",
      " [  0.   0.   0.   1.   0.]]\n",
      "\n",
      "Da thuc dac trung la: \n",
      "[ 1. -4. -1. -3. 11.  8.]\n",
      "\n",
      "Nghiệm (trị riêng) của đa thức đặc trưng là: \n",
      "[ 4.23371588+0.j         1.54937064+0.j        -0.59325399+1.3009047j\n",
      " -0.59325399-1.3009047j -0.59657853+0.j       ]\n",
      "\n",
      "(4.233715878607509+0j) [ 2.6217347  75.8866058  17.92435014  4.23371588  1.        ]\n",
      "(1.5493706385506392+0j) [14.37221777  3.71934072  2.40054938  1.54937064  1.        ]\n",
      "(-0.5932539936506764+1.3009046968604585j) [ 3.33375263  2.80318966 -1.34040273 -0.59325399  1.        ]\n",
      "(-0.5932539936506764-1.3009046968604585j) [ 3.33375263  2.80318966 -1.34040273 -0.59325399  1.        ]\n",
      "(-0.5965785298567918+0j) [ 1.83854227 -0.21232584  0.35590594 -0.59657853  1.        ]\n"
     ]
    },
    {
     "name": "stderr",
     "output_type": "stream",
     "text": [
      "<ipython-input-93-9e7b655cdfee>:76: ComplexWarning: Casting complex values to real discards the imaginary part\n",
      "  y[i] = e**(n - 1 - i)\n"
     ]
    }
   ],
   "source": [
    "A2, M2 = Danielevski(A2)"
   ]
  },
  {
   "cell_type": "code",
   "execution_count": null,
   "id": "hybrid-surge",
   "metadata": {},
   "outputs": [],
   "source": []
  }
 ],
 "metadata": {
  "kernelspec": {
   "display_name": "Python 3",
   "language": "python",
   "name": "python3"
  },
  "language_info": {
   "codemirror_mode": {
    "name": "ipython",
    "version": 3
   },
   "file_extension": ".py",
   "mimetype": "text/x-python",
   "name": "python",
   "nbconvert_exporter": "python",
   "pygments_lexer": "ipython3",
   "version": "3.8.3"
  }
 },
 "nbformat": 4,
 "nbformat_minor": 5
}
