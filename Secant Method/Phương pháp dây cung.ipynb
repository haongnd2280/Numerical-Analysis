{
 "cells": [
  {
   "cell_type": "code",
   "execution_count": null,
   "id": "continent-nicholas",
   "metadata": {},
   "outputs": [],
   "source": [
    "import numpy as np "
   ]
  },
  {
   "cell_type": "markdown",
   "id": "pointed-burning",
   "metadata": {},
   "source": [
    "# Tóm tắt lý thuyết: "
   ]
  },
  {
   "cell_type": "markdown",
   "id": "younger-playing",
   "metadata": {},
   "source": [
    "- Ta vẫn phải xác định trước khoảng phân ly nghiệm [a, b] của phương trình f(x). \n",
    "- "
   ]
  },
  {
   "cell_type": "markdown",
   "id": "frank-andrew",
   "metadata": {},
   "source": [
    "# Ý tưởng thuật toán: "
   ]
  },
  {
   "cell_type": "markdown",
   "id": "radio-hearing",
   "metadata": {},
   "source": [
    "- Có hai công thức sai số, cần tính toán theo hai công thức sai số đó. "
   ]
  },
  {
   "cell_type": "markdown",
   "id": "minor-arrest",
   "metadata": {},
   "source": [
    "# Thực hiện chương trình: "
   ]
  },
  {
   "cell_type": "code",
   "execution_count": 4,
   "id": "alone-butter",
   "metadata": {},
   "outputs": [],
   "source": [
    "def f(x): \n",
    "    return x**3 - 0.2*x**2 - 0.2 * x - 1.2"
   ]
  },
  {
   "cell_type": "code",
   "execution_count": 5,
   "id": "cooperative-sociology",
   "metadata": {},
   "outputs": [],
   "source": [
    "def df(x): \n",
    "    return 3 * x**2 - 0.4 * x - 0.2 "
   ]
  },
  {
   "cell_type": "code",
   "execution_count": 6,
   "id": "automotive-nightmare",
   "metadata": {},
   "outputs": [],
   "source": [
    "def dff(x): \n",
    "    return 6 * x - 0.4 "
   ]
  },
  {
   "cell_type": "markdown",
   "id": "undefined-right",
   "metadata": {},
   "source": [
    "### Hàm tìm giá trị tuyệt đối của min và max trên [a, b] đơn điệu: (là hai đầu mút luôn)"
   ]
  },
  {
   "cell_type": "code",
   "execution_count": 7,
   "id": "indie-intersection",
   "metadata": {},
   "outputs": [],
   "source": [
    "def exValues(a, b): \n",
    "    if abs(df(a)) > abs(df(b)): \n",
    "        M1 = abs(df(a))\n",
    "        m1 = abs(df(b))\n",
    "    else: \n",
    "        M1 = abs(df(b))\n",
    "        m1 = abs(df(a))\n",
    "        \n",
    "    return M1, m1"
   ]
  },
  {
   "cell_type": "markdown",
   "id": "sought-copyright",
   "metadata": {},
   "source": [
    "### Hàm chọn x0 và d: "
   ]
  },
  {
   "cell_type": "code",
   "execution_count": 8,
   "id": "distinct-holiday",
   "metadata": {},
   "outputs": [],
   "source": [
    "def ChoosePoints(a, b): \n",
    "    if f(a) * dff(a) < 0: \n",
    "        x0 = a\n",
    "        d = b\n",
    "    else: \n",
    "        x0 = b \n",
    "        d = a\n",
    "        \n",
    "    return x0, d"
   ]
  },
  {
   "cell_type": "markdown",
   "id": "acquired-zealand",
   "metadata": {},
   "source": [
    "### Hai công thức sai số là: "
   ]
  },
  {
   "cell_type": "markdown",
   "id": "alive-terror",
   "metadata": {},
   "source": [
    "Công thức 1: (Sai số tiên nghiệm)\n",
    "\\begin{equation}\n",
    "|\\alpha - x_n| \\leq \\frac{M_1 - m_1}{m_1}|x_n - x_{n-1}| \\qquad M_1 = \\max_{x \\in [a, b]}|f'(x)|, \\quad m_1 = \\min_{x \\in [a, b]}|f'(x)|\n",
    "\\end{equation}"
   ]
  },
  {
   "cell_type": "markdown",
   "id": "arranged-custody",
   "metadata": {},
   "source": [
    "Công thức 2: (sai số hậu nghiệm)\n",
    "\\begin{equation}\n",
    "|\\alpha - \\hat{x}| \\leq \\frac{|f'(\\hat{x})|}{m_1}\n",
    "\\end{equation}"
   ]
  },
  {
   "cell_type": "markdown",
   "id": "raising-grain",
   "metadata": {},
   "source": [
    "### Hàm thực thi chính: (ta sẽ mới chỉ xét theo công thức 2, công thức 1 để hỏi cô)"
   ]
  },
  {
   "cell_type": "code",
   "execution_count": 16,
   "id": "democratic-mobility",
   "metadata": {},
   "outputs": [],
   "source": [
    "def SecantMethod(a, b, eps):\n",
    "    M1, m1 = exValues(a, b)\n",
    "    x0, d = ChoosePoints(a, b)\n",
    "    iter = 0\n",
    "    \n",
    "    print(\"x0 = %.15f\" %(x0))\n",
    "    print(\"d = %.15f\" %(d))\n",
    "    \n",
    "    print(\"Ban muon thuc hien theo cong thuc sai so 1 hay 2: \")\n",
    "    choice = int(input())\n",
    "    \n",
    "    if choice == 1: \n",
    "        x_new = x0 - (d - x0) * f(x0) / (f(d) - f(x0)) \n",
    "        while (M1 - m1) * abs(x_new - x0) / m1 >= eps: \n",
    "            x0 = x_new   \n",
    "            x_new = x0 - (d - x0) * f(x0) / (f(d) - f(x0))  \n",
    "            iter += 1\n",
    "        \n",
    "            print(\"iter = %5d,   x = %.15f,   f(x) = %.15f,   x_new = %.15f\" %(iter, x0, f(x0), x_new))\n",
    "        return x_new\n",
    "        \n",
    "    else: \n",
    "        x_new = x0 - (d - x0) * f(x0) / (f(d) - f(x0))  # với công thức 2, chỉ cần một biến x để update giá trị => biến x0 k cần đến.\n",
    "        while (abs(f(x_new)) / m1 >= eps): \n",
    "            x0 = x_new   \n",
    "            x_new = x0 - (d - x0) * f(x0) / (f(d) - f(x0))  \n",
    "            iter += 1\n",
    "        \n",
    "            print(\"iter = %5d,   x = %.15f,   f(x) = %.15f,   x_new = %.15f\" %(iter, x0, f(x0), x_new))\n",
    "        \n",
    "        return x_new "
   ]
  },
  {
   "cell_type": "markdown",
   "id": "rational-disposition",
   "metadata": {},
   "source": [
    "### Thực thi chương trình: "
   ]
  },
  {
   "cell_type": "markdown",
   "id": "hidden-playing",
   "metadata": {},
   "source": [
    "Ví dụ 1: f(x) = x^3 - 0.2x^2 - 0.2x - 1.2 trên đoạn [1, 1.5], eps = 0.003. Chú ý: ở đây mặc định [a, b] đã đơn điệu dấu đối với f' và f'', f(a) và f(b) trái dấu nhau. "
   ]
  },
  {
   "cell_type": "code",
   "execution_count": 15,
   "id": "familiar-discussion",
   "metadata": {},
   "outputs": [
    {
     "name": "stdout",
     "output_type": "stream",
     "text": [
      "Nhap vao can duoi a: \n",
      "1\n",
      "Nhap vao can tren b: \n",
      "1.5\n",
      "Nhap vao sai so epsilon: \n",
      "0.003\n",
      "x0 = 1.000000000000000\n",
      "d = 1.500000000000000\n",
      "Ban muon thuc hien theo cong thuc sai so 1 hay 2: \n",
      "1\n",
      "iter =     1,   x = 1.148148148148148,   f(x) = -0.179738860945994,   x_new = 1.187557333413537\n",
      "iter =     2,   x = 1.187557333413537,   f(x) = -0.044766844911707,   x_new = 1.197073858056408\n",
      "iter =     3,   x = 1.197073858056408,   f(x) = -0.010622069886508,   x_new = 1.199315187942364\n",
      "iter =     4,   x = 1.199315187942364,   f(x) = -0.002491121721264,   x_new = 1.199839914474931\n"
     ]
    },
    {
     "data": {
      "text/plain": [
       "1.1998399144749314"
      ]
     },
     "execution_count": 15,
     "metadata": {},
     "output_type": "execute_result"
    }
   ],
   "source": [
    "print(\"Nhap vao can duoi a: \")\n",
    "a = float(input())\n",
    "print(\"Nhap vao can tren b: \")\n",
    "b = float(input())\n",
    "print(\"Nhap vao sai so epsilon: \")\n",
    "eps = float(input())\n",
    "\n",
    "SecantMethod(a, b, eps)"
   ]
  },
  {
   "cell_type": "code",
   "execution_count": null,
   "id": "individual-spouse",
   "metadata": {},
   "outputs": [],
   "source": []
  }
 ],
 "metadata": {
  "kernelspec": {
   "display_name": "Python 3",
   "language": "python",
   "name": "python3"
  },
  "language_info": {
   "codemirror_mode": {
    "name": "ipython",
    "version": 3
   },
   "file_extension": ".py",
   "mimetype": "text/x-python",
   "name": "python",
   "nbconvert_exporter": "python",
   "pygments_lexer": "ipython3",
   "version": "3.8.3"
  }
 },
 "nbformat": 4,
 "nbformat_minor": 5
}
